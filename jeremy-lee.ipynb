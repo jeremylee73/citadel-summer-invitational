{
 "cells": [
  {
   "cell_type": "code",
   "execution_count": 58,
   "metadata": {},
   "outputs": [],
   "source": [
    "import pandas as pd\n",
    "import numpy as np\n",
    "from scipy import stats\n",
    "\n",
    "import missingno as msno\n",
    "\n",
    "import seaborn as sns\n",
    "sns.set(rc={'figure.figsize':(11.7,8.27)})\n",
    "\n",
    "import warnings\n",
    "warnings.filterwarnings('ignore')"
   ]
  },
  {
   "cell_type": "code",
   "execution_count": 2,
   "metadata": {},
   "outputs": [
    {
     "name": "stderr",
     "output_type": "stream",
     "text": [
      "/Users/jeremylee/opt/anaconda3/lib/python3.8/site-packages/IPython/core/interactiveshell.py:3071: DtypeWarning: Columns (19,59,118,129,130,131,134,135,136,139,145,146,147) have mixed types.Specify dtype option on import or set low_memory=False.\n",
      "  has_raised = await self.run_ast_nodes(code_ast.body, cell_name,\n"
     ]
    },
    {
     "name": "stdout",
     "output_type": "stream",
     "text": [
      "(2029952, 151)\n"
     ]
    },
    {
     "data": {
      "text/html": [
       "<div>\n",
       "<style scoped>\n",
       "    .dataframe tbody tr th:only-of-type {\n",
       "        vertical-align: middle;\n",
       "    }\n",
       "\n",
       "    .dataframe tbody tr th {\n",
       "        vertical-align: top;\n",
       "    }\n",
       "\n",
       "    .dataframe thead th {\n",
       "        text-align: right;\n",
       "    }\n",
       "</style>\n",
       "<table border=\"1\" class=\"dataframe\">\n",
       "  <thead>\n",
       "    <tr style=\"text-align: right;\">\n",
       "      <th></th>\n",
       "      <th>id</th>\n",
       "      <th>member_id</th>\n",
       "      <th>loan_amnt</th>\n",
       "      <th>funded_amnt</th>\n",
       "      <th>funded_amnt_inv</th>\n",
       "      <th>term</th>\n",
       "      <th>int_rate</th>\n",
       "      <th>installment</th>\n",
       "      <th>grade</th>\n",
       "      <th>sub_grade</th>\n",
       "      <th>...</th>\n",
       "      <th>hardship_payoff_balance_amount</th>\n",
       "      <th>hardship_last_payment_amount</th>\n",
       "      <th>disbursement_method</th>\n",
       "      <th>debt_settlement_flag</th>\n",
       "      <th>debt_settlement_flag_date</th>\n",
       "      <th>settlement_status</th>\n",
       "      <th>settlement_date</th>\n",
       "      <th>settlement_amount</th>\n",
       "      <th>settlement_percentage</th>\n",
       "      <th>settlement_term</th>\n",
       "    </tr>\n",
       "  </thead>\n",
       "  <tbody>\n",
       "    <tr>\n",
       "      <th>0</th>\n",
       "      <td>68407277</td>\n",
       "      <td>NaN</td>\n",
       "      <td>3600.0</td>\n",
       "      <td>3600.0</td>\n",
       "      <td>3600.0</td>\n",
       "      <td>36 months</td>\n",
       "      <td>13.99</td>\n",
       "      <td>123.03</td>\n",
       "      <td>C</td>\n",
       "      <td>C4</td>\n",
       "      <td>...</td>\n",
       "      <td>NaN</td>\n",
       "      <td>NaN</td>\n",
       "      <td>Cash</td>\n",
       "      <td>N</td>\n",
       "      <td>NaN</td>\n",
       "      <td>NaN</td>\n",
       "      <td>NaN</td>\n",
       "      <td>NaN</td>\n",
       "      <td>NaN</td>\n",
       "      <td>NaN</td>\n",
       "    </tr>\n",
       "    <tr>\n",
       "      <th>1</th>\n",
       "      <td>68355089</td>\n",
       "      <td>NaN</td>\n",
       "      <td>24700.0</td>\n",
       "      <td>24700.0</td>\n",
       "      <td>24700.0</td>\n",
       "      <td>36 months</td>\n",
       "      <td>11.99</td>\n",
       "      <td>820.28</td>\n",
       "      <td>C</td>\n",
       "      <td>C1</td>\n",
       "      <td>...</td>\n",
       "      <td>NaN</td>\n",
       "      <td>NaN</td>\n",
       "      <td>Cash</td>\n",
       "      <td>N</td>\n",
       "      <td>NaN</td>\n",
       "      <td>NaN</td>\n",
       "      <td>NaN</td>\n",
       "      <td>NaN</td>\n",
       "      <td>NaN</td>\n",
       "      <td>NaN</td>\n",
       "    </tr>\n",
       "    <tr>\n",
       "      <th>2</th>\n",
       "      <td>68341763</td>\n",
       "      <td>NaN</td>\n",
       "      <td>20000.0</td>\n",
       "      <td>20000.0</td>\n",
       "      <td>20000.0</td>\n",
       "      <td>60 months</td>\n",
       "      <td>10.78</td>\n",
       "      <td>432.66</td>\n",
       "      <td>B</td>\n",
       "      <td>B4</td>\n",
       "      <td>...</td>\n",
       "      <td>NaN</td>\n",
       "      <td>NaN</td>\n",
       "      <td>Cash</td>\n",
       "      <td>N</td>\n",
       "      <td>NaN</td>\n",
       "      <td>NaN</td>\n",
       "      <td>NaN</td>\n",
       "      <td>NaN</td>\n",
       "      <td>NaN</td>\n",
       "      <td>NaN</td>\n",
       "    </tr>\n",
       "    <tr>\n",
       "      <th>3</th>\n",
       "      <td>66310712</td>\n",
       "      <td>NaN</td>\n",
       "      <td>35000.0</td>\n",
       "      <td>35000.0</td>\n",
       "      <td>35000.0</td>\n",
       "      <td>60 months</td>\n",
       "      <td>14.85</td>\n",
       "      <td>829.90</td>\n",
       "      <td>C</td>\n",
       "      <td>C5</td>\n",
       "      <td>...</td>\n",
       "      <td>NaN</td>\n",
       "      <td>NaN</td>\n",
       "      <td>Cash</td>\n",
       "      <td>N</td>\n",
       "      <td>NaN</td>\n",
       "      <td>NaN</td>\n",
       "      <td>NaN</td>\n",
       "      <td>NaN</td>\n",
       "      <td>NaN</td>\n",
       "      <td>NaN</td>\n",
       "    </tr>\n",
       "    <tr>\n",
       "      <th>4</th>\n",
       "      <td>68476807</td>\n",
       "      <td>NaN</td>\n",
       "      <td>10400.0</td>\n",
       "      <td>10400.0</td>\n",
       "      <td>10400.0</td>\n",
       "      <td>60 months</td>\n",
       "      <td>22.45</td>\n",
       "      <td>289.91</td>\n",
       "      <td>F</td>\n",
       "      <td>F1</td>\n",
       "      <td>...</td>\n",
       "      <td>NaN</td>\n",
       "      <td>NaN</td>\n",
       "      <td>Cash</td>\n",
       "      <td>N</td>\n",
       "      <td>NaN</td>\n",
       "      <td>NaN</td>\n",
       "      <td>NaN</td>\n",
       "      <td>NaN</td>\n",
       "      <td>NaN</td>\n",
       "      <td>NaN</td>\n",
       "    </tr>\n",
       "  </tbody>\n",
       "</table>\n",
       "<p>5 rows × 151 columns</p>\n",
       "</div>"
      ],
      "text/plain": [
       "         id  member_id  loan_amnt  funded_amnt  funded_amnt_inv        term  \\\n",
       "0  68407277        NaN     3600.0       3600.0           3600.0   36 months   \n",
       "1  68355089        NaN    24700.0      24700.0          24700.0   36 months   \n",
       "2  68341763        NaN    20000.0      20000.0          20000.0   60 months   \n",
       "3  66310712        NaN    35000.0      35000.0          35000.0   60 months   \n",
       "4  68476807        NaN    10400.0      10400.0          10400.0   60 months   \n",
       "\n",
       "   int_rate  installment grade sub_grade  ... hardship_payoff_balance_amount  \\\n",
       "0     13.99       123.03     C        C4  ...                            NaN   \n",
       "1     11.99       820.28     C        C1  ...                            NaN   \n",
       "2     10.78       432.66     B        B4  ...                            NaN   \n",
       "3     14.85       829.90     C        C5  ...                            NaN   \n",
       "4     22.45       289.91     F        F1  ...                            NaN   \n",
       "\n",
       "  hardship_last_payment_amount disbursement_method  debt_settlement_flag  \\\n",
       "0                          NaN                Cash                     N   \n",
       "1                          NaN                Cash                     N   \n",
       "2                          NaN                Cash                     N   \n",
       "3                          NaN                Cash                     N   \n",
       "4                          NaN                Cash                     N   \n",
       "\n",
       "  debt_settlement_flag_date settlement_status settlement_date  \\\n",
       "0                       NaN               NaN             NaN   \n",
       "1                       NaN               NaN             NaN   \n",
       "2                       NaN               NaN             NaN   \n",
       "3                       NaN               NaN             NaN   \n",
       "4                       NaN               NaN             NaN   \n",
       "\n",
       "  settlement_amount settlement_percentage settlement_term  \n",
       "0               NaN                   NaN             NaN  \n",
       "1               NaN                   NaN             NaN  \n",
       "2               NaN                   NaN             NaN  \n",
       "3               NaN                   NaN             NaN  \n",
       "4               NaN                   NaN             NaN  \n",
       "\n",
       "[5 rows x 151 columns]"
      ]
     },
     "metadata": {},
     "output_type": "display_data"
    },
    {
     "name": "stdout",
     "output_type": "stream",
     "text": [
      "(26132308, 9)\n"
     ]
    },
    {
     "data": {
      "text/html": [
       "<div>\n",
       "<style scoped>\n",
       "    .dataframe tbody tr th:only-of-type {\n",
       "        vertical-align: middle;\n",
       "    }\n",
       "\n",
       "    .dataframe tbody tr th {\n",
       "        vertical-align: top;\n",
       "    }\n",
       "\n",
       "    .dataframe thead th {\n",
       "        text-align: right;\n",
       "    }\n",
       "</style>\n",
       "<table border=\"1\" class=\"dataframe\">\n",
       "  <thead>\n",
       "    <tr style=\"text-align: right;\">\n",
       "      <th></th>\n",
       "      <th>Amount_Requested</th>\n",
       "      <th>Application_Date</th>\n",
       "      <th>Loan_Title</th>\n",
       "      <th>Risk_Score</th>\n",
       "      <th>Debt_to_Income_Ratio</th>\n",
       "      <th>Zip_Code</th>\n",
       "      <th>State</th>\n",
       "      <th>Employment_Length</th>\n",
       "      <th>Policy_Code</th>\n",
       "    </tr>\n",
       "  </thead>\n",
       "  <tbody>\n",
       "    <tr>\n",
       "      <th>0</th>\n",
       "      <td>1000.0</td>\n",
       "      <td>2016-04-01</td>\n",
       "      <td>other</td>\n",
       "      <td>NaN</td>\n",
       "      <td>2.69%</td>\n",
       "      <td>331xx</td>\n",
       "      <td>FL</td>\n",
       "      <td>&lt; 1 year</td>\n",
       "      <td>0.0</td>\n",
       "    </tr>\n",
       "    <tr>\n",
       "      <th>1</th>\n",
       "      <td>4000.0</td>\n",
       "      <td>2016-04-01</td>\n",
       "      <td>debt_consolidation</td>\n",
       "      <td>NaN</td>\n",
       "      <td>28.26%</td>\n",
       "      <td>834xx</td>\n",
       "      <td>ID</td>\n",
       "      <td>&lt; 1 year</td>\n",
       "      <td>0.0</td>\n",
       "    </tr>\n",
       "    <tr>\n",
       "      <th>2</th>\n",
       "      <td>5000.0</td>\n",
       "      <td>2016-04-01</td>\n",
       "      <td>moving</td>\n",
       "      <td>NaN</td>\n",
       "      <td>-1%</td>\n",
       "      <td>648xx</td>\n",
       "      <td>MO</td>\n",
       "      <td>NaN</td>\n",
       "      <td>0.0</td>\n",
       "    </tr>\n",
       "    <tr>\n",
       "      <th>3</th>\n",
       "      <td>1000.0</td>\n",
       "      <td>2016-04-01</td>\n",
       "      <td>moving</td>\n",
       "      <td>628.0</td>\n",
       "      <td>21.43%</td>\n",
       "      <td>380xx</td>\n",
       "      <td>TN</td>\n",
       "      <td>&lt; 1 year</td>\n",
       "      <td>0.0</td>\n",
       "    </tr>\n",
       "    <tr>\n",
       "      <th>4</th>\n",
       "      <td>3000.0</td>\n",
       "      <td>2016-04-01</td>\n",
       "      <td>Debt consolidation</td>\n",
       "      <td>NaN</td>\n",
       "      <td>8.49%</td>\n",
       "      <td>895xx</td>\n",
       "      <td>NV</td>\n",
       "      <td>2 years</td>\n",
       "      <td>2.0</td>\n",
       "    </tr>\n",
       "  </tbody>\n",
       "</table>\n",
       "</div>"
      ],
      "text/plain": [
       "   Amount_Requested Application_Date          Loan_Title  Risk_Score  \\\n",
       "0            1000.0       2016-04-01               other         NaN   \n",
       "1            4000.0       2016-04-01  debt_consolidation         NaN   \n",
       "2            5000.0       2016-04-01              moving         NaN   \n",
       "3            1000.0       2016-04-01              moving       628.0   \n",
       "4            3000.0       2016-04-01  Debt consolidation         NaN   \n",
       "\n",
       "  Debt_to_Income_Ratio Zip_Code State Employment_Length  Policy_Code  \n",
       "0                2.69%    331xx    FL          < 1 year          0.0  \n",
       "1               28.26%    834xx    ID          < 1 year          0.0  \n",
       "2                  -1%    648xx    MO               NaN          0.0  \n",
       "3               21.43%    380xx    TN          < 1 year          0.0  \n",
       "4                8.49%    895xx    NV           2 years          2.0  "
      ]
     },
     "metadata": {},
     "output_type": "display_data"
    }
   ],
   "source": [
    "# Reading data\n",
    "accepted = pd.read_csv('data/LC/Lending_Club_Accepted_2014_2018.csv')\n",
    "rejected = pd.read_csv('data/LC/Lending_Club_Rejected_2014_2018.csv')\n",
    "print(accepted.shape)\n",
    "display(accepted.head())\n",
    "print(rejected.shape)\n",
    "display(rejected.head())"
   ]
  },
  {
   "cell_type": "code",
   "execution_count": 12,
   "metadata": {},
   "outputs": [
    {
     "name": "stdout",
     "output_type": "stream",
     "text": [
      "Column: member_id, Proportion missing: 1.0\n",
      "Column: desc, Proportion missing: 0.9924397227126552\n",
      "Column: annual_inc_joint, Proportion missing: 0.9405355397566051\n",
      "Column: dti_joint, Proportion missing: 0.9405375102465477\n",
      "Column: verification_status_joint, Proportion missing: 0.9429887997351661\n",
      "Column: revol_bal_joint, Proportion missing: 0.9467869190995649\n",
      "Column: sec_app_fico_range_low, Proportion missing: 0.9467864264770792\n",
      "Column: sec_app_fico_range_high, Proportion missing: 0.9467864264770792\n",
      "Column: sec_app_earliest_cr_line, Proportion missing: 0.9467864264770792\n",
      "Column: sec_app_inq_last_6mths, Proportion missing: 0.9467864264770792\n",
      "Column: sec_app_mort_acc, Proportion missing: 0.9467864264770792\n",
      "Column: sec_app_open_acc, Proportion missing: 0.9467864264770792\n",
      "Column: sec_app_revol_util, Proportion missing: 0.9476913739832272\n",
      "Column: sec_app_open_act_il, Proportion missing: 0.9467864264770792\n",
      "Column: sec_app_num_rev_accts, Proportion missing: 0.9467864264770792\n",
      "Column: sec_app_chargeoff_within_12_mths, Proportion missing: 0.9467864264770792\n",
      "Column: sec_app_collections_12_mths_ex_med, Proportion missing: 0.9467864264770792\n",
      "Column: sec_app_mths_since_last_major_derog, Proportion missing: 0.982294162620594\n",
      "Column: hardship_type, Proportion missing: 0.9946614501229586\n",
      "Column: hardship_reason, Proportion missing: 0.9946614501229586\n",
      "Column: hardship_status, Proportion missing: 0.9946614501229586\n",
      "Column: deferral_term, Proportion missing: 0.9946614501229586\n",
      "Column: hardship_amount, Proportion missing: 0.9946614501229586\n",
      "Column: hardship_start_date, Proportion missing: 0.9946614501229586\n",
      "Column: hardship_end_date, Proportion missing: 0.9946614501229586\n",
      "Column: payment_plan_start_date, Proportion missing: 0.9946614501229586\n",
      "Column: hardship_length, Proportion missing: 0.9946614501229586\n",
      "Column: hardship_dpd, Proportion missing: 0.9946614501229586\n",
      "Column: hardship_loan_status, Proportion missing: 0.9946614501229586\n",
      "Column: orig_projected_additional_accrued_interest, Proportion missing: 0.9957723138281103\n",
      "Column: hardship_payoff_balance_amount, Proportion missing: 0.9946614501229586\n",
      "Column: hardship_last_payment_amount, Proportion missing: 0.9946614501229586\n",
      "Column: debt_settlement_flag_date, Proportion missing: 0.9842188386720474\n",
      "Column: settlement_status, Proportion missing: 0.9842188386720474\n",
      "Column: settlement_date, Proportion missing: 0.9842188386720474\n",
      "Column: settlement_amount, Proportion missing: 0.9842188386720474\n",
      "Column: settlement_percentage, Proportion missing: 0.9842188386720474\n",
      "Column: settlement_term, Proportion missing: 0.9842188386720474\n",
      "38 Columns with over 90% missing data\n"
     ]
    }
   ],
   "source": [
    "count = 0\n",
    "for col in accepted.columns:\n",
    "    prop_missing = accepted[col].isna().mean()\n",
    "    if prop_missing > 0.9:\n",
    "        print(f'Column: {col}, Proportion missing: {prop_missing}')\n",
    "        count += 1\n",
    "print(f'{count} Columns with over 90% missing data')"
   ]
  },
  {
   "cell_type": "code",
   "execution_count": 10,
   "metadata": {},
   "outputs": [
    {
     "name": "stdout",
     "output_type": "stream",
     "text": [
      "Column: Amount_Requested, Proportion missing: 0.0\n",
      "Column: Application_Date, Proportion missing: 0.0\n",
      "Column: Loan_Title, Proportion missing: 4.932591487900724e-05\n",
      "Column: Risk_Score, Proportion missing: 0.7060179682559994\n",
      "Column: Debt_to_Income_Ratio, Proportion missing: 0.0\n",
      "Column: Zip_Code, Proportion missing: 1.0370304834919289e-05\n",
      "Column: State, Proportion missing: 3.826680750892726e-08\n",
      "Column: Employment_Length, Proportion missing: 0.03566757287569089\n",
      "Column: Policy_Code, Proportion missing: 3.512892929319523e-05\n"
     ]
    }
   ],
   "source": [
    "for col in rejected.columns:\n",
    "    print(f'Column: {col}, Proportion missing: {rejected[col].isna().mean()}')"
   ]
  },
  {
   "cell_type": "code",
   "execution_count": 15,
   "metadata": {},
   "outputs": [
    {
     "data": {
      "text/plain": [
       "0.999998522132543"
      ]
     },
     "execution_count": 15,
     "metadata": {},
     "output_type": "execute_result"
    }
   ],
   "source": [
    "(accepted['loan_amnt'] == accepted['funded_amnt']).mean()"
   ]
  },
  {
   "cell_type": "code",
   "execution_count": 23,
   "metadata": {},
   "outputs": [
    {
     "data": {
      "text/plain": [
       "0           2016-04-01\n",
       "1           2016-04-01\n",
       "2           2016-04-01\n",
       "3           2016-04-01\n",
       "4           2016-04-01\n",
       "               ...    \n",
       "26132303    2016-12-31\n",
       "26132304    2016-12-31\n",
       "26132305    2016-12-31\n",
       "26132306    2016-12-31\n",
       "26132307    2016-12-31\n",
       "Name: Application_Date, Length: 26132308, dtype: object"
      ]
     },
     "execution_count": 23,
     "metadata": {},
     "output_type": "execute_result"
    }
   ],
   "source": [
    "rejected['Application_Date']"
   ]
  },
  {
   "cell_type": "code",
   "execution_count": 41,
   "metadata": {},
   "outputs": [
    {
     "data": {
      "text/html": [
       "<div>\n",
       "<style scoped>\n",
       "    .dataframe tbody tr th:only-of-type {\n",
       "        vertical-align: middle;\n",
       "    }\n",
       "\n",
       "    .dataframe tbody tr th {\n",
       "        vertical-align: top;\n",
       "    }\n",
       "\n",
       "    .dataframe thead th {\n",
       "        text-align: right;\n",
       "    }\n",
       "</style>\n",
       "<table border=\"1\" class=\"dataframe\">\n",
       "  <thead>\n",
       "    <tr style=\"text-align: right;\">\n",
       "      <th></th>\n",
       "      <th>loan_amnt</th>\n",
       "      <th>date</th>\n",
       "      <th>title</th>\n",
       "      <th>dti</th>\n",
       "      <th>zip_code</th>\n",
       "      <th>state</th>\n",
       "      <th>emp_length</th>\n",
       "      <th>policy_code</th>\n",
       "      <th>accepted</th>\n",
       "    </tr>\n",
       "  </thead>\n",
       "  <tbody>\n",
       "    <tr>\n",
       "      <th>0</th>\n",
       "      <td>3600.0</td>\n",
       "      <td>Dec-2015</td>\n",
       "      <td>Debt consolidation</td>\n",
       "      <td>5.91</td>\n",
       "      <td>190xx</td>\n",
       "      <td>PA</td>\n",
       "      <td>10+ years</td>\n",
       "      <td>1.0</td>\n",
       "      <td>1</td>\n",
       "    </tr>\n",
       "    <tr>\n",
       "      <th>1</th>\n",
       "      <td>24700.0</td>\n",
       "      <td>Dec-2015</td>\n",
       "      <td>Business</td>\n",
       "      <td>16.06</td>\n",
       "      <td>577xx</td>\n",
       "      <td>SD</td>\n",
       "      <td>10+ years</td>\n",
       "      <td>1.0</td>\n",
       "      <td>1</td>\n",
       "    </tr>\n",
       "    <tr>\n",
       "      <th>2</th>\n",
       "      <td>20000.0</td>\n",
       "      <td>Dec-2015</td>\n",
       "      <td>NaN</td>\n",
       "      <td>10.78</td>\n",
       "      <td>605xx</td>\n",
       "      <td>IL</td>\n",
       "      <td>10+ years</td>\n",
       "      <td>1.0</td>\n",
       "      <td>1</td>\n",
       "    </tr>\n",
       "    <tr>\n",
       "      <th>3</th>\n",
       "      <td>35000.0</td>\n",
       "      <td>Dec-2015</td>\n",
       "      <td>Debt consolidation</td>\n",
       "      <td>17.06</td>\n",
       "      <td>076xx</td>\n",
       "      <td>NJ</td>\n",
       "      <td>10+ years</td>\n",
       "      <td>1.0</td>\n",
       "      <td>1</td>\n",
       "    </tr>\n",
       "    <tr>\n",
       "      <th>4</th>\n",
       "      <td>10400.0</td>\n",
       "      <td>Dec-2015</td>\n",
       "      <td>Major purchase</td>\n",
       "      <td>25.37</td>\n",
       "      <td>174xx</td>\n",
       "      <td>PA</td>\n",
       "      <td>3 years</td>\n",
       "      <td>1.0</td>\n",
       "      <td>1</td>\n",
       "    </tr>\n",
       "  </tbody>\n",
       "</table>\n",
       "</div>"
      ],
      "text/plain": [
       "   loan_amnt      date               title    dti zip_code state emp_length  \\\n",
       "0     3600.0  Dec-2015  Debt consolidation   5.91    190xx    PA  10+ years   \n",
       "1    24700.0  Dec-2015            Business  16.06    577xx    SD  10+ years   \n",
       "2    20000.0  Dec-2015                 NaN  10.78    605xx    IL  10+ years   \n",
       "3    35000.0  Dec-2015  Debt consolidation  17.06    076xx    NJ  10+ years   \n",
       "4    10400.0  Dec-2015      Major purchase  25.37    174xx    PA    3 years   \n",
       "\n",
       "   policy_code  accepted  \n",
       "0          1.0         1  \n",
       "1          1.0         1  \n",
       "2          1.0         1  \n",
       "3          1.0         1  \n",
       "4          1.0         1  "
      ]
     },
     "execution_count": 41,
     "metadata": {},
     "output_type": "execute_result"
    }
   ],
   "source": [
    "stripped_accepted = accepted[['loan_amnt', 'issue_d', 'title', 'dti', 'zip_code', 'addr_state', 'emp_length', 'policy_code']]\n",
    "stripped_accepted['accepted'] = 1\n",
    "rejected.rename(columns={'Amount_Requested': 'loan_amnt',\n",
    "                         'Application_Date': 'date',\n",
    "                         'Loan_Title': 'title',\n",
    "                         'Risk_Score': 'risk_score',\n",
    "                         'Debt_to_Income_Ratio': 'dti',\n",
    "                         'Zip_Code': 'zip_code',\n",
    "                         'State': 'state',\n",
    "                         'Employment_Length': 'emp_length',\n",
    "                         'Policy_Code': 'policy_code'}, inplace=True)\n",
    "rejected.drop(columns='risk_score', inplace=True)\n",
    "rejected['accepted'] = 0\n",
    "stripped_accepted.rename(columns={'issue_d': 'date',\n",
    "                                  'addr_state': 'state'}, inplace=True)\n",
    "full_data = pd.concat([stripped_accepted, rejected])\n",
    "full_data.head()"
   ]
  },
  {
   "cell_type": "code",
   "execution_count": 57,
   "metadata": {},
   "outputs": [
    {
     "data": {
      "text/plain": [
       "count    2.816226e+07\n",
       "mean     1.328498e+04\n",
       "std      1.488180e+04\n",
       "min      0.000000e+00\n",
       "25%      5.000000e+03\n",
       "50%      1.000000e+04\n",
       "75%      2.000000e+04\n",
       "max      1.400000e+06\n",
       "Name: loan_amnt, dtype: float64"
      ]
     },
     "execution_count": 57,
     "metadata": {},
     "output_type": "execute_result"
    }
   ],
   "source": [
    "full_data['loan_amnt'].describe()"
   ]
  },
  {
   "cell_type": "code",
   "execution_count": null,
   "metadata": {},
   "outputs": [],
   "source": [
    "rename_titles = {'Debt consolidation': 'debt_consolidation',\n",
    "                'Other': 'other', }"
   ]
  },
  {
   "cell_type": "code",
   "execution_count": 73,
   "metadata": {},
   "outputs": [
    {
     "data": {
      "text/plain": [
       "Index(['Debt consolidation', 'debt_consolidation', 'Other',\n",
       "       'Credit card refinancing', 'other', 'credit_card', 'Car financing',\n",
       "       'home_improvement', 'Home improvement', 'Major purchase', 'Home buying',\n",
       "       'car', 'Medical expenses', 'major_purchase', 'moving', 'Business Loan',\n",
       "       'Moving and relocation', 'medical', 'small_business', 'Business',\n",
       "       'house', 'vacation', 'Vacation', 'renewable_energy', 'Green loan',\n",
       "       'Business Line Of Credit', 'Debt Consolidation', 'wedding',\n",
       "       'Consolidation', 'debt consolidation', 'Credit Card Consolidation',\n",
       "       'Learning and training', 'consolidation', 'Debt Consolidation Loan',\n",
       "       'Consolidation Loan', 'Home Improvement', 'Personal Loan',\n",
       "       'Credit Card Refinance', 'Credit Card Payoff', 'Consolidate',\n",
       "       'Personal', 'credit cards', 'Payoff', 'Freedom',\n",
       "       'credit card refinance', 'DEBT CONSOLIDATION', 'Debt', 'Credit Card',\n",
       "       'My Loan', 'consolidate'],\n",
       "      dtype='object')"
      ]
     },
     "execution_count": 73,
     "metadata": {},
     "output_type": "execute_result"
    }
   ],
   "source": [
    "full_data['title'].value_counts().index[:50]"
   ]
  },
  {
   "cell_type": "code",
   "execution_count": 67,
   "metadata": {},
   "outputs": [],
   "source": [
    "full_data['log_loan_amnt'] = np.log(full_data['loan_amnt'] + 1)"
   ]
  },
  {
   "cell_type": "code",
   "execution_count": 69,
   "metadata": {},
   "outputs": [
    {
     "data": {
      "text/plain": [
       "<matplotlib.axes._subplots.AxesSubplot at 0x7fd7c8152ac0>"
      ]
     },
     "execution_count": 69,
     "metadata": {},
     "output_type": "execute_result"
    },
    {
     "data": {
      "image/png": "[encoded data removed]",
      "text/plain": [
       "<Figure size 842.4x595.44 with 1 Axes>"
      ]
     },
     "metadata": {},
     "output_type": "display_data"
    }
   ],
   "source": [
    "sns.histplot(data=full_data, x='log_loan_amnt', hue='accepted')"
   ]
  },
  {
   "cell_type": "code",
   "execution_count": null,
   "metadata": {},
   "outputs": [],
   "source": []
  }
 ],
 "metadata": {
  "kernelspec": {
   "display_name": "Python 3",
   "language": "python",
   "name": "python3"
  },
  "language_info": {
   "codemirror_mode": {
    "name": "ipython",
    "version": 3
   },
   "file_extension": ".py",
   "mimetype": "text/x-python",
   "name": "python",
   "nbconvert_exporter": "python",
   "pygments_lexer": "ipython3",
   "version": "3.8.2"
  }
 },
 "nbformat": 4,
 "nbformat_minor": 4
}
