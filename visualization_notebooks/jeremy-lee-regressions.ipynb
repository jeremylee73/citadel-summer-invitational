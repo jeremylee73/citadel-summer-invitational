{
 "cells": [
  {
   "cell_type": "code",
<<<<<<< HEAD
   "execution_count": 274,
=======
   "execution_count": 2,
>>>>>>> b1a0ba379418146d393da747dbbb568f9605c170
   "metadata": {},
   "outputs": [],
   "source": [
    "import pandas as pd\n",
    "import numpy as np\n",
    "\n",
    "import statsmodels.api as sm\n",
    "from sklearn.cluster import KMeans\n",
    "\n",
    "import seaborn as sns\n",
    "import plotly.express as px\n",
    "import matplotlib.pyplot as plt\n",
    "\n",
    "import warnings\n",
    "warnings.filterwarnings('ignore')"
   ]
  },
  {
   "cell_type": "code",
   "execution_count": 275,
   "metadata": {},
   "outputs": [
    {
     "data": {
      "text/html": [
       "<div>\n",
       "<style scoped>\n",
       "    .dataframe tbody tr th:only-of-type {\n",
       "        vertical-align: middle;\n",
       "    }\n",
       "\n",
       "    .dataframe tbody tr th {\n",
       "        vertical-align: top;\n",
       "    }\n",
       "\n",
       "    .dataframe thead th {\n",
       "        text-align: right;\n",
       "    }\n",
       "</style>\n",
       "<table border=\"1\" class=\"dataframe\">\n",
       "  <thead>\n",
       "    <tr style=\"text-align: right;\">\n",
       "      <th></th>\n",
       "      <th>loan_amnt</th>\n",
       "      <th>date</th>\n",
       "      <th>title</th>\n",
       "      <th>dti</th>\n",
       "      <th>zip_code</th>\n",
       "      <th>state</th>\n",
       "      <th>emp_length</th>\n",
       "      <th>policy_code</th>\n",
       "      <th>accepted</th>\n",
       "    </tr>\n",
       "  </thead>\n",
       "  <tbody>\n",
       "    <tr>\n",
       "      <th>0</th>\n",
       "      <td>3600.0</td>\n",
       "      <td>Dec-2015</td>\n",
       "      <td>Debt consolidation</td>\n",
       "      <td>5.91</td>\n",
       "      <td>190xx</td>\n",
       "      <td>PA</td>\n",
       "      <td>10+ years</td>\n",
       "      <td>1.0</td>\n",
       "      <td>1</td>\n",
       "    </tr>\n",
       "    <tr>\n",
       "      <th>1</th>\n",
       "      <td>24700.0</td>\n",
       "      <td>Dec-2015</td>\n",
       "      <td>Business</td>\n",
       "      <td>16.06</td>\n",
       "      <td>577xx</td>\n",
       "      <td>SD</td>\n",
       "      <td>10+ years</td>\n",
       "      <td>1.0</td>\n",
       "      <td>1</td>\n",
       "    </tr>\n",
       "    <tr>\n",
       "      <th>2</th>\n",
       "      <td>20000.0</td>\n",
       "      <td>Dec-2015</td>\n",
       "      <td>NaN</td>\n",
       "      <td>10.78</td>\n",
       "      <td>605xx</td>\n",
       "      <td>IL</td>\n",
       "      <td>10+ years</td>\n",
       "      <td>1.0</td>\n",
       "      <td>1</td>\n",
       "    </tr>\n",
       "    <tr>\n",
       "      <th>3</th>\n",
       "      <td>35000.0</td>\n",
       "      <td>Dec-2015</td>\n",
       "      <td>Debt consolidation</td>\n",
       "      <td>17.06</td>\n",
       "      <td>076xx</td>\n",
       "      <td>NJ</td>\n",
       "      <td>10+ years</td>\n",
       "      <td>1.0</td>\n",
       "      <td>1</td>\n",
       "    </tr>\n",
       "    <tr>\n",
       "      <th>4</th>\n",
       "      <td>10400.0</td>\n",
       "      <td>Dec-2015</td>\n",
       "      <td>Major purchase</td>\n",
       "      <td>25.37</td>\n",
       "      <td>174xx</td>\n",
       "      <td>PA</td>\n",
       "      <td>3 years</td>\n",
       "      <td>1.0</td>\n",
       "      <td>1</td>\n",
       "    </tr>\n",
       "  </tbody>\n",
       "</table>\n",
       "</div>"
      ],
      "text/plain": [
       "   loan_amnt      date               title    dti zip_code state emp_length  \\\n",
       "0     3600.0  Dec-2015  Debt consolidation   5.91    190xx    PA  10+ years   \n",
       "1    24700.0  Dec-2015            Business  16.06    577xx    SD  10+ years   \n",
       "2    20000.0  Dec-2015                 NaN  10.78    605xx    IL  10+ years   \n",
       "3    35000.0  Dec-2015  Debt consolidation  17.06    076xx    NJ  10+ years   \n",
       "4    10400.0  Dec-2015      Major purchase  25.37    174xx    PA    3 years   \n",
       "\n",
       "   policy_code  accepted  \n",
       "0          1.0         1  \n",
       "1          1.0         1  \n",
       "2          1.0         1  \n",
       "3          1.0         1  \n",
       "4          1.0         1  "
      ]
     },
     "execution_count": 275,
     "metadata": {},
     "output_type": "execute_result"
    }
   ],
   "source": [
    "# Reading data\n",
    "accepted = pd.read_csv('data/LC/Lending_Club_Accepted_2014_2018.csv')\n",
    "rejected = pd.read_csv('data/LC/Lending_Club_Rejected_2014_2018.csv')\n",
    "\n",
    "stripped_accepted = accepted[['loan_amnt', 'issue_d', 'title', 'dti', 'zip_code', 'addr_state', \n",
    "                              'emp_length', 'policy_code']]\n",
    "stripped_accepted['accepted'] = 1\n",
    "rejected.rename(columns={'Amount_Requested': 'loan_amnt',\n",
    "                         'Application_Date': 'date',\n",
    "                         'Loan_Title': 'title',\n",
    "                         'Risk_Score': 'risk_score',\n",
    "                         'Debt_to_Income_Ratio': 'dti',\n",
    "                         'Zip_Code': 'zip_code',\n",
    "                         'State': 'state',\n",
    "                         'Employment_Length': 'emp_length',\n",
    "                         'Policy_Code': 'policy_code'}, inplace=True)\n",
    "rejected.drop(columns='risk_score', inplace=True)\n",
    "rejected['accepted'] = 0\n",
    "stripped_accepted.rename(columns={'issue_d': 'date',\n",
    "                                  'addr_state': 'state'}, inplace=True)\n",
    "full_data = pd.concat([stripped_accepted, rejected])\n",
    "full_data.head()"
   ]
  },
  {
   "cell_type": "code",
   "execution_count": 277,
   "metadata": {},
   "outputs": [
    {
     "name": "stdout",
     "output_type": "stream",
     "text": [
      "loan_amnt 0.0\n",
      "date 0.0\n",
      "title 0.0008732963902754964\n",
      "dti 6.075506724247273e-05\n",
      "zip_code 9.65831577437322e-06\n",
      "state 3.5508513876372134e-08\n",
      "emp_length 0.037993541711496166\n",
      "policy_code 3.259681573850962e-05\n",
      "accepted 0.0\n"
     ]
    }
   ],
   "source": [
    "for col in full_data.columns:\n",
    "    print(col, full_data[col].isna().mean())"
   ]
  },
  {
   "cell_type": "code",
   "execution_count": 282,
   "metadata": {},
   "outputs": [],
   "source": [
    "# Cleaning loan titles\n",
    "loan_titles = ['Debt Consolidation', 'Credit Card', 'Home', 'Car', 'Medical', 'Business', 'Other']\n",
    "def clean_titles(full_data):\n",
    "    full_data['title'] = full_data['title'].fillna('')\n",
    "    full_data['title'] = full_data['title'].str.lower()\n",
    "    full_data.loc[full_data['title'].str.contains('credit'), 'title'] = 'Credit Card'\n",
    "    full_data.loc[full_data['title'].str.contains('cc'), 'title'] = 'Credit Card'\n",
    "    full_data.loc[full_data['title'].str.contains('debt'), 'title'] = 'Debt Consolidation'\n",
    "    full_data.loc[full_data['title'].str.contains('consolidation'), 'title'] = 'Debt Consolidation'\n",
    "    full_data.loc[full_data['title'].str.contains('consolidate'), 'title'] = 'Debt Consolidation'\n",
    "    full_data.loc[full_data['title'].str.contains('payoff'), 'title'] = 'Debt Consolidation'\n",
    "    full_data.loc[full_data['title'].str.contains('pay off'), 'title'] = 'Debt Consolidation'\n",
    "    full_data.loc[full_data['title'].str.contains('refinance'), 'title'] = 'Debt Consolidation'\n",
    "    full_data.loc[full_data['title'].str.contains('home'), 'title'] = 'Home'\n",
    "    full_data.loc[full_data['title'].str.contains('house'), 'title'] = 'Home'\n",
    "    full_data.loc[full_data['title'].str.contains('moving'), 'title'] = 'Home'\n",
    "    full_data.loc[full_data['title'].str.contains('car'), 'title'] = 'Car'\n",
    "    full_data.loc[full_data['title'].str.contains('medical'), 'title'] = 'Medical'\n",
    "    full_data.loc[full_data['title'].str.contains('business'), 'title'] = 'Business'\n",
    "    full_data.loc[~full_data['title'].isin(loan_titles), 'title'] = 'Other'\n",
    "    return full_data"
   ]
  },
  {
   "cell_type": "code",
   "execution_count": 283,
   "metadata": {},
   "outputs": [],
   "source": [
    "full_data = clean_titles(full_data)"
   ]
  },
  {
   "cell_type": "code",
   "execution_count": 5,
   "metadata": {},
   "outputs": [
    {
     "data": {
      "text/html": [
       "<div>\n",
       "<style scoped>\n",
       "    .dataframe tbody tr th:only-of-type {\n",
       "        vertical-align: middle;\n",
       "    }\n",
       "\n",
       "    .dataframe tbody tr th {\n",
       "        vertical-align: top;\n",
       "    }\n",
       "\n",
       "    .dataframe thead th {\n",
       "        text-align: right;\n",
       "    }\n",
       "</style>\n",
       "<table border=\"1\" class=\"dataframe\">\n",
       "  <thead>\n",
       "    <tr style=\"text-align: right;\">\n",
       "      <th></th>\n",
       "      <th>state</th>\n",
       "      <th>rural_prop</th>\n",
       "      <th>total_pop</th>\n",
       "    </tr>\n",
       "  </thead>\n",
       "  <tbody>\n",
       "    <tr>\n",
       "      <th>0</th>\n",
       "      <td>AL</td>\n",
       "      <td>0.416524</td>\n",
       "      <td>2171853</td>\n",
       "    </tr>\n",
       "    <tr>\n",
       "      <th>1</th>\n",
       "      <td>AK</td>\n",
       "      <td>0.403881</td>\n",
       "      <td>306967</td>\n",
       "    </tr>\n",
       "    <tr>\n",
       "      <th>2</th>\n",
       "      <td>AZ</td>\n",
       "      <td>0.115668</td>\n",
       "      <td>2844526</td>\n",
       "    </tr>\n",
       "    <tr>\n",
       "      <th>3</th>\n",
       "      <td>AR</td>\n",
       "      <td>0.452568</td>\n",
       "      <td>1316299</td>\n",
       "    </tr>\n",
       "    <tr>\n",
       "      <th>4</th>\n",
       "      <td>CA</td>\n",
       "      <td>0.063259</td>\n",
       "      <td>13680081</td>\n",
       "    </tr>\n",
       "    <tr>\n",
       "      <th>5</th>\n",
       "      <td>CO</td>\n",
       "      <td>0.168969</td>\n",
       "      <td>2212898</td>\n",
       "    </tr>\n",
       "    <tr>\n",
       "      <th>6</th>\n",
       "      <td>CT</td>\n",
       "      <td>0.120540</td>\n",
       "      <td>1487891</td>\n",
       "    </tr>\n",
       "    <tr>\n",
       "      <th>7</th>\n",
       "      <td>DE</td>\n",
       "      <td>0.164515</td>\n",
       "      <td>405885</td>\n",
       "    </tr>\n",
       "    <tr>\n",
       "      <th>8</th>\n",
       "      <td>DC</td>\n",
       "      <td>0.000000</td>\n",
       "      <td>296719</td>\n",
       "    </tr>\n",
       "    <tr>\n",
       "      <th>9</th>\n",
       "      <td>FL</td>\n",
       "      <td>0.088944</td>\n",
       "      <td>8989580</td>\n",
       "    </tr>\n",
       "  </tbody>\n",
       "</table>\n",
       "</div>"
      ],
      "text/plain": [
       "  state  rural_prop  total_pop\n",
       "0    AL    0.416524    2171853\n",
       "1    AK    0.403881     306967\n",
       "2    AZ    0.115668    2844526\n",
       "3    AR    0.452568    1316299\n",
       "4    CA    0.063259   13680081\n",
       "5    CO    0.168969    2212898\n",
       "6    CT    0.120540    1487891\n",
       "7    DE    0.164515     405885\n",
       "8    DC    0.000000     296719\n",
       "9    FL    0.088944    8989580"
      ]
     },
     "execution_count": 5,
     "metadata": {},
     "output_type": "execute_result"
    }
   ],
   "source": [
    "urban_rural_states = pd.read_csv('data/census_data/2010_urban_rural_states.csv', skiprows=1)\n",
    "state_abbr = pd.read_csv('data/census_data/state_abbr.csv')\n",
    "urban_rural_states['total_pop'] = urban_rural_states['Total!!Rural'] + urban_rural_states['Total!!Urban']\n",
    "urban_rural_states['rural_prop'] = urban_rural_states['Total!!Rural'] / urban_rural_states['total_pop']\n",
    "urban_rural_states = urban_rural_states.merge(state_abbr, left_on='Geographic Area Name', right_on='State')\n",
    "urban_rural_states = urban_rural_states.rename(columns={'Code': 'state'})\n",
    "urban_rural_states = urban_rural_states[['state', 'rural_prop', 'total_pop']]\n",
    "urban_rural_states.head(10)"
   ]
  },
  {
   "cell_type": "code",
   "execution_count": 279,
   "metadata": {},
   "outputs": [
    {
     "data": {
      "text/html": [
       "<div>\n",
       "<style scoped>\n",
       "    .dataframe tbody tr th:only-of-type {\n",
       "        vertical-align: middle;\n",
       "    }\n",
       "\n",
       "    .dataframe tbody tr th {\n",
       "        vertical-align: top;\n",
       "    }\n",
       "\n",
       "    .dataframe thead th {\n",
       "        text-align: right;\n",
       "    }\n",
       "</style>\n",
       "<table border=\"1\" class=\"dataframe\">\n",
       "  <thead>\n",
       "    <tr style=\"text-align: right;\">\n",
       "      <th></th>\n",
       "      <th>title</th>\n",
       "      <th>emp_title</th>\n",
       "      <th>emp_length</th>\n",
       "      <th>zip_code</th>\n",
       "      <th>state</th>\n",
       "      <th>loan_amnt</th>\n",
       "      <th>grade</th>\n",
       "      <th>dti</th>\n",
       "      <th>term</th>\n",
       "      <th>int_rate</th>\n",
       "      <th>home_ownership</th>\n",
       "      <th>issue_d</th>\n",
       "      <th>fico</th>\n",
       "      <th>rural_prop</th>\n",
       "      <th>total_pop</th>\n",
       "    </tr>\n",
       "  </thead>\n",
       "  <tbody>\n",
       "    <tr>\n",
       "      <th>0</th>\n",
       "      <td>Debt Consolidation</td>\n",
       "      <td>leadman</td>\n",
       "      <td>10+ years</td>\n",
       "      <td>190xx</td>\n",
       "      <td>PA</td>\n",
       "      <td>3600.0</td>\n",
       "      <td>C</td>\n",
       "      <td>5.91</td>\n",
       "      <td>36 months</td>\n",
       "      <td>13.99</td>\n",
       "      <td>MORTGAGE</td>\n",
       "      <td>12-2015</td>\n",
       "      <td>677.0</td>\n",
       "      <td>0.224589</td>\n",
       "      <td>5567315</td>\n",
       "    </tr>\n",
       "    <tr>\n",
       "      <th>1</th>\n",
       "      <td>Other</td>\n",
       "      <td>Contract Specialist</td>\n",
       "      <td>3 years</td>\n",
       "      <td>174xx</td>\n",
       "      <td>PA</td>\n",
       "      <td>10400.0</td>\n",
       "      <td>F</td>\n",
       "      <td>25.37</td>\n",
       "      <td>60 months</td>\n",
       "      <td>22.45</td>\n",
       "      <td>MORTGAGE</td>\n",
       "      <td>12-2015</td>\n",
       "      <td>697.0</td>\n",
       "      <td>0.224589</td>\n",
       "      <td>5567315</td>\n",
       "    </tr>\n",
       "    <tr>\n",
       "      <th>2</th>\n",
       "      <td>Credit Card</td>\n",
       "      <td>SERVICE MANAGER</td>\n",
       "      <td>6 years</td>\n",
       "      <td>160xx</td>\n",
       "      <td>PA</td>\n",
       "      <td>10000.0</td>\n",
       "      <td>A</td>\n",
       "      <td>13.07</td>\n",
       "      <td>36 months</td>\n",
       "      <td>6.49</td>\n",
       "      <td>RENT</td>\n",
       "      <td>12-2015</td>\n",
       "      <td>687.0</td>\n",
       "      <td>0.224589</td>\n",
       "      <td>5567315</td>\n",
       "    </tr>\n",
       "    <tr>\n",
       "      <th>3</th>\n",
       "      <td>Debt Consolidation</td>\n",
       "      <td>Mechanic</td>\n",
       "      <td>10+ years</td>\n",
       "      <td>172xx</td>\n",
       "      <td>PA</td>\n",
       "      <td>18000.0</td>\n",
       "      <td>A</td>\n",
       "      <td>15.56</td>\n",
       "      <td>36 months</td>\n",
       "      <td>7.91</td>\n",
       "      <td>MORTGAGE</td>\n",
       "      <td>12-2015</td>\n",
       "      <td>742.0</td>\n",
       "      <td>0.224589</td>\n",
       "      <td>5567315</td>\n",
       "    </tr>\n",
       "    <tr>\n",
       "      <th>4</th>\n",
       "      <td>Debt Consolidation</td>\n",
       "      <td>Graduate Student</td>\n",
       "      <td>1 year</td>\n",
       "      <td>191xx</td>\n",
       "      <td>PA</td>\n",
       "      <td>3600.0</td>\n",
       "      <td>C</td>\n",
       "      <td>26.45</td>\n",
       "      <td>36 months</td>\n",
       "      <td>13.44</td>\n",
       "      <td>RENT</td>\n",
       "      <td>12-2015</td>\n",
       "      <td>712.0</td>\n",
       "      <td>0.224589</td>\n",
       "      <td>5567315</td>\n",
       "    </tr>\n",
       "  </tbody>\n",
       "</table>\n",
       "</div>"
      ],
      "text/plain": [
       "                title            emp_title emp_length zip_code state  \\\n",
       "0  Debt Consolidation              leadman  10+ years    190xx    PA   \n",
       "1               Other  Contract Specialist    3 years    174xx    PA   \n",
       "2         Credit Card      SERVICE MANAGER    6 years    160xx    PA   \n",
       "3  Debt Consolidation             Mechanic  10+ years    172xx    PA   \n",
       "4  Debt Consolidation    Graduate Student      1 year    191xx    PA   \n",
       "\n",
       "   loan_amnt grade    dti        term  int_rate home_ownership  issue_d  \\\n",
       "0     3600.0     C   5.91   36 months     13.99       MORTGAGE  12-2015   \n",
       "1    10400.0     F  25.37   60 months     22.45       MORTGAGE  12-2015   \n",
       "2    10000.0     A  13.07   36 months      6.49           RENT  12-2015   \n",
       "3    18000.0     A  15.56   36 months      7.91       MORTGAGE  12-2015   \n",
       "4     3600.0     C  26.45   36 months     13.44           RENT  12-2015   \n",
       "\n",
       "    fico  rural_prop  total_pop  \n",
       "0  677.0    0.224589    5567315  \n",
       "1  697.0    0.224589    5567315  \n",
       "2  687.0    0.224589    5567315  \n",
       "3  742.0    0.224589    5567315  \n",
       "4  712.0    0.224589    5567315  "
      ]
     },
     "execution_count": 279,
     "metadata": {},
     "output_type": "execute_result"
    }
   ],
   "source": [
    "relevant_cols = ['title', 'emp_title', 'emp_length', 'fico_range_low', 'fico_range_high',\n",
    "                 'zip_code', 'addr_state', 'loan_amnt', 'grade', 'dti', 'term', 'int_rate',\n",
    "                 'home_ownership', 'issue_d']\n",
    "filtered_accepted = accepted[relevant_cols]\n",
    "filtered_accepted['fico'] = (filtered_accepted['fico_range_low'] + filtered_accepted['fico_range_high']) / 2\n",
    "filtered_accepted.drop(columns=['fico_range_low', 'fico_range_high'], inplace=True)\n",
    "filtered_accepted = clean_titles(filtered_accepted)\n",
    "filtered_accepted = filtered_accepted.rename(columns={'addr_state': 'state'})\n",
    "filtered_accepted = filtered_accepted.merge(urban_rural_states, on='state')\n",
    "filtered_accepted['issue_d'] = pd.to_datetime(filtered_accepted['issue_d']).dt.strftime('%m-%Y')\n",
    "filtered_accepted.head()"
   ]
  },
  {
   "cell_type": "code",
   "execution_count": 298,
   "metadata": {},
   "outputs": [
    {
     "data": {
      "text/plain": [
       "Text(0.5, 1.0, 'Loan Titles Across Accepted and Rejected Loans')"
      ]
     },
     "execution_count": 298,
     "metadata": {},
     "output_type": "execute_result"
    },
    {
     "data": {
      "image/png": "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\n",
      "text/plain": [
       "<Figure size 842.4x595.44 with 1 Axes>"
      ]
     },
     "metadata": {},
     "output_type": "display_data"
    }
   ],
   "source": [
    "sns.set(rc={'figure.figsize':(11.7,8.27)})\n",
    "p = sns.countplot(full_data['title'], order=loan_titles)\n",
    "p.set_title(\"Loan Titles Across Accepted and Rejected Loans\", fontsize=20)"
   ]
  },
  {
   "cell_type": "code",
   "execution_count": 299,
   "metadata": {},
   "outputs": [
    {
     "data": {
      "text/plain": [
       "Text(0.5, 1.0, 'Loan Titles Across Accepted Loans')"
      ]
     },
     "execution_count": 299,
     "metadata": {},
     "output_type": "execute_result"
    },
    {
     "data": {
      "image/png": "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\n",
      "text/plain": [
       "<Figure size 842.4x595.44 with 1 Axes>"
      ]
     },
     "metadata": {},
     "output_type": "display_data"
    }
   ],
   "source": [
    "sns.set(rc={'figure.figsize':(11.7,8.27)})\n",
    "sns.countplot(filtered_accepted['title'], \n",
    "              order=loan_titles).set_title(\"Loan Titles Across Accepted Loans\", fontsize=20)"
   ]
  },
  {
   "cell_type": "code",
   "execution_count": 281,
   "metadata": {},
   "outputs": [
    {
     "name": "stdout",
     "output_type": "stream",
     "text": [
      "title 0.0\n",
      "emp_title 0.07517714704584148\n",
      "emp_length 0.06793658175168674\n",
      "zip_code 4.926224856548332e-07\n",
      "state 0.0\n",
      "loan_amnt 0.0\n",
      "grade 0.0\n",
      "dti 0.0008428770729554196\n",
      "term 0.0\n",
      "int_rate 0.0\n",
      "home_ownership 0.0\n",
      "issue_d 0.0\n",
      "fico 0.0\n",
      "rural_prop 0.0\n",
      "total_pop 0.0\n"
     ]
    }
   ],
   "source": [
    "for col in filtered_accepted.columns:\n",
    "    print(col, filtered_accepted[col].isna().mean())"
   ]
  },
  {
   "cell_type": "code",
   "execution_count": 7,
   "metadata": {},
   "outputs": [],
   "source": [
    "pre_2016 = filtered_accepted[filtered_accepted['issue_d'] < '05-2016']\n",
    "post_2016 = filtered_accepted[filtered_accepted['issue_d'] > '05-2016']"
   ]
  },
  {
   "cell_type": "code",
   "execution_count": 8,
   "metadata": {},
   "outputs": [],
   "source": [
    "full_data['date'] = pd.to_datetime(full_data['date']).dt.strftime('%m-%Y')\n",
    "full_data_pre_2016 = full_data[full_data['date'] < '05-2016']\n",
    "full_data_post_2016 = full_data[full_data['date'] > '05-2016']"
   ]
  },
  {
   "cell_type": "code",
   "execution_count": 9,
   "metadata": {},
   "outputs": [],
   "source": [
    "filtered_accepted = filtered_accepted[~filtered_accepted['dti'].isna()]"
   ]
  },
  {
   "cell_type": "code",
   "execution_count": 10,
   "metadata": {},
   "outputs": [],
   "source": [
    "filtered_accepted = filtered_accepted.join(pd.get_dummies(filtered_accepted['grade'], drop_first=True))"
   ]
  },
  {
   "cell_type": "code",
   "execution_count": 11,
   "metadata": {},
   "outputs": [
    {
     "name": "stdout",
     "output_type": "stream",
     "text": [
      "                            OLS Regression Results                            \n",
      "==============================================================================\n",
      "Dep. Variable:               int_rate   R-squared:                       0.916\n",
      "Model:                            OLS   Adj. R-squared:                  0.916\n",
      "Method:                 Least Squares   F-statistic:                 2.755e+06\n",
      "Date:                Fri, 22 Jul 2022   Prob (F-statistic):               0.00\n",
      "Time:                        18:04:11   Log-Likelihood:            -3.5805e+06\n",
      "No. Observations:             2028241   AIC:                         7.161e+06\n",
      "Df Residuals:                 2028232   BIC:                         7.161e+06\n",
      "Df Model:                           8                                         \n",
      "Covariance Type:            nonrobust                                         \n",
      "==============================================================================\n",
      "                 coef    std err          t      P>|t|      [0.025      0.975]\n",
      "------------------------------------------------------------------------------\n",
      "const          9.3610      0.025    375.877      0.000       9.312       9.410\n",
      "B              3.4027      0.003   1108.037      0.000       3.397       3.409\n",
      "C              6.8657      0.003   2143.520      0.000       6.859       6.872\n",
      "D             10.9518      0.004   2893.849      0.000      10.944      10.959\n",
      "E             14.7758      0.005   2997.209      0.000      14.766      14.786\n",
      "F             18.7472      0.008   2319.488      0.000      18.731      18.763\n",
      "G             21.5231      0.014   1529.231      0.000      21.496      21.551\n",
      "fico          -0.0033    3.4e-05    -96.530      0.000      -0.003      -0.003\n",
      "dti            0.0042    6.8e-05     61.266      0.000       0.004       0.004\n",
      "==============================================================================\n",
      "Omnibus:                   107077.818   Durbin-Watson:                   1.615\n",
      "Prob(Omnibus):                  0.000   Jarque-Bera (JB):           385439.712\n",
      "Skew:                           0.149   Prob(JB):                         0.00\n",
      "Kurtosis:                       5.115   Cond. No.                     1.79e+04\n",
      "==============================================================================\n",
      "\n",
      "Notes:\n",
      "[1] Standard Errors assume that the covariance matrix of the errors is correctly specified.\n",
      "[2] The condition number is large, 1.79e+04. This might indicate that there are\n",
      "strong multicollinearity or other numerical problems.\n"
     ]
    }
   ],
   "source": [
    "# int_rate ~ grade, fico, dti\n",
    "X = sm.add_constant(filtered_accepted[['B', 'C', 'D', 'E', 'F', 'G', 'fico', 'dti']])\n",
    "y = filtered_accepted['int_rate']\n",
    "ols = sm.OLS(y, X)\n",
    "ols_results = ols.fit()\n",
    "print(ols_results.summary())"
   ]
  },
  {
   "cell_type": "code",
   "execution_count": 42,
   "metadata": {},
   "outputs": [
    {
     "data": {
      "application/vnd.plotly.v1+json": {
       "config": {
        "plotlyServerURL": "https://plot.ly"
       },
       "data": [
        {
         "coloraxis": "coloraxis",
         "geo": "geo",
         "hovertemplate": "state=%{location}<br>int_rate_residual=%{z}<extra></extra>",
         "locationmode": "USA-states",
         "locations": [
          "AK",
          "AL",
          "AR",
          "AZ",
          "CA",
          "CO",
          "CT",
          "DC",
          "DE",
          "FL",
          "GA",
          "HI",
          "ID",
          "IL",
          "IN",
          "KS",
          "KY",
          "LA",
          "MA",
          "MD",
          "ME",
          "MI",
          "MN",
          "MO",
          "MS",
          "MT",
          "NC",
          "ND",
          "NE",
          "NH",
          "NJ",
          "NM",
          "NV",
          "NY",
          "OH",
          "OK",
          "OR",
          "PA",
          "RI",
          "SC",
          "SD",
          "TN",
          "TX",
          "UT",
          "VA",
          "VT",
          "WA",
          "WI",
          "WV",
          "WY"
         ],
         "name": "",
         "type": "choropleth",
         "z": [
          -0.04348840326113025,
          -0.002694121334636726,
          0.006821230995466184,
          -0.003613428411415345,
          -0.004794633866808926,
          -0.018853011701219457,
          0.028926072226959518,
          -0.06661318372458924,
          -0.0013806039791234698,
          0.020952168910657733,
          0.0007831536596227466,
          0.0027139212216642228,
          0.327984223828529,
          -0.005797411791466698,
          -0.030669951803946865,
          -0.031426184978859246,
          -0.008514664884698715,
          -0.024356706075602537,
          -0.005861666673487468,
          0.011897879869270463,
          0.1440061430901452,
          -0.0033451568762372747,
          -0.028340953778190153,
          -0.0299269025878911,
          -0.017694651009762995,
          0.003876958873206593,
          -0.023114541266653445,
          0.12248543291053474,
          0.11305834472011676,
          -0.015898083440117578,
          0.0018852862870151,
          -0.03468570686324619,
          0.00745922972739838,
          0.041762530280086606,
          -0.013040084069207111,
          -0.005948643258560673,
          -0.004624034902979741,
          -0.02469659839850519,
          0.017798128400523566,
          0.008624543675220591,
          -0.04493894737817803,
          -0.008823508860126127,
          0.0018548306614312446,
          -0.02905586708412236,
          -0.020569187085569183,
          0.011641206709054896,
          -0.0042048658123144305,
          -0.01538029345563913,
          -0.07900278785177604,
          -0.017583839033483605
         ]
        }
       ],
       "layout": {
        "coloraxis": {
         "colorbar": {
          "title": {
           "text": "int_rate_residual"
          }
         },
         "colorscale": [
          [
           0,
           "rgb(255,247,251)"
          ],
          [
           0.125,
           "rgb(236,231,242)"
          ],
          [
           0.25,
           "rgb(208,209,230)"
          ],
          [
           0.375,
           "rgb(166,189,219)"
          ],
          [
           0.5,
           "rgb(116,169,207)"
          ],
          [
           0.625,
           "rgb(54,144,192)"
          ],
          [
           0.75,
           "rgb(5,112,176)"
          ],
          [
           0.875,
           "rgb(4,90,141)"
          ],
          [
           1,
           "rgb(2,56,88)"
          ]
         ]
        },
        "geo": {
         "center": {},
         "domain": {
          "x": [
           0,
           1
          ],
          "y": [
           0,
           1
          ]
         },
         "scope": "usa"
        },
        "legend": {
         "tracegroupgap": 0
        },
        "margin": {
         "t": 60
        },
        "template": {
         "data": {
          "bar": [
           {
            "error_x": {
             "color": "#2a3f5f"
            },
            "error_y": {
             "color": "#2a3f5f"
            },
            "marker": {
             "line": {
              "color": "#E5ECF6",
              "width": 0.5
             },
             "pattern": {
              "fillmode": "overlay",
              "size": 10,
              "solidity": 0.2
             }
            },
            "type": "bar"
           }
          ],
          "barpolar": [
           {
            "marker": {
             "line": {
              "color": "#E5ECF6",
              "width": 0.5
             },
             "pattern": {
              "fillmode": "overlay",
              "size": 10,
              "solidity": 0.2
             }
            },
            "type": "barpolar"
           }
          ],
          "carpet": [
           {
            "aaxis": {
             "endlinecolor": "#2a3f5f",
             "gridcolor": "white",
             "linecolor": "white",
             "minorgridcolor": "white",
             "startlinecolor": "#2a3f5f"
            },
            "baxis": {
             "endlinecolor": "#2a3f5f",
             "gridcolor": "white",
             "linecolor": "white",
             "minorgridcolor": "white",
             "startlinecolor": "#2a3f5f"
            },
            "type": "carpet"
           }
          ],
          "choropleth": [
           {
            "colorbar": {
             "outlinewidth": 0,
             "ticks": ""
            },
            "type": "choropleth"
           }
          ],
          "contour": [
           {
            "colorbar": {
             "outlinewidth": 0,
             "ticks": ""
            },
            "colorscale": [
             [
              0,
              "#0d0887"
             ],
             [
              0.1111111111111111,
              "#46039f"
             ],
             [
              0.2222222222222222,
              "#7201a8"
             ],
             [
              0.3333333333333333,
              "#9c179e"
             ],
             [
              0.4444444444444444,
              "#bd3786"
             ],
             [
              0.5555555555555556,
              "#d8576b"
             ],
             [
              0.6666666666666666,
              "#ed7953"
             ],
             [
              0.7777777777777778,
              "#fb9f3a"
             ],
             [
              0.8888888888888888,
              "#fdca26"
             ],
             [
              1,
              "#f0f921"
             ]
            ],
            "type": "contour"
           }
          ],
          "contourcarpet": [
           {
            "colorbar": {
             "outlinewidth": 0,
             "ticks": ""
            },
            "type": "contourcarpet"
           }
          ],
          "heatmap": [
           {
            "colorbar": {
             "outlinewidth": 0,
             "ticks": ""
            },
            "colorscale": [
             [
              0,
              "#0d0887"
             ],
             [
              0.1111111111111111,
              "#46039f"
             ],
             [
              0.2222222222222222,
              "#7201a8"
             ],
             [
              0.3333333333333333,
              "#9c179e"
             ],
             [
              0.4444444444444444,
              "#bd3786"
             ],
             [
              0.5555555555555556,
              "#d8576b"
             ],
             [
              0.6666666666666666,
              "#ed7953"
             ],
             [
              0.7777777777777778,
              "#fb9f3a"
             ],
             [
              0.8888888888888888,
              "#fdca26"
             ],
             [
              1,
              "#f0f921"
             ]
            ],
            "type": "heatmap"
           }
          ],
          "heatmapgl": [
           {
            "colorbar": {
             "outlinewidth": 0,
             "ticks": ""
            },
            "colorscale": [
             [
              0,
              "#0d0887"
             ],
             [
              0.1111111111111111,
              "#46039f"
             ],
             [
              0.2222222222222222,
              "#7201a8"
             ],
             [
              0.3333333333333333,
              "#9c179e"
             ],
             [
              0.4444444444444444,
              "#bd3786"
             ],
             [
              0.5555555555555556,
              "#d8576b"
             ],
             [
              0.6666666666666666,
              "#ed7953"
             ],
             [
              0.7777777777777778,
              "#fb9f3a"
             ],
             [
              0.8888888888888888,
              "#fdca26"
             ],
             [
              1,
              "#f0f921"
             ]
            ],
            "type": "heatmapgl"
           }
          ],
          "histogram": [
           {
            "marker": {
             "pattern": {
              "fillmode": "overlay",
              "size": 10,
              "solidity": 0.2
             }
            },
            "type": "histogram"
           }
          ],
          "histogram2d": [
           {
            "colorbar": {
             "outlinewidth": 0,
             "ticks": ""
            },
            "colorscale": [
             [
              0,
              "#0d0887"
             ],
             [
              0.1111111111111111,
              "#46039f"
             ],
             [
              0.2222222222222222,
              "#7201a8"
             ],
             [
              0.3333333333333333,
              "#9c179e"
             ],
             [
              0.4444444444444444,
              "#bd3786"
             ],
             [
              0.5555555555555556,
              "#d8576b"
             ],
             [
              0.6666666666666666,
              "#ed7953"
             ],
             [
              0.7777777777777778,
              "#fb9f3a"
             ],
             [
              0.8888888888888888,
              "#fdca26"
             ],
             [
              1,
              "#f0f921"
             ]
            ],
            "type": "histogram2d"
           }
          ],
          "histogram2dcontour": [
           {
            "colorbar": {
             "outlinewidth": 0,
             "ticks": ""
            },
            "colorscale": [
             [
              0,
              "#0d0887"
             ],
             [
              0.1111111111111111,
              "#46039f"
             ],
             [
              0.2222222222222222,
              "#7201a8"
             ],
             [
              0.3333333333333333,
              "#9c179e"
             ],
             [
              0.4444444444444444,
              "#bd3786"
             ],
             [
              0.5555555555555556,
              "#d8576b"
             ],
             [
              0.6666666666666666,
              "#ed7953"
             ],
             [
              0.7777777777777778,
              "#fb9f3a"
             ],
             [
              0.8888888888888888,
              "#fdca26"
             ],
             [
              1,
              "#f0f921"
             ]
            ],
            "type": "histogram2dcontour"
           }
          ],
          "mesh3d": [
           {
            "colorbar": {
             "outlinewidth": 0,
             "ticks": ""
            },
            "type": "mesh3d"
           }
          ],
          "parcoords": [
           {
            "line": {
             "colorbar": {
              "outlinewidth": 0,
              "ticks": ""
             }
            },
            "type": "parcoords"
           }
          ],
          "pie": [
           {
            "automargin": true,
            "type": "pie"
           }
          ],
          "scatter": [
           {
            "marker": {
             "colorbar": {
              "outlinewidth": 0,
              "ticks": ""
             }
            },
            "type": "scatter"
           }
          ],
          "scatter3d": [
           {
            "line": {
             "colorbar": {
              "outlinewidth": 0,
              "ticks": ""
             }
            },
            "marker": {
             "colorbar": {
              "outlinewidth": 0,
              "ticks": ""
             }
            },
            "type": "scatter3d"
           }
          ],
          "scattercarpet": [
           {
            "marker": {
             "colorbar": {
              "outlinewidth": 0,
              "ticks": ""
             }
            },
            "type": "scattercarpet"
           }
          ],
          "scattergeo": [
           {
            "marker": {
             "colorbar": {
              "outlinewidth": 0,
              "ticks": ""
             }
            },
            "type": "scattergeo"
           }
          ],
          "scattergl": [
           {
            "marker": {
             "colorbar": {
              "outlinewidth": 0,
              "ticks": ""
             }
            },
            "type": "scattergl"
           }
          ],
          "scattermapbox": [
           {
            "marker": {
             "colorbar": {
              "outlinewidth": 0,
              "ticks": ""
             }
            },
            "type": "scattermapbox"
           }
          ],
          "scatterpolar": [
           {
            "marker": {
             "colorbar": {
              "outlinewidth": 0,
              "ticks": ""
             }
            },
            "type": "scatterpolar"
           }
          ],
          "scatterpolargl": [
           {
            "marker": {
             "colorbar": {
              "outlinewidth": 0,
              "ticks": ""
             }
            },
            "type": "scatterpolargl"
           }
          ],
          "scatterternary": [
           {
            "marker": {
             "colorbar": {
              "outlinewidth": 0,
              "ticks": ""
             }
            },
            "type": "scatterternary"
           }
          ],
          "surface": [
           {
            "colorbar": {
             "outlinewidth": 0,
             "ticks": ""
            },
            "colorscale": [
             [
              0,
              "#0d0887"
             ],
             [
              0.1111111111111111,
              "#46039f"
             ],
             [
              0.2222222222222222,
              "#7201a8"
             ],
             [
              0.3333333333333333,
              "#9c179e"
             ],
             [
              0.4444444444444444,
              "#bd3786"
             ],
             [
              0.5555555555555556,
              "#d8576b"
             ],
             [
              0.6666666666666666,
              "#ed7953"
             ],
             [
              0.7777777777777778,
              "#fb9f3a"
             ],
             [
              0.8888888888888888,
              "#fdca26"
             ],
             [
              1,
              "#f0f921"
             ]
            ],
            "type": "surface"
           }
          ],
          "table": [
           {
            "cells": {
             "fill": {
              "color": "#EBF0F8"
             },
             "line": {
              "color": "white"
             }
            },
            "header": {
             "fill": {
              "color": "#C8D4E3"
             },
             "line": {
              "color": "white"
             }
            },
            "type": "table"
           }
          ]
         },
         "layout": {
          "annotationdefaults": {
           "arrowcolor": "#2a3f5f",
           "arrowhead": 0,
           "arrowwidth": 1
          },
          "autotypenumbers": "strict",
          "coloraxis": {
           "colorbar": {
            "outlinewidth": 0,
            "ticks": ""
           }
          },
          "colorscale": {
           "diverging": [
            [
             0,
             "#8e0152"
            ],
            [
             0.1,
             "#c51b7d"
            ],
            [
             0.2,
             "#de77ae"
            ],
            [
             0.3,
             "#f1b6da"
            ],
            [
             0.4,
             "#fde0ef"
            ],
            [
             0.5,
             "#f7f7f7"
            ],
            [
             0.6,
             "#e6f5d0"
            ],
            [
             0.7,
             "#b8e186"
            ],
            [
             0.8,
             "#7fbc41"
            ],
            [
             0.9,
             "#4d9221"
            ],
            [
             1,
             "#276419"
            ]
           ],
           "sequential": [
            [
             0,
             "#0d0887"
            ],
            [
             0.1111111111111111,
             "#46039f"
            ],
            [
             0.2222222222222222,
             "#7201a8"
            ],
            [
             0.3333333333333333,
             "#9c179e"
            ],
            [
             0.4444444444444444,
             "#bd3786"
            ],
            [
             0.5555555555555556,
             "#d8576b"
            ],
            [
             0.6666666666666666,
             "#ed7953"
            ],
            [
             0.7777777777777778,
             "#fb9f3a"
            ],
            [
             0.8888888888888888,
             "#fdca26"
            ],
            [
             1,
             "#f0f921"
            ]
           ],
           "sequentialminus": [
            [
             0,
             "#0d0887"
            ],
            [
             0.1111111111111111,
             "#46039f"
            ],
            [
             0.2222222222222222,
             "#7201a8"
            ],
            [
             0.3333333333333333,
             "#9c179e"
            ],
            [
             0.4444444444444444,
             "#bd3786"
            ],
            [
             0.5555555555555556,
             "#d8576b"
            ],
            [
             0.6666666666666666,
             "#ed7953"
            ],
            [
             0.7777777777777778,
             "#fb9f3a"
            ],
            [
             0.8888888888888888,
             "#fdca26"
            ],
            [
             1,
             "#f0f921"
            ]
           ]
          },
          "colorway": [
           "#636efa",
           "#EF553B",
           "#00cc96",
           "#ab63fa",
           "#FFA15A",
           "#19d3f3",
           "#FF6692",
           "#B6E880",
           "#FF97FF",
           "#FECB52"
          ],
          "font": {
           "color": "#2a3f5f"
          },
          "geo": {
           "bgcolor": "white",
           "lakecolor": "white",
           "landcolor": "#E5ECF6",
           "showlakes": true,
           "showland": true,
           "subunitcolor": "white"
          },
          "hoverlabel": {
           "align": "left"
          },
          "hovermode": "closest",
          "mapbox": {
           "style": "light"
          },
          "paper_bgcolor": "white",
          "plot_bgcolor": "#E5ECF6",
          "polar": {
           "angularaxis": {
            "gridcolor": "white",
            "linecolor": "white",
            "ticks": ""
           },
           "bgcolor": "#E5ECF6",
           "radialaxis": {
            "gridcolor": "white",
            "linecolor": "white",
            "ticks": ""
           }
          },
          "scene": {
           "xaxis": {
            "backgroundcolor": "#E5ECF6",
            "gridcolor": "white",
            "gridwidth": 2,
            "linecolor": "white",
            "showbackground": true,
            "ticks": "",
            "zerolinecolor": "white"
           },
           "yaxis": {
            "backgroundcolor": "#E5ECF6",
            "gridcolor": "white",
            "gridwidth": 2,
            "linecolor": "white",
            "showbackground": true,
            "ticks": "",
            "zerolinecolor": "white"
           },
           "zaxis": {
            "backgroundcolor": "#E5ECF6",
            "gridcolor": "white",
            "gridwidth": 2,
            "linecolor": "white",
            "showbackground": true,
            "ticks": "",
            "zerolinecolor": "white"
           }
          },
          "shapedefaults": {
           "line": {
            "color": "#2a3f5f"
           }
          },
          "ternary": {
           "aaxis": {
            "gridcolor": "white",
            "linecolor": "white",
            "ticks": ""
           },
           "baxis": {
            "gridcolor": "white",
            "linecolor": "white",
            "ticks": ""
           },
           "bgcolor": "#E5ECF6",
           "caxis": {
            "gridcolor": "white",
            "linecolor": "white",
            "ticks": ""
           }
          },
          "title": {
           "x": 0.05
          },
          "xaxis": {
           "automargin": true,
           "gridcolor": "white",
           "linecolor": "white",
           "ticks": "",
           "title": {
            "standoff": 15
           },
           "zerolinecolor": "white",
           "zerolinewidth": 2
          },
          "yaxis": {
           "automargin": true,
           "gridcolor": "white",
           "linecolor": "white",
           "ticks": "",
           "title": {
            "standoff": 15
           },
           "zerolinecolor": "white",
           "zerolinewidth": 2
          }
         }
        }
       }
      },
      "text/html": [
       "<div>                            <div id=\"1c6311af-239c-4c1d-afd1-682bc2cde7be\" class=\"plotly-graph-div\" style=\"height:525px; width:100%;\"></div>            <script type=\"text/javascript\">                require([\"plotly\"], function(Plotly) {                    window.PLOTLYENV=window.PLOTLYENV || {};                                    if (document.getElementById(\"1c6311af-239c-4c1d-afd1-682bc2cde7be\")) {                    Plotly.newPlot(                        \"1c6311af-239c-4c1d-afd1-682bc2cde7be\",                        [{\"coloraxis\":\"coloraxis\",\"geo\":\"geo\",\"hovertemplate\":\"state=%{location}<br>int_rate_residual=%{z}<extra></extra>\",\"locationmode\":\"USA-states\",\"locations\":[\"AK\",\"AL\",\"AR\",\"AZ\",\"CA\",\"CO\",\"CT\",\"DC\",\"DE\",\"FL\",\"GA\",\"HI\",\"ID\",\"IL\",\"IN\",\"KS\",\"KY\",\"LA\",\"MA\",\"MD\",\"ME\",\"MI\",\"MN\",\"MO\",\"MS\",\"MT\",\"NC\",\"ND\",\"NE\",\"NH\",\"NJ\",\"NM\",\"NV\",\"NY\",\"OH\",\"OK\",\"OR\",\"PA\",\"RI\",\"SC\",\"SD\",\"TN\",\"TX\",\"UT\",\"VA\",\"VT\",\"WA\",\"WI\",\"WV\",\"WY\"],\"name\":\"\",\"type\":\"choropleth\",\"z\":[-0.04348840326113025,-0.002694121334636726,0.006821230995466184,-0.003613428411415345,-0.004794633866808926,-0.018853011701219457,0.028926072226959518,-0.06661318372458924,-0.0013806039791234698,0.020952168910657733,0.0007831536596227466,0.0027139212216642228,0.327984223828529,-0.005797411791466698,-0.030669951803946865,-0.031426184978859246,-0.008514664884698715,-0.024356706075602537,-0.005861666673487468,0.011897879869270463,0.1440061430901452,-0.0033451568762372747,-0.028340953778190153,-0.0299269025878911,-0.017694651009762995,0.003876958873206593,-0.023114541266653445,0.12248543291053474,0.11305834472011676,-0.015898083440117578,0.0018852862870151,-0.03468570686324619,0.00745922972739838,0.041762530280086606,-0.013040084069207111,-0.005948643258560673,-0.004624034902979741,-0.02469659839850519,0.017798128400523566,0.008624543675220591,-0.04493894737817803,-0.008823508860126127,0.0018548306614312446,-0.02905586708412236,-0.020569187085569183,0.011641206709054896,-0.0042048658123144305,-0.01538029345563913,-0.07900278785177604,-0.017583839033483605]}],                        {\"coloraxis\":{\"colorbar\":{\"title\":{\"text\":\"int_rate_residual\"}},\"colorscale\":[[0.0,\"rgb(255,247,251)\"],[0.125,\"rgb(236,231,242)\"],[0.25,\"rgb(208,209,230)\"],[0.375,\"rgb(166,189,219)\"],[0.5,\"rgb(116,169,207)\"],[0.625,\"rgb(54,144,192)\"],[0.75,\"rgb(5,112,176)\"],[0.875,\"rgb(4,90,141)\"],[1.0,\"rgb(2,56,88)\"]]},\"geo\":{\"center\":{},\"domain\":{\"x\":[0.0,1.0],\"y\":[0.0,1.0]},\"scope\":\"usa\"},\"legend\":{\"tracegroupgap\":0},\"margin\":{\"t\":60},\"template\":{\"data\":{\"bar\":[{\"error_x\":{\"color\":\"#2a3f5f\"},\"error_y\":{\"color\":\"#2a3f5f\"},\"marker\":{\"line\":{\"color\":\"#E5ECF6\",\"width\":0.5},\"pattern\":{\"fillmode\":\"overlay\",\"size\":10,\"solidity\":0.2}},\"type\":\"bar\"}],\"barpolar\":[{\"marker\":{\"line\":{\"color\":\"#E5ECF6\",\"width\":0.5},\"pattern\":{\"fillmode\":\"overlay\",\"size\":10,\"solidity\":0.2}},\"type\":\"barpolar\"}],\"carpet\":[{\"aaxis\":{\"endlinecolor\":\"#2a3f5f\",\"gridcolor\":\"white\",\"linecolor\":\"white\",\"minorgridcolor\":\"white\",\"startlinecolor\":\"#2a3f5f\"},\"baxis\":{\"endlinecolor\":\"#2a3f5f\",\"gridcolor\":\"white\",\"linecolor\":\"white\",\"minorgridcolor\":\"white\",\"startlinecolor\":\"#2a3f5f\"},\"type\":\"carpet\"}],\"choropleth\":[{\"colorbar\":{\"outlinewidth\":0,\"ticks\":\"\"},\"type\":\"choropleth\"}],\"contour\":[{\"colorbar\":{\"outlinewidth\":0,\"ticks\":\"\"},\"colorscale\":[[0.0,\"#0d0887\"],[0.1111111111111111,\"#46039f\"],[0.2222222222222222,\"#7201a8\"],[0.3333333333333333,\"#9c179e\"],[0.4444444444444444,\"#bd3786\"],[0.5555555555555556,\"#d8576b\"],[0.6666666666666666,\"#ed7953\"],[0.7777777777777778,\"#fb9f3a\"],[0.8888888888888888,\"#fdca26\"],[1.0,\"#f0f921\"]],\"type\":\"contour\"}],\"contourcarpet\":[{\"colorbar\":{\"outlinewidth\":0,\"ticks\":\"\"},\"type\":\"contourcarpet\"}],\"heatmap\":[{\"colorbar\":{\"outlinewidth\":0,\"ticks\":\"\"},\"colorscale\":[[0.0,\"#0d0887\"],[0.1111111111111111,\"#46039f\"],[0.2222222222222222,\"#7201a8\"],[0.3333333333333333,\"#9c179e\"],[0.4444444444444444,\"#bd3786\"],[0.5555555555555556,\"#d8576b\"],[0.6666666666666666,\"#ed7953\"],[0.7777777777777778,\"#fb9f3a\"],[0.8888888888888888,\"#fdca26\"],[1.0,\"#f0f921\"]],\"type\":\"heatmap\"}],\"heatmapgl\":[{\"colorbar\":{\"outlinewidth\":0,\"ticks\":\"\"},\"colorscale\":[[0.0,\"#0d0887\"],[0.1111111111111111,\"#46039f\"],[0.2222222222222222,\"#7201a8\"],[0.3333333333333333,\"#9c179e\"],[0.4444444444444444,\"#bd3786\"],[0.5555555555555556,\"#d8576b\"],[0.6666666666666666,\"#ed7953\"],[0.7777777777777778,\"#fb9f3a\"],[0.8888888888888888,\"#fdca26\"],[1.0,\"#f0f921\"]],\"type\":\"heatmapgl\"}],\"histogram\":[{\"marker\":{\"pattern\":{\"fillmode\":\"overlay\",\"size\":10,\"solidity\":0.2}},\"type\":\"histogram\"}],\"histogram2d\":[{\"colorbar\":{\"outlinewidth\":0,\"ticks\":\"\"},\"colorscale\":[[0.0,\"#0d0887\"],[0.1111111111111111,\"#46039f\"],[0.2222222222222222,\"#7201a8\"],[0.3333333333333333,\"#9c179e\"],[0.4444444444444444,\"#bd3786\"],[0.5555555555555556,\"#d8576b\"],[0.6666666666666666,\"#ed7953\"],[0.7777777777777778,\"#fb9f3a\"],[0.8888888888888888,\"#fdca26\"],[1.0,\"#f0f921\"]],\"type\":\"histogram2d\"}],\"histogram2dcontour\":[{\"colorbar\":{\"outlinewidth\":0,\"ticks\":\"\"},\"colorscale\":[[0.0,\"#0d0887\"],[0.1111111111111111,\"#46039f\"],[0.2222222222222222,\"#7201a8\"],[0.3333333333333333,\"#9c179e\"],[0.4444444444444444,\"#bd3786\"],[0.5555555555555556,\"#d8576b\"],[0.6666666666666666,\"#ed7953\"],[0.7777777777777778,\"#fb9f3a\"],[0.8888888888888888,\"#fdca26\"],[1.0,\"#f0f921\"]],\"type\":\"histogram2dcontour\"}],\"mesh3d\":[{\"colorbar\":{\"outlinewidth\":0,\"ticks\":\"\"},\"type\":\"mesh3d\"}],\"parcoords\":[{\"line\":{\"colorbar\":{\"outlinewidth\":0,\"ticks\":\"\"}},\"type\":\"parcoords\"}],\"pie\":[{\"automargin\":true,\"type\":\"pie\"}],\"scatter\":[{\"marker\":{\"colorbar\":{\"outlinewidth\":0,\"ticks\":\"\"}},\"type\":\"scatter\"}],\"scatter3d\":[{\"line\":{\"colorbar\":{\"outlinewidth\":0,\"ticks\":\"\"}},\"marker\":{\"colorbar\":{\"outlinewidth\":0,\"ticks\":\"\"}},\"type\":\"scatter3d\"}],\"scattercarpet\":[{\"marker\":{\"colorbar\":{\"outlinewidth\":0,\"ticks\":\"\"}},\"type\":\"scattercarpet\"}],\"scattergeo\":[{\"marker\":{\"colorbar\":{\"outlinewidth\":0,\"ticks\":\"\"}},\"type\":\"scattergeo\"}],\"scattergl\":[{\"marker\":{\"colorbar\":{\"outlinewidth\":0,\"ticks\":\"\"}},\"type\":\"scattergl\"}],\"scattermapbox\":[{\"marker\":{\"colorbar\":{\"outlinewidth\":0,\"ticks\":\"\"}},\"type\":\"scattermapbox\"}],\"scatterpolar\":[{\"marker\":{\"colorbar\":{\"outlinewidth\":0,\"ticks\":\"\"}},\"type\":\"scatterpolar\"}],\"scatterpolargl\":[{\"marker\":{\"colorbar\":{\"outlinewidth\":0,\"ticks\":\"\"}},\"type\":\"scatterpolargl\"}],\"scatterternary\":[{\"marker\":{\"colorbar\":{\"outlinewidth\":0,\"ticks\":\"\"}},\"type\":\"scatterternary\"}],\"surface\":[{\"colorbar\":{\"outlinewidth\":0,\"ticks\":\"\"},\"colorscale\":[[0.0,\"#0d0887\"],[0.1111111111111111,\"#46039f\"],[0.2222222222222222,\"#7201a8\"],[0.3333333333333333,\"#9c179e\"],[0.4444444444444444,\"#bd3786\"],[0.5555555555555556,\"#d8576b\"],[0.6666666666666666,\"#ed7953\"],[0.7777777777777778,\"#fb9f3a\"],[0.8888888888888888,\"#fdca26\"],[1.0,\"#f0f921\"]],\"type\":\"surface\"}],\"table\":[{\"cells\":{\"fill\":{\"color\":\"#EBF0F8\"},\"line\":{\"color\":\"white\"}},\"header\":{\"fill\":{\"color\":\"#C8D4E3\"},\"line\":{\"color\":\"white\"}},\"type\":\"table\"}]},\"layout\":{\"annotationdefaults\":{\"arrowcolor\":\"#2a3f5f\",\"arrowhead\":0,\"arrowwidth\":1},\"autotypenumbers\":\"strict\",\"coloraxis\":{\"colorbar\":{\"outlinewidth\":0,\"ticks\":\"\"}},\"colorscale\":{\"diverging\":[[0,\"#8e0152\"],[0.1,\"#c51b7d\"],[0.2,\"#de77ae\"],[0.3,\"#f1b6da\"],[0.4,\"#fde0ef\"],[0.5,\"#f7f7f7\"],[0.6,\"#e6f5d0\"],[0.7,\"#b8e186\"],[0.8,\"#7fbc41\"],[0.9,\"#4d9221\"],[1,\"#276419\"]],\"sequential\":[[0.0,\"#0d0887\"],[0.1111111111111111,\"#46039f\"],[0.2222222222222222,\"#7201a8\"],[0.3333333333333333,\"#9c179e\"],[0.4444444444444444,\"#bd3786\"],[0.5555555555555556,\"#d8576b\"],[0.6666666666666666,\"#ed7953\"],[0.7777777777777778,\"#fb9f3a\"],[0.8888888888888888,\"#fdca26\"],[1.0,\"#f0f921\"]],\"sequentialminus\":[[0.0,\"#0d0887\"],[0.1111111111111111,\"#46039f\"],[0.2222222222222222,\"#7201a8\"],[0.3333333333333333,\"#9c179e\"],[0.4444444444444444,\"#bd3786\"],[0.5555555555555556,\"#d8576b\"],[0.6666666666666666,\"#ed7953\"],[0.7777777777777778,\"#fb9f3a\"],[0.8888888888888888,\"#fdca26\"],[1.0,\"#f0f921\"]]},\"colorway\":[\"#636efa\",\"#EF553B\",\"#00cc96\",\"#ab63fa\",\"#FFA15A\",\"#19d3f3\",\"#FF6692\",\"#B6E880\",\"#FF97FF\",\"#FECB52\"],\"font\":{\"color\":\"#2a3f5f\"},\"geo\":{\"bgcolor\":\"white\",\"lakecolor\":\"white\",\"landcolor\":\"#E5ECF6\",\"showlakes\":true,\"showland\":true,\"subunitcolor\":\"white\"},\"hoverlabel\":{\"align\":\"left\"},\"hovermode\":\"closest\",\"mapbox\":{\"style\":\"light\"},\"paper_bgcolor\":\"white\",\"plot_bgcolor\":\"#E5ECF6\",\"polar\":{\"angularaxis\":{\"gridcolor\":\"white\",\"linecolor\":\"white\",\"ticks\":\"\"},\"bgcolor\":\"#E5ECF6\",\"radialaxis\":{\"gridcolor\":\"white\",\"linecolor\":\"white\",\"ticks\":\"\"}},\"scene\":{\"xaxis\":{\"backgroundcolor\":\"#E5ECF6\",\"gridcolor\":\"white\",\"gridwidth\":2,\"linecolor\":\"white\",\"showbackground\":true,\"ticks\":\"\",\"zerolinecolor\":\"white\"},\"yaxis\":{\"backgroundcolor\":\"#E5ECF6\",\"gridcolor\":\"white\",\"gridwidth\":2,\"linecolor\":\"white\",\"showbackground\":true,\"ticks\":\"\",\"zerolinecolor\":\"white\"},\"zaxis\":{\"backgroundcolor\":\"#E5ECF6\",\"gridcolor\":\"white\",\"gridwidth\":2,\"linecolor\":\"white\",\"showbackground\":true,\"ticks\":\"\",\"zerolinecolor\":\"white\"}},\"shapedefaults\":{\"line\":{\"color\":\"#2a3f5f\"}},\"ternary\":{\"aaxis\":{\"gridcolor\":\"white\",\"linecolor\":\"white\",\"ticks\":\"\"},\"baxis\":{\"gridcolor\":\"white\",\"linecolor\":\"white\",\"ticks\":\"\"},\"bgcolor\":\"#E5ECF6\",\"caxis\":{\"gridcolor\":\"white\",\"linecolor\":\"white\",\"ticks\":\"\"}},\"title\":{\"x\":0.05},\"xaxis\":{\"automargin\":true,\"gridcolor\":\"white\",\"linecolor\":\"white\",\"ticks\":\"\",\"title\":{\"standoff\":15},\"zerolinecolor\":\"white\",\"zerolinewidth\":2},\"yaxis\":{\"automargin\":true,\"gridcolor\":\"white\",\"linecolor\":\"white\",\"ticks\":\"\",\"title\":{\"standoff\":15},\"zerolinecolor\":\"white\",\"zerolinewidth\":2}}}},                        {\"responsive\": true}                    ).then(function(){\n",
       "                            \n",
       "var gd = document.getElementById('1c6311af-239c-4c1d-afd1-682bc2cde7be');\n",
       "var x = new MutationObserver(function (mutations, observer) {{\n",
       "        var display = window.getComputedStyle(gd).display;\n",
       "        if (!display || display === 'none') {{\n",
       "            console.log([gd, 'removed!']);\n",
       "            Plotly.purge(gd);\n",
       "            observer.disconnect();\n",
       "        }}\n",
       "}});\n",
       "\n",
       "// Listen for the removal of the full notebook cells\n",
       "var notebookContainer = gd.closest('#notebook-container');\n",
       "if (notebookContainer) {{\n",
       "    x.observe(notebookContainer, {childList: true});\n",
       "}}\n",
       "\n",
       "// Listen for the clearing of the current output cell\n",
       "var outputEl = gd.closest('.output');\n",
       "if (outputEl) {{\n",
       "    x.observe(outputEl, {childList: true});\n",
       "}}\n",
       "\n",
       "                        })                };                });            </script>        </div>"
      ]
     },
     "metadata": {},
     "output_type": "display_data"
    }
   ],
   "source": [
    "filtered_accepted['predicted_int_rate'] = ols_results.predict(X)\n",
    "filtered_accepted['int_rate_residual'] = filtered_accepted['int_rate'] - filtered_accepted['predicted_int_rate']\n",
    "plot_df = filtered_accepted.groupby('state').mean()['int_rate_residual'].reset_index()\n",
    "plot_df = plot_df[~plot_df['state'].isin(['IA'])]\n",
    "\n",
    "fig = px.choropleth(plot_df,\n",
    "                    locations='state', \n",
    "                    locationmode=\"USA-states\", \n",
    "                    scope=\"usa\",\n",
    "                    color='int_rate_residual',\n",
    "                    color_continuous_scale=\"PuBu\")\n",
    "fig.show()"
   ]
  },
  {
   "cell_type": "code",
   "execution_count": 39,
   "metadata": {},
   "outputs": [
    {
     "name": "stdout",
     "output_type": "stream",
     "text": [
      "                            OLS Regression Results                            \n",
      "==============================================================================\n",
      "Dep. Variable:               int_rate   R-squared:                       0.916\n",
      "Model:                            OLS   Adj. R-squared:                  0.916\n",
      "Method:                 Least Squares   F-statistic:                 2.449e+06\n",
      "Date:                Fri, 22 Jul 2022   Prob (F-statistic):               0.00\n",
      "Time:                        15:47:14   Log-Likelihood:            -3.5804e+06\n",
      "No. Observations:             2028241   AIC:                         7.161e+06\n",
      "Df Residuals:                 2028231   BIC:                         7.161e+06\n",
      "Df Model:                           9                                         \n",
      "Covariance Type:            nonrobust                                         \n",
      "==============================================================================\n",
      "                 coef    std err          t      P>|t|      [0.025      0.975]\n",
      "------------------------------------------------------------------------------\n",
      "const          9.3663      0.025    375.677      0.000       9.317       9.415\n",
      "B              3.4028      0.003   1108.051      0.000       3.397       3.409\n",
      "C              6.8658      0.003   2143.478      0.000       6.860       6.872\n",
      "D             10.9519      0.004   2893.742      0.000      10.945      10.959\n",
      "E             14.7761      0.005   2997.127      0.000      14.766      14.786\n",
      "F             18.7474      0.008   2319.492      0.000      18.732      18.763\n",
      "G             21.5233      0.014   1529.244      0.000      21.496      21.551\n",
      "fico          -0.0033    3.4e-05    -96.451      0.000      -0.003      -0.003\n",
      "dti            0.0042   6.81e-05     61.426      0.000       0.004       0.004\n",
      "rural_prop    -0.0396      0.009     -4.524      0.000      -0.057      -0.022\n",
      "==============================================================================\n",
      "Omnibus:                   107068.092   Durbin-Watson:                   1.615\n",
      "Prob(Omnibus):                  0.000   Jarque-Bera (JB):           385383.220\n",
      "Skew:                           0.149   Prob(JB):                         0.00\n",
      "Kurtosis:                       5.115   Cond. No.                     1.79e+04\n",
      "==============================================================================\n",
      "\n",
      "Notes:\n",
      "[1] Standard Errors assume that the covariance matrix of the errors is correctly specified.\n",
      "[2] The condition number is large, 1.79e+04. This might indicate that there are\n",
      "strong multicollinearity or other numerical problems.\n"
     ]
    }
   ],
   "source": [
    "# int_rate ~ grade, fico, dti, rural_prop\n",
    "X = sm.add_constant(filtered_accepted[['B', 'C', 'D', 'E', 'F', 'G', 'fico', 'dti', 'rural_prop']])\n",
    "y = filtered_accepted['int_rate']\n",
    "ols = sm.OLS(y, X)\n",
    "ols_results = ols.fit()\n",
    "print(ols_results.summary())"
   ]
  },
  {
   "cell_type": "code",
   "execution_count": 57,
   "metadata": {},
   "outputs": [
    {
     "data": {
      "text/plain": [
       "KMeans()"
      ]
     },
     "execution_count": 57,
     "metadata": {},
     "output_type": "execute_result"
    }
   ],
   "source": [
    "# Clustering\n",
    "X = filtered_accepted[['B', 'C', 'D', 'E', 'F', 'G', 'fico', 'dti']]\n",
    "kmeans = KMeans()\n",
    "kmeans.fit(X)"
   ]
  },
  {
   "cell_type": "code",
   "execution_count": 58,
   "metadata": {},
   "outputs": [],
   "source": [
    "filtered_accepted['cluster'] = kmeans.predict(X)"
   ]
  },
  {
   "cell_type": "code",
   "execution_count": 59,
   "metadata": {},
   "outputs": [
    {
     "data": {
      "text/plain": [
       "<matplotlib.axes._subplots.AxesSubplot at 0x7fb424103310>"
      ]
     },
     "execution_count": 59,
     "metadata": {},
     "output_type": "execute_result"
    },
    {
     "data": {
      "image/png": "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\n",
      "text/plain": [
       "<Figure size 432x288 with 1 Axes>"
      ]
     },
     "metadata": {
      "needs_background": "light"
     },
     "output_type": "display_data"
    }
   ],
   "source": [
    "sns.scatterplot(data=filtered_accepted.sample(100), x='fico', y='dti', hue='cluster')"
   ]
  },
  {
   "cell_type": "code",
   "execution_count": 21,
   "metadata": {},
   "outputs": [
    {
     "data": {
      "text/plain": [
       "Index(['title', 'emp_title', 'emp_length', 'zip_code', 'state', 'loan_amnt',\n",
       "       'grade', 'dti', 'term', 'int_rate', 'home_ownership', 'issue_d', 'fico',\n",
       "       'rural_prop', 'total_pop', 'B', 'C', 'D', 'E', 'F', 'G'],\n",
       "      dtype='object')"
      ]
     },
     "execution_count": 21,
     "metadata": {},
     "output_type": "execute_result"
    }
   ],
   "source": [
    "filtered_accepted.columns"
   ]
  },
  {
   "cell_type": "code",
   "execution_count": 323,
   "metadata": {},
   "outputs": [
    {
     "data": {
      "text/html": [
       "<div>\n",
       "<style scoped>\n",
       "    .dataframe tbody tr th:only-of-type {\n",
       "        vertical-align: middle;\n",
       "    }\n",
       "\n",
       "    .dataframe tbody tr th {\n",
       "        vertical-align: top;\n",
       "    }\n",
       "\n",
       "    .dataframe thead th {\n",
       "        text-align: right;\n",
       "    }\n",
       "</style>\n",
       "<table border=\"1\" class=\"dataframe\">\n",
       "  <thead>\n",
       "    <tr style=\"text-align: right;\">\n",
       "      <th></th>\n",
       "      <th>title</th>\n",
       "      <th>loan_amnt</th>\n",
       "      <th>grade</th>\n",
       "      <th>dti</th>\n",
       "      <th>term</th>\n",
       "      <th>home_ownership</th>\n",
       "      <th>fico</th>\n",
       "    </tr>\n",
       "  </thead>\n",
       "  <tbody>\n",
       "    <tr>\n",
       "      <th>0</th>\n",
       "      <td>Debt Consolidation</td>\n",
       "      <td>3600.0</td>\n",
       "      <td>C</td>\n",
       "      <td>5.91</td>\n",
       "      <td>36 months</td>\n",
       "      <td>MORTGAGE</td>\n",
       "      <td>677.0</td>\n",
       "    </tr>\n",
       "    <tr>\n",
       "      <th>1</th>\n",
       "      <td>Other</td>\n",
       "      <td>10400.0</td>\n",
       "      <td>F</td>\n",
       "      <td>25.37</td>\n",
       "      <td>60 months</td>\n",
       "      <td>MORTGAGE</td>\n",
       "      <td>697.0</td>\n",
       "    </tr>\n",
       "    <tr>\n",
       "      <th>2</th>\n",
       "      <td>Credit Card</td>\n",
       "      <td>10000.0</td>\n",
       "      <td>A</td>\n",
       "      <td>13.07</td>\n",
       "      <td>36 months</td>\n",
       "      <td>RENT</td>\n",
       "      <td>687.0</td>\n",
       "    </tr>\n",
       "    <tr>\n",
       "      <th>3</th>\n",
       "      <td>Debt Consolidation</td>\n",
       "      <td>18000.0</td>\n",
       "      <td>A</td>\n",
       "      <td>15.56</td>\n",
       "      <td>36 months</td>\n",
       "      <td>MORTGAGE</td>\n",
       "      <td>742.0</td>\n",
       "    </tr>\n",
       "    <tr>\n",
       "      <th>4</th>\n",
       "      <td>Debt Consolidation</td>\n",
       "      <td>3600.0</td>\n",
       "      <td>C</td>\n",
       "      <td>26.45</td>\n",
       "      <td>36 months</td>\n",
       "      <td>RENT</td>\n",
       "      <td>712.0</td>\n",
       "    </tr>\n",
       "    <tr>\n",
       "      <th>...</th>\n",
       "      <td>...</td>\n",
       "      <td>...</td>\n",
       "      <td>...</td>\n",
       "      <td>...</td>\n",
       "      <td>...</td>\n",
       "      <td>...</td>\n",
       "      <td>...</td>\n",
       "    </tr>\n",
       "    <tr>\n",
       "      <th>2029947</th>\n",
       "      <td>Debt Consolidation</td>\n",
       "      <td>26500.0</td>\n",
       "      <td>C</td>\n",
       "      <td>16.66</td>\n",
       "      <td>60 months</td>\n",
       "      <td>RENT</td>\n",
       "      <td>707.0</td>\n",
       "    </tr>\n",
       "    <tr>\n",
       "      <th>2029948</th>\n",
       "      <td>Debt Consolidation</td>\n",
       "      <td>12000.0</td>\n",
       "      <td>C</td>\n",
       "      <td>26.91</td>\n",
       "      <td>36 months</td>\n",
       "      <td>RENT</td>\n",
       "      <td>672.0</td>\n",
       "    </tr>\n",
       "    <tr>\n",
       "      <th>2029949</th>\n",
       "      <td>Credit Card</td>\n",
       "      <td>5000.0</td>\n",
       "      <td>B</td>\n",
       "      <td>11.27</td>\n",
       "      <td>36 months</td>\n",
       "      <td>RENT</td>\n",
       "      <td>697.0</td>\n",
       "    </tr>\n",
       "    <tr>\n",
       "      <th>2029950</th>\n",
       "      <td>Debt Consolidation</td>\n",
       "      <td>16000.0</td>\n",
       "      <td>C</td>\n",
       "      <td>25.69</td>\n",
       "      <td>36 months</td>\n",
       "      <td>RENT</td>\n",
       "      <td>667.0</td>\n",
       "    </tr>\n",
       "    <tr>\n",
       "      <th>2029951</th>\n",
       "      <td>Car</td>\n",
       "      <td>6725.0</td>\n",
       "      <td>C</td>\n",
       "      <td>20.20</td>\n",
       "      <td>36 months</td>\n",
       "      <td>RENT</td>\n",
       "      <td>667.0</td>\n",
       "    </tr>\n",
       "  </tbody>\n",
       "</table>\n",
       "<p>2028241 rows × 7 columns</p>\n",
       "</div>"
      ],
      "text/plain": [
       "                      title  loan_amnt grade    dti        term  \\\n",
       "0        Debt Consolidation     3600.0     C   5.91   36 months   \n",
       "1                     Other    10400.0     F  25.37   60 months   \n",
       "2               Credit Card    10000.0     A  13.07   36 months   \n",
       "3        Debt Consolidation    18000.0     A  15.56   36 months   \n",
       "4        Debt Consolidation     3600.0     C  26.45   36 months   \n",
       "...                     ...        ...   ...    ...         ...   \n",
       "2029947  Debt Consolidation    26500.0     C  16.66   60 months   \n",
       "2029948  Debt Consolidation    12000.0     C  26.91   36 months   \n",
       "2029949         Credit Card     5000.0     B  11.27   36 months   \n",
       "2029950  Debt Consolidation    16000.0     C  25.69   36 months   \n",
       "2029951                 Car     6725.0     C  20.20   36 months   \n",
       "\n",
       "        home_ownership   fico  \n",
       "0             MORTGAGE  677.0  \n",
       "1             MORTGAGE  697.0  \n",
       "2                 RENT  687.0  \n",
       "3             MORTGAGE  742.0  \n",
       "4                 RENT  712.0  \n",
       "...                ...    ...  \n",
       "2029947           RENT  707.0  \n",
       "2029948           RENT  672.0  \n",
       "2029949           RENT  697.0  \n",
       "2029950           RENT  667.0  \n",
       "2029951           RENT  667.0  \n",
       "\n",
       "[2028241 rows x 7 columns]"
      ]
     },
     "execution_count": 323,
     "metadata": {},
     "output_type": "execute_result"
    }
   ],
   "source": [
    "clustering_cols = ['title', 'loan_amnt', 'grade', 'dti', 'term', 'home_ownership', 'fico']\n",
    "for col in clustering_cols:\n",
    "    filtered_accepted = filtered_accepted[~filtered_accepted[col].isna()]\n",
    "\n",
    "filtered_accepted[clustering_cols]"
   ]
  },
  {
   "cell_type": "code",
   "execution_count": 33,
   "metadata": {},
   "outputs": [],
   "source": [
    "# Remove outliers\n",
    "for col in ['loan_amnt', 'dti']:\n",
    "    q_low = filtered_accepted[col].quantile(0.025)\n",
    "    q_high = filtered_accepted[col].quantile(0.975)\n",
    "    filtered_accepted = filtered_accepted[(filtered_accepted[col] > q_low) & (filtered_accepted[col] < q_high)]"
   ]
  },
  {
   "cell_type": "code",
   "execution_count": 325,
   "metadata": {},
   "outputs": [],
   "source": [
    "filtered_accepted['grade'] = pd.Categorical(filtered_accepted['grade'])\n",
    "filtered_accepted['grade_numeric'] = filtered_accepted['grade'].cat.codes"
   ]
  },
  {
   "cell_type": "code",
   "execution_count": 326,
   "metadata": {},
   "outputs": [
    {
     "data": {
      "text/html": [
       "<div>\n",
       "<style scoped>\n",
       "    .dataframe tbody tr th:only-of-type {\n",
       "        vertical-align: middle;\n",
       "    }\n",
       "\n",
       "    .dataframe tbody tr th {\n",
       "        vertical-align: top;\n",
       "    }\n",
       "\n",
       "    .dataframe thead th {\n",
       "        text-align: right;\n",
       "    }\n",
       "</style>\n",
       "<table border=\"1\" class=\"dataframe\">\n",
       "  <thead>\n",
       "    <tr style=\"text-align: right;\">\n",
       "      <th></th>\n",
       "      <th>grade_numeric</th>\n",
       "      <th>dti</th>\n",
       "      <th>fico</th>\n",
       "    </tr>\n",
       "  </thead>\n",
       "  <tbody>\n",
       "    <tr>\n",
       "      <th>0</th>\n",
       "      <td>0.275804</td>\n",
       "      <td>-0.896047</td>\n",
       "      <td>-0.707436</td>\n",
       "    </tr>\n",
       "    <tr>\n",
       "      <th>1</th>\n",
       "      <td>2.674156</td>\n",
       "      <td>0.425726</td>\n",
       "      <td>-0.103812</td>\n",
       "    </tr>\n",
       "    <tr>\n",
       "      <th>2</th>\n",
       "      <td>-1.323097</td>\n",
       "      <td>-0.409721</td>\n",
       "      <td>-0.405624</td>\n",
       "    </tr>\n",
       "    <tr>\n",
       "      <th>3</th>\n",
       "      <td>-1.323097</td>\n",
       "      <td>-0.240594</td>\n",
       "      <td>1.254341</td>\n",
       "    </tr>\n",
       "    <tr>\n",
       "      <th>4</th>\n",
       "      <td>0.275804</td>\n",
       "      <td>0.499083</td>\n",
       "      <td>0.348905</td>\n",
       "    </tr>\n",
       "  </tbody>\n",
       "</table>\n",
       "</div>"
      ],
      "text/plain": [
       "   grade_numeric       dti      fico\n",
       "0       0.275804 -0.896047 -0.707436\n",
       "1       2.674156  0.425726 -0.103812\n",
       "2      -1.323097 -0.409721 -0.405624\n",
       "3      -1.323097 -0.240594  1.254341\n",
       "4       0.275804  0.499083  0.348905"
      ]
     },
     "execution_count": 326,
     "metadata": {},
     "output_type": "execute_result"
    }
   ],
   "source": [
    "from sklearn.preprocessing import StandardScaler\n",
    "clustering_df = filtered_accepted[['grade_numeric', 'dti', 'fico']]\n",
    "scaler = StandardScaler()\n",
    "clustering_df = pd.DataFrame(scaler.fit_transform(clustering_df), columns=['grade_numeric', 'dti', 'fico'])\n",
    "clustering_df.head()"
   ]
  },
  {
   "cell_type": "code",
   "execution_count": 342,
   "metadata": {},
   "outputs": [
    {
     "data": {
      "image/png": "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\n",
      "text/plain": [
       "<Figure size 842.4x595.44 with 1 Axes>"
      ]
     },
     "metadata": {},
     "output_type": "display_data"
    }
   ],
   "source": [
    "Sum_of_squared_distances = []\n",
    "K = range(1,10)\n",
    "for num_clusters in K :\n",
    "    kmeans = KMeans(n_clusters=num_clusters)\n",
    "    kmeans.fit(clustering_df)\n",
    "    Sum_of_squared_distances.append(kmeans.inertia_)\n",
    "plt.plot(K,Sum_of_squared_distances, 'bx-')\n",
    "plt.xlabel('Values of K') \n",
    "plt.ylabel('Sum of squared distances/Inertia') \n",
    "plt.title('Elbow Method For Optimal k')\n",
    "plt.show()"
   ]
  },
  {
   "cell_type": "code",
   "execution_count": 364,
   "metadata": {},
   "outputs": [],
   "source": [
    "kmeans = KMeans(n_clusters=5)\n",
    "kmeans.fit(clustering_df)\n",
    "filtered_accepted['cluster'] = kmeans.predict(clustering_df)"
   ]
  },
  {
   "cell_type": "code",
   "execution_count": 365,
   "metadata": {},
   "outputs": [
    {
     "data": {
      "text/plain": [
       "1    768956\n",
       "4    576915\n",
       "3    453601\n",
       "0    228363\n",
       "2       406\n",
       "Name: cluster, dtype: int64"
      ]
     },
     "execution_count": 365,
     "metadata": {},
     "output_type": "execute_result"
    }
   ],
   "source": [
    "filtered_accepted['cluster'].value_counts()"
   ]
  },
  {
   "cell_type": "code",
   "execution_count": 375,
   "metadata": {},
   "outputs": [
    {
     "data": {
      "text/plain": [
       "Text(0.5, 1.0, 'Interest Rate Distribution by Cluster')"
      ]
     },
     "execution_count": 375,
     "metadata": {},
     "output_type": "execute_result"
    },
    {
     "data": {
      "image/png": "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\n",
      "text/plain": [
       "<Figure size 842.4x595.44 with 1 Axes>"
      ]
     },
     "metadata": {},
     "output_type": "display_data"
    }
   ],
   "source": [
    "sns.set(rc={'figure.figsize':(11.7,8.27)})\n",
    "p = sns.boxplot(data=filtered_accepted, x='cluster', y='int_rate')\n",
    "p.set_title('Interest Rate Distribution by Cluster', fontsize=20)"
   ]
  },
  {
   "cell_type": "code",
   "execution_count": 376,
   "metadata": {},
   "outputs": [
    {
     "data": {
      "text/plain": [
       "Text(0.5, 1.0, 'FICO Score Distribution by Cluster')"
      ]
     },
     "execution_count": 376,
     "metadata": {},
     "output_type": "execute_result"
    },
    {
     "data": {
      "image/png": "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\n",
      "text/plain": [
       "<Figure size 842.4x595.44 with 1 Axes>"
      ]
     },
     "metadata": {},
     "output_type": "display_data"
    }
   ],
   "source": [
    "sns.set(rc={'figure.figsize':(11.7,8.27)})\n",
    "p = sns.boxplot(data=filtered_accepted, x='cluster', y='fico')\n",
    "p.set_title('FICO Score Distribution by Cluster', fontsize=20)"
   ]
  },
  {
   "cell_type": "code",
   "execution_count": 368,
   "metadata": {},
   "outputs": [
    {
     "data": {
      "text/plain": [
       "<matplotlib.axes._subplots.AxesSubplot at 0x7fafcc759cd0>"
      ]
     },
     "execution_count": 368,
     "metadata": {},
     "output_type": "execute_result"
    },
    {
     "data": {
      "image/png": "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\n",
      "text/plain": [
       "<Figure size 842.4x595.44 with 1 Axes>"
      ]
     },
     "metadata": {},
     "output_type": "display_data"
    }
   ],
   "source": [
    "sns.set(rc={'figure.figsize':(11.7,8.27)})\n",
    "sns.boxplot(data=filtered_accepted, x='cluster', y='dti')"
   ]
  },
  {
   "cell_type": "code",
   "execution_count": 370,
   "metadata": {},
   "outputs": [
    {
     "data": {
      "text/html": [
       "<div>\n",
       "<style scoped>\n",
       "    .dataframe tbody tr th:only-of-type {\n",
       "        vertical-align: middle;\n",
       "    }\n",
       "\n",
       "    .dataframe tbody tr th {\n",
       "        vertical-align: top;\n",
       "    }\n",
       "\n",
       "    .dataframe thead th {\n",
       "        text-align: right;\n",
       "    }\n",
       "</style>\n",
       "<table border=\"1\" class=\"dataframe\">\n",
       "  <thead>\n",
       "    <tr style=\"text-align: right;\">\n",
       "      <th></th>\n",
       "      <th>grade</th>\n",
       "      <th>proportion_of_loans</th>\n",
       "      <th>cluster</th>\n",
       "    </tr>\n",
       "  </thead>\n",
       "  <tbody>\n",
       "    <tr>\n",
       "      <th>0</th>\n",
       "      <td>A</td>\n",
       "      <td>0.615170</td>\n",
       "      <td>0</td>\n",
       "    </tr>\n",
       "    <tr>\n",
       "      <th>1</th>\n",
       "      <td>B</td>\n",
       "      <td>0.270819</td>\n",
       "      <td>0</td>\n",
       "    </tr>\n",
       "    <tr>\n",
       "      <th>2</th>\n",
       "      <td>C</td>\n",
       "      <td>0.093290</td>\n",
       "      <td>0</td>\n",
       "    </tr>\n",
       "    <tr>\n",
       "      <th>3</th>\n",
       "      <td>D</td>\n",
       "      <td>0.018576</td>\n",
       "      <td>0</td>\n",
       "    </tr>\n",
       "    <tr>\n",
       "      <th>4</th>\n",
       "      <td>E</td>\n",
       "      <td>0.002027</td>\n",
       "      <td>0</td>\n",
       "    </tr>\n",
       "  </tbody>\n",
       "</table>\n",
       "</div>"
      ],
      "text/plain": [
       "  grade  proportion_of_loans  cluster\n",
       "0     A             0.615170        0\n",
       "1     B             0.270819        0\n",
       "2     C             0.093290        0\n",
       "3     D             0.018576        0\n",
       "4     E             0.002027        0"
      ]
     },
     "execution_count": 370,
     "metadata": {},
     "output_type": "execute_result"
    }
   ],
   "source": [
    "plot_df = pd.concat([filtered_accepted[filtered_accepted['cluster'] == 0].grade.value_counts(normalize=True).reset_index(),\n",
    "                     filtered_accepted[filtered_accepted['cluster'] == 1].grade.value_counts(normalize=True).reset_index(),\n",
    "                     filtered_accepted[filtered_accepted['cluster'] == 2].grade.value_counts(normalize=True).reset_index(),\n",
    "                     filtered_accepted[filtered_accepted['cluster'] == 3].grade.value_counts(normalize=True).reset_index(),\n",
    "                     filtered_accepted[filtered_accepted['cluster'] == 4].grade.value_counts(normalize=True).reset_index()])\n",
    "\n",
    "cluster_names = [0]*7 + [1]*7 + [2]*7 + [3]*7 + [4]*7\n",
    "\n",
    "plot_df['cluster'] = cluster_names\n",
    "plot_df.rename(columns={'grade': 'proportion_of_loans', 'index': 'grade'}, inplace=True)\n",
    "plot_df.head()"
   ]
  },
  {
   "cell_type": "code",
   "execution_count": 371,
   "metadata": {},
   "outputs": [
    {
     "data": {
      "text/plain": [
       "<matplotlib.axes._subplots.AxesSubplot at 0x7fafcd78e2b0>"
      ]
     },
     "execution_count": 371,
     "metadata": {},
     "output_type": "execute_result"
    },
    {
     "data": {
      "image/png": "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\n",
      "text/plain": [
       "<Figure size 842.4x595.44 with 1 Axes>"
      ]
     },
     "metadata": {},
     "output_type": "display_data"
    }
   ],
   "source": [
    "sns.barplot(data=plot_df, x='grade', y='proportion_of_loans', hue='cluster')"
   ]
  },
  {
   "cell_type": "code",
   "execution_count": 372,
   "metadata": {},
   "outputs": [
    {
     "data": {
      "text/plain": [
       "<matplotlib.axes._subplots.AxesSubplot at 0x7fafca68ec70>"
      ]
     },
     "execution_count": 372,
     "metadata": {},
     "output_type": "execute_result"
    },
    {
     "data": {
      "image/png": "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\n",
      "text/plain": [
       "<Figure size 842.4x595.44 with 1 Axes>"
      ]
     },
     "metadata": {},
     "output_type": "display_data"
    }
   ],
   "source": [
    "sns.boxplot(data=filtered_accepted, x='cluster', y='rural_prop')"
   ]
  },
  {
   "cell_type": "code",
   "execution_count": 369,
   "metadata": {},
   "outputs": [
    {
     "name": "stdout",
     "output_type": "stream",
     "text": [
      "Cluster 0 correlation coefficient between interest rate and rural proportion: -0.041040305080599776\n",
      "Cluster 1 correlation coefficient between interest rate and rural proportion: 0.18893949910789137\n",
      "Cluster 2 correlation coefficient between interest rate and rural proportion: -0.19310892249240486\n",
      "Cluster 3 correlation coefficient between interest rate and rural proportion: -0.048138142681213594\n",
      "Cluster 4 correlation coefficient between interest rate and rural proportion: 0.5345277416749152\n"
     ]
    }
   ],
   "source": [
    "# Within cluster 2\n",
    "corrs = []\n",
    "for cluster in range(5):\n",
    "    cluster_df = filtered_accepted[filtered_accepted['cluster'] == cluster]\n",
    "    corr = cluster_df.groupby('state').mean()[['int_rate', 'rural_prop']].reset_index().corr()['int_rate'].values[1]\n",
    "    corrs.append(corr)\n",
    "    print(f'Cluster {cluster} correlation coefficient between interest rate and rural proportion: {corr}')"
   ]
  },
  {
   "cell_type": "code",
   "execution_count": 373,
   "metadata": {},
   "outputs": [
    {
     "data": {
      "text/plain": [
       "Text(0.5, 0, 'FICO Score')"
      ]
     },
     "execution_count": 373,
     "metadata": {},
     "output_type": "execute_result"
    },
    {
     "data": {
      "image/png": "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\n",
      "text/plain": [
       "<Figure size 1332x756 with 1 Axes>"
      ]
     },
     "metadata": {},
     "output_type": "display_data"
    }
   ],
   "source": [
    "fig = plt.figure()\n",
    "fig.set_size_inches(18.5, 10.5)\n",
    "ax = plt.axes(projection ='3d')\n",
    "centroids = scaler.inverse_transform(kmeans.cluster_centers_)\n",
    "for i in range(len(centroids)):\n",
    "    centroid = centroids[i]\n",
    "    ax.scatter(centroid[0], centroid[1], centroid[2], s=100)\n",
    "    ax.text(centroid[0] + 0.1, centroid[1], centroid[2], f'Cluster {i}', size=20, zorder=2, color='k')\n",
    "ax.set_xlabel('Loan Grade (numeric)')\n",
    "ax.set_ylabel('Debt-to-Income Ratio')\n",
    "ax.set_zlabel('FICO Score')"
   ]
  },
  {
   "cell_type": "code",
   "execution_count": 374,
   "metadata": {},
   "outputs": [
    {
     "data": {
      "text/html": [
       "<div>\n",
       "<style scoped>\n",
       "    .dataframe tbody tr th:only-of-type {\n",
       "        vertical-align: middle;\n",
       "    }\n",
       "\n",
       "    .dataframe tbody tr th {\n",
       "        vertical-align: top;\n",
       "    }\n",
       "\n",
       "    .dataframe thead th {\n",
       "        text-align: right;\n",
       "    }\n",
       "</style>\n",
       "<table border=\"1\" class=\"dataframe\">\n",
       "  <thead>\n",
       "    <tr style=\"text-align: right;\">\n",
       "      <th></th>\n",
       "      <th>cluster</th>\n",
       "      <th>rural_prop_int_rate_correlation</th>\n",
       "      <th>grade_numeric</th>\n",
       "      <th>dti</th>\n",
       "      <th>fico</th>\n",
       "    </tr>\n",
       "  </thead>\n",
       "  <tbody>\n",
       "    <tr>\n",
       "      <th>0</th>\n",
       "      <td>0</td>\n",
       "      <td>-0.041040</td>\n",
       "      <td>0.521474</td>\n",
       "      <td>16.271487</td>\n",
       "      <td>769.831126</td>\n",
       "    </tr>\n",
       "    <tr>\n",
       "      <th>1</th>\n",
       "      <td>1</td>\n",
       "      <td>0.188939</td>\n",
       "      <td>1.579221</td>\n",
       "      <td>17.873260</td>\n",
       "      <td>678.872570</td>\n",
       "    </tr>\n",
       "    <tr>\n",
       "      <th>2</th>\n",
       "      <td>2</td>\n",
       "      <td>-0.193109</td>\n",
       "      <td>1.918519</td>\n",
       "      <td>692.864691</td>\n",
       "      <td>708.802469</td>\n",
       "    </tr>\n",
       "    <tr>\n",
       "      <th>3</th>\n",
       "      <td>3</td>\n",
       "      <td>-0.048138</td>\n",
       "      <td>3.478659</td>\n",
       "      <td>22.045737</td>\n",
       "      <td>684.611543</td>\n",
       "    </tr>\n",
       "    <tr>\n",
       "      <th>4</th>\n",
       "      <td>4</td>\n",
       "      <td>0.534528</td>\n",
       "      <td>0.775072</td>\n",
       "      <td>19.072910</td>\n",
       "      <td>713.874647</td>\n",
       "    </tr>\n",
       "  </tbody>\n",
       "</table>\n",
       "</div>"
      ],
      "text/plain": [
       "   cluster  rural_prop_int_rate_correlation  grade_numeric         dti  \\\n",
       "0        0                        -0.041040       0.521474   16.271487   \n",
       "1        1                         0.188939       1.579221   17.873260   \n",
       "2        2                        -0.193109       1.918519  692.864691   \n",
       "3        3                        -0.048138       3.478659   22.045737   \n",
       "4        4                         0.534528       0.775072   19.072910   \n",
       "\n",
       "         fico  \n",
       "0  769.831126  \n",
       "1  678.872570  \n",
       "2  708.802469  \n",
       "3  684.611543  \n",
       "4  713.874647  "
      ]
     },
     "execution_count": 374,
     "metadata": {},
     "output_type": "execute_result"
    }
   ],
   "source": [
    "clustering_centroids = pd.DataFrame()\n",
    "clustering_centroids['cluster'] = range(5)\n",
    "clustering_centroids['rural_prop_int_rate_correlation'] = corrs\n",
    "clustering_centroids['grade_numeric'] = scaler.inverse_transform(kmeans.cluster_centers_)[:, 0]\n",
    "clustering_centroids['dti'] = scaler.inverse_transform(kmeans.cluster_centers_)[:, 1]\n",
    "clustering_centroids['fico'] = scaler.inverse_transform(kmeans.cluster_centers_)[:, 2]\n",
    "clustering_centroids.head()"
   ]
  },
  {
   "cell_type": "code",
   "execution_count": 338,
   "metadata": {},
   "outputs": [
    {
     "data": {
      "application/vnd.plotly.v1+json": {
       "config": {
        "plotlyServerURL": "https://plot.ly"
       },
       "data": [
        {
         "coloraxis": "coloraxis",
         "geo": "geo",
         "hovertemplate": "state=%{location}<br>cluster=%{z}<extra></extra>",
         "locationmode": "USA-states",
         "locations": [
          "AK",
          "AL",
          "AR",
          "AZ",
          "CA",
          "CO",
          "CT",
          "DC",
          "DE",
          "FL",
          "GA",
          "HI",
          "ID",
          "IL",
          "IN",
          "KS",
          "KY",
          "LA",
          "MA",
          "MD",
          "ME",
          "MI",
          "MN",
          "MO",
          "MS",
          "MT",
          "NC",
          "ND",
          "NE",
          "NH",
          "NJ",
          "NM",
          "NV",
          "NY",
          "OH",
          "OK",
          "OR",
          "PA",
          "RI",
          "SC",
          "SD",
          "TN",
          "TX",
          "UT",
          "VA",
          "VT",
          "WA",
          "WI",
          "WV",
          "WY"
         ],
         "name": "",
         "type": "choropleth",
         "z": [
          0.28006121556624397,
          0.2655783314921648,
          0.27582617746552174,
          0.280639907642196,
          0.2856780698386945,
          0.29026748828729027,
          0.28706043870323567,
          0.3070521243977223,
          0.2731006160164271,
          0.27435192862477986,
          0.2781388522822571,
          0.25362782757148955,
          0.2890497314966145,
          0.28998989370121886,
          0.2799726939158631,
          0.2950414681489324,
          0.2787340366463076,
          0.2845966620305981,
          0.29913766822002524,
          0.27509109999382375,
          0.29845039243308513,
          0.27826363789584074,
          0.29187140249894705,
          0.287711484333921,
          0.27184003808616997,
          0.30033765772169896,
          0.28034303129097415,
          0.28256624825662485,
          0.2719343252950231,
          0.3012922465208748,
          0.2840826048122987,
          0.28029034059184815,
          0.2749317871759891,
          0.27715764172936636,
          0.28247796480264126,
          0.27909592416046275,
          0.28341975464778046,
          0.2815104091054267,
          0.2776604025353052,
          0.27815222103976983,
          0.2862052037309769,
          0.27572152126352384,
          0.29004067209751816,
          0.2837233961978338,
          0.28828148866964975,
          0.29761644434725565,
          0.27977206607198674,
          0.2990014792899408,
          0.283683048039757,
          0.2870414483087184
         ]
        }
       ],
       "layout": {
        "coloraxis": {
         "colorbar": {
          "title": {
           "text": "cluster"
          }
         },
         "colorscale": [
          [
           0,
           "rgb(255,247,251)"
          ],
          [
           0.125,
           "rgb(236,231,242)"
          ],
          [
           0.25,
           "rgb(208,209,230)"
          ],
          [
           0.375,
           "rgb(166,189,219)"
          ],
          [
           0.5,
           "rgb(116,169,207)"
          ],
          [
           0.625,
           "rgb(54,144,192)"
          ],
          [
           0.75,
           "rgb(5,112,176)"
          ],
          [
           0.875,
           "rgb(4,90,141)"
          ],
          [
           1,
           "rgb(2,56,88)"
          ]
         ]
        },
        "geo": {
         "center": {},
         "domain": {
          "x": [
           0,
           1
          ],
          "y": [
           0,
           1
          ]
         },
         "scope": "usa"
        },
        "legend": {
         "tracegroupgap": 0
        },
        "margin": {
         "t": 60
        },
        "template": {
         "data": {
          "bar": [
           {
            "error_x": {
             "color": "#2a3f5f"
            },
            "error_y": {
             "color": "#2a3f5f"
            },
            "marker": {
             "line": {
              "color": "#E5ECF6",
              "width": 0.5
             },
             "pattern": {
              "fillmode": "overlay",
              "size": 10,
              "solidity": 0.2
             }
            },
            "type": "bar"
           }
          ],
          "barpolar": [
           {
            "marker": {
             "line": {
              "color": "#E5ECF6",
              "width": 0.5
             },
             "pattern": {
              "fillmode": "overlay",
              "size": 10,
              "solidity": 0.2
             }
            },
            "type": "barpolar"
           }
          ],
          "carpet": [
           {
            "aaxis": {
             "endlinecolor": "#2a3f5f",
             "gridcolor": "white",
             "linecolor": "white",
             "minorgridcolor": "white",
             "startlinecolor": "#2a3f5f"
            },
            "baxis": {
             "endlinecolor": "#2a3f5f",
             "gridcolor": "white",
             "linecolor": "white",
             "minorgridcolor": "white",
             "startlinecolor": "#2a3f5f"
            },
            "type": "carpet"
           }
          ],
          "choropleth": [
           {
            "colorbar": {
             "outlinewidth": 0,
             "ticks": ""
            },
            "type": "choropleth"
           }
          ],
          "contour": [
           {
            "colorbar": {
             "outlinewidth": 0,
             "ticks": ""
            },
            "colorscale": [
             [
              0,
              "#0d0887"
             ],
             [
              0.1111111111111111,
              "#46039f"
             ],
             [
              0.2222222222222222,
              "#7201a8"
             ],
             [
              0.3333333333333333,
              "#9c179e"
             ],
             [
              0.4444444444444444,
              "#bd3786"
             ],
             [
              0.5555555555555556,
              "#d8576b"
             ],
             [
              0.6666666666666666,
              "#ed7953"
             ],
             [
              0.7777777777777778,
              "#fb9f3a"
             ],
             [
              0.8888888888888888,
              "#fdca26"
             ],
             [
              1,
              "#f0f921"
             ]
            ],
            "type": "contour"
           }
          ],
          "contourcarpet": [
           {
            "colorbar": {
             "outlinewidth": 0,
             "ticks": ""
            },
            "type": "contourcarpet"
           }
          ],
          "heatmap": [
           {
            "colorbar": {
             "outlinewidth": 0,
             "ticks": ""
            },
            "colorscale": [
             [
              0,
              "#0d0887"
             ],
             [
              0.1111111111111111,
              "#46039f"
             ],
             [
              0.2222222222222222,
              "#7201a8"
             ],
             [
              0.3333333333333333,
              "#9c179e"
             ],
             [
              0.4444444444444444,
              "#bd3786"
             ],
             [
              0.5555555555555556,
              "#d8576b"
             ],
             [
              0.6666666666666666,
              "#ed7953"
             ],
             [
              0.7777777777777778,
              "#fb9f3a"
             ],
             [
              0.8888888888888888,
              "#fdca26"
             ],
             [
              1,
              "#f0f921"
             ]
            ],
            "type": "heatmap"
           }
          ],
          "heatmapgl": [
           {
            "colorbar": {
             "outlinewidth": 0,
             "ticks": ""
            },
            "colorscale": [
             [
              0,
              "#0d0887"
             ],
             [
              0.1111111111111111,
              "#46039f"
             ],
             [
              0.2222222222222222,
              "#7201a8"
             ],
             [
              0.3333333333333333,
              "#9c179e"
             ],
             [
              0.4444444444444444,
              "#bd3786"
             ],
             [
              0.5555555555555556,
              "#d8576b"
             ],
             [
              0.6666666666666666,
              "#ed7953"
             ],
             [
              0.7777777777777778,
              "#fb9f3a"
             ],
             [
              0.8888888888888888,
              "#fdca26"
             ],
             [
              1,
              "#f0f921"
             ]
            ],
            "type": "heatmapgl"
           }
          ],
          "histogram": [
           {
            "marker": {
             "pattern": {
              "fillmode": "overlay",
              "size": 10,
              "solidity": 0.2
             }
            },
            "type": "histogram"
           }
          ],
          "histogram2d": [
           {
            "colorbar": {
             "outlinewidth": 0,
             "ticks": ""
            },
            "colorscale": [
             [
              0,
              "#0d0887"
             ],
             [
              0.1111111111111111,
              "#46039f"
             ],
             [
              0.2222222222222222,
              "#7201a8"
             ],
             [
              0.3333333333333333,
              "#9c179e"
             ],
             [
              0.4444444444444444,
              "#bd3786"
             ],
             [
              0.5555555555555556,
              "#d8576b"
             ],
             [
              0.6666666666666666,
              "#ed7953"
             ],
             [
              0.7777777777777778,
              "#fb9f3a"
             ],
             [
              0.8888888888888888,
              "#fdca26"
             ],
             [
              1,
              "#f0f921"
             ]
            ],
            "type": "histogram2d"
           }
          ],
          "histogram2dcontour": [
           {
            "colorbar": {
             "outlinewidth": 0,
             "ticks": ""
            },
            "colorscale": [
             [
              0,
              "#0d0887"
             ],
             [
              0.1111111111111111,
              "#46039f"
             ],
             [
              0.2222222222222222,
              "#7201a8"
             ],
             [
              0.3333333333333333,
              "#9c179e"
             ],
             [
              0.4444444444444444,
              "#bd3786"
             ],
             [
              0.5555555555555556,
              "#d8576b"
             ],
             [
              0.6666666666666666,
              "#ed7953"
             ],
             [
              0.7777777777777778,
              "#fb9f3a"
             ],
             [
              0.8888888888888888,
              "#fdca26"
             ],
             [
              1,
              "#f0f921"
             ]
            ],
            "type": "histogram2dcontour"
           }
          ],
          "mesh3d": [
           {
            "colorbar": {
             "outlinewidth": 0,
             "ticks": ""
            },
            "type": "mesh3d"
           }
          ],
          "parcoords": [
           {
            "line": {
             "colorbar": {
              "outlinewidth": 0,
              "ticks": ""
             }
            },
            "type": "parcoords"
           }
          ],
          "pie": [
           {
            "automargin": true,
            "type": "pie"
           }
          ],
          "scatter": [
           {
            "marker": {
             "colorbar": {
              "outlinewidth": 0,
              "ticks": ""
             }
            },
            "type": "scatter"
           }
          ],
          "scatter3d": [
           {
            "line": {
             "colorbar": {
              "outlinewidth": 0,
              "ticks": ""
             }
            },
            "marker": {
             "colorbar": {
              "outlinewidth": 0,
              "ticks": ""
             }
            },
            "type": "scatter3d"
           }
          ],
          "scattercarpet": [
           {
            "marker": {
             "colorbar": {
              "outlinewidth": 0,
              "ticks": ""
             }
            },
            "type": "scattercarpet"
           }
          ],
          "scattergeo": [
           {
            "marker": {
             "colorbar": {
              "outlinewidth": 0,
              "ticks": ""
             }
            },
            "type": "scattergeo"
           }
          ],
          "scattergl": [
           {
            "marker": {
             "colorbar": {
              "outlinewidth": 0,
              "ticks": ""
             }
            },
            "type": "scattergl"
           }
          ],
          "scattermapbox": [
           {
            "marker": {
             "colorbar": {
              "outlinewidth": 0,
              "ticks": ""
             }
            },
            "type": "scattermapbox"
           }
          ],
          "scatterpolar": [
           {
            "marker": {
             "colorbar": {
              "outlinewidth": 0,
              "ticks": ""
             }
            },
            "type": "scatterpolar"
           }
          ],
          "scatterpolargl": [
           {
            "marker": {
             "colorbar": {
              "outlinewidth": 0,
              "ticks": ""
             }
            },
            "type": "scatterpolargl"
           }
          ],
          "scatterternary": [
           {
            "marker": {
             "colorbar": {
              "outlinewidth": 0,
              "ticks": ""
             }
            },
            "type": "scatterternary"
           }
          ],
          "surface": [
           {
            "colorbar": {
             "outlinewidth": 0,
             "ticks": ""
            },
            "colorscale": [
             [
              0,
              "#0d0887"
             ],
             [
              0.1111111111111111,
              "#46039f"
             ],
             [
              0.2222222222222222,
              "#7201a8"
             ],
             [
              0.3333333333333333,
              "#9c179e"
             ],
             [
              0.4444444444444444,
              "#bd3786"
             ],
             [
              0.5555555555555556,
              "#d8576b"
             ],
             [
              0.6666666666666666,
              "#ed7953"
             ],
             [
              0.7777777777777778,
              "#fb9f3a"
             ],
             [
              0.8888888888888888,
              "#fdca26"
             ],
             [
              1,
              "#f0f921"
             ]
            ],
            "type": "surface"
           }
          ],
          "table": [
           {
            "cells": {
             "fill": {
              "color": "#EBF0F8"
             },
             "line": {
              "color": "white"
             }
            },
            "header": {
             "fill": {
              "color": "#C8D4E3"
             },
             "line": {
              "color": "white"
             }
            },
            "type": "table"
           }
          ]
         },
         "layout": {
          "annotationdefaults": {
           "arrowcolor": "#2a3f5f",
           "arrowhead": 0,
           "arrowwidth": 1
          },
          "autotypenumbers": "strict",
          "coloraxis": {
           "colorbar": {
            "outlinewidth": 0,
            "ticks": ""
           }
          },
          "colorscale": {
           "diverging": [
            [
             0,
             "#8e0152"
            ],
            [
             0.1,
             "#c51b7d"
            ],
            [
             0.2,
             "#de77ae"
            ],
            [
             0.3,
             "#f1b6da"
            ],
            [
             0.4,
             "#fde0ef"
            ],
            [
             0.5,
             "#f7f7f7"
            ],
            [
             0.6,
             "#e6f5d0"
            ],
            [
             0.7,
             "#b8e186"
            ],
            [
             0.8,
             "#7fbc41"
            ],
            [
             0.9,
             "#4d9221"
            ],
            [
             1,
             "#276419"
            ]
           ],
           "sequential": [
            [
             0,
             "#0d0887"
            ],
            [
             0.1111111111111111,
             "#46039f"
            ],
            [
             0.2222222222222222,
             "#7201a8"
            ],
            [
             0.3333333333333333,
             "#9c179e"
            ],
            [
             0.4444444444444444,
             "#bd3786"
            ],
            [
             0.5555555555555556,
             "#d8576b"
            ],
            [
             0.6666666666666666,
             "#ed7953"
            ],
            [
             0.7777777777777778,
             "#fb9f3a"
            ],
            [
             0.8888888888888888,
             "#fdca26"
            ],
            [
             1,
             "#f0f921"
            ]
           ],
           "sequentialminus": [
            [
             0,
             "#0d0887"
            ],
            [
             0.1111111111111111,
             "#46039f"
            ],
            [
             0.2222222222222222,
             "#7201a8"
            ],
            [
             0.3333333333333333,
             "#9c179e"
            ],
            [
             0.4444444444444444,
             "#bd3786"
            ],
            [
             0.5555555555555556,
             "#d8576b"
            ],
            [
             0.6666666666666666,
             "#ed7953"
            ],
            [
             0.7777777777777778,
             "#fb9f3a"
            ],
            [
             0.8888888888888888,
             "#fdca26"
            ],
            [
             1,
             "#f0f921"
            ]
           ]
          },
          "colorway": [
           "#636efa",
           "#EF553B",
           "#00cc96",
           "#ab63fa",
           "#FFA15A",
           "#19d3f3",
           "#FF6692",
           "#B6E880",
           "#FF97FF",
           "#FECB52"
          ],
          "font": {
           "color": "#2a3f5f"
          },
          "geo": {
           "bgcolor": "white",
           "lakecolor": "white",
           "landcolor": "#E5ECF6",
           "showlakes": true,
           "showland": true,
           "subunitcolor": "white"
          },
          "hoverlabel": {
           "align": "left"
          },
          "hovermode": "closest",
          "mapbox": {
           "style": "light"
          },
          "paper_bgcolor": "white",
          "plot_bgcolor": "#E5ECF6",
          "polar": {
           "angularaxis": {
            "gridcolor": "white",
            "linecolor": "white",
            "ticks": ""
           },
           "bgcolor": "#E5ECF6",
           "radialaxis": {
            "gridcolor": "white",
            "linecolor": "white",
            "ticks": ""
           }
          },
          "scene": {
           "xaxis": {
            "backgroundcolor": "#E5ECF6",
            "gridcolor": "white",
            "gridwidth": 2,
            "linecolor": "white",
            "showbackground": true,
            "ticks": "",
            "zerolinecolor": "white"
           },
           "yaxis": {
            "backgroundcolor": "#E5ECF6",
            "gridcolor": "white",
            "gridwidth": 2,
            "linecolor": "white",
            "showbackground": true,
            "ticks": "",
            "zerolinecolor": "white"
           },
           "zaxis": {
            "backgroundcolor": "#E5ECF6",
            "gridcolor": "white",
            "gridwidth": 2,
            "linecolor": "white",
            "showbackground": true,
            "ticks": "",
            "zerolinecolor": "white"
           }
          },
          "shapedefaults": {
           "line": {
            "color": "#2a3f5f"
           }
          },
          "ternary": {
           "aaxis": {
            "gridcolor": "white",
            "linecolor": "white",
            "ticks": ""
           },
           "baxis": {
            "gridcolor": "white",
            "linecolor": "white",
            "ticks": ""
           },
           "bgcolor": "#E5ECF6",
           "caxis": {
            "gridcolor": "white",
            "linecolor": "white",
            "ticks": ""
           }
          },
          "title": {
           "x": 0.05
          },
          "xaxis": {
           "automargin": true,
           "gridcolor": "white",
           "linecolor": "white",
           "ticks": "",
           "title": {
            "standoff": 15
           },
           "zerolinecolor": "white",
           "zerolinewidth": 2
          },
          "yaxis": {
           "automargin": true,
           "gridcolor": "white",
           "linecolor": "white",
           "ticks": "",
           "title": {
            "standoff": 15
           },
           "zerolinecolor": "white",
           "zerolinewidth": 2
          }
         }
        }
       }
      },
      "text/html": [
       "<div>                            <div id=\"8b389e3f-ae8e-4406-9345-56676bb298aa\" class=\"plotly-graph-div\" style=\"height:525px; width:100%;\"></div>            <script type=\"text/javascript\">                require([\"plotly\"], function(Plotly) {                    window.PLOTLYENV=window.PLOTLYENV || {};                                    if (document.getElementById(\"8b389e3f-ae8e-4406-9345-56676bb298aa\")) {                    Plotly.newPlot(                        \"8b389e3f-ae8e-4406-9345-56676bb298aa\",                        [{\"coloraxis\":\"coloraxis\",\"geo\":\"geo\",\"hovertemplate\":\"state=%{location}<br>cluster=%{z}<extra></extra>\",\"locationmode\":\"USA-states\",\"locations\":[\"AK\",\"AL\",\"AR\",\"AZ\",\"CA\",\"CO\",\"CT\",\"DC\",\"DE\",\"FL\",\"GA\",\"HI\",\"ID\",\"IL\",\"IN\",\"KS\",\"KY\",\"LA\",\"MA\",\"MD\",\"ME\",\"MI\",\"MN\",\"MO\",\"MS\",\"MT\",\"NC\",\"ND\",\"NE\",\"NH\",\"NJ\",\"NM\",\"NV\",\"NY\",\"OH\",\"OK\",\"OR\",\"PA\",\"RI\",\"SC\",\"SD\",\"TN\",\"TX\",\"UT\",\"VA\",\"VT\",\"WA\",\"WI\",\"WV\",\"WY\"],\"name\":\"\",\"type\":\"choropleth\",\"z\":[0.28006121556624397,0.2655783314921648,0.27582617746552174,0.280639907642196,0.2856780698386945,0.29026748828729027,0.28706043870323567,0.3070521243977223,0.2731006160164271,0.27435192862477986,0.2781388522822571,0.25362782757148955,0.2890497314966145,0.28998989370121886,0.2799726939158631,0.2950414681489324,0.2787340366463076,0.2845966620305981,0.29913766822002524,0.27509109999382375,0.29845039243308513,0.27826363789584074,0.29187140249894705,0.287711484333921,0.27184003808616997,0.30033765772169896,0.28034303129097415,0.28256624825662485,0.2719343252950231,0.3012922465208748,0.2840826048122987,0.28029034059184815,0.2749317871759891,0.27715764172936636,0.28247796480264126,0.27909592416046275,0.28341975464778046,0.2815104091054267,0.2776604025353052,0.27815222103976983,0.2862052037309769,0.27572152126352384,0.29004067209751816,0.2837233961978338,0.28828148866964975,0.29761644434725565,0.27977206607198674,0.2990014792899408,0.283683048039757,0.2870414483087184]}],                        {\"coloraxis\":{\"colorbar\":{\"title\":{\"text\":\"cluster\"}},\"colorscale\":[[0.0,\"rgb(255,247,251)\"],[0.125,\"rgb(236,231,242)\"],[0.25,\"rgb(208,209,230)\"],[0.375,\"rgb(166,189,219)\"],[0.5,\"rgb(116,169,207)\"],[0.625,\"rgb(54,144,192)\"],[0.75,\"rgb(5,112,176)\"],[0.875,\"rgb(4,90,141)\"],[1.0,\"rgb(2,56,88)\"]]},\"geo\":{\"center\":{},\"domain\":{\"x\":[0.0,1.0],\"y\":[0.0,1.0]},\"scope\":\"usa\"},\"legend\":{\"tracegroupgap\":0},\"margin\":{\"t\":60},\"template\":{\"data\":{\"bar\":[{\"error_x\":{\"color\":\"#2a3f5f\"},\"error_y\":{\"color\":\"#2a3f5f\"},\"marker\":{\"line\":{\"color\":\"#E5ECF6\",\"width\":0.5},\"pattern\":{\"fillmode\":\"overlay\",\"size\":10,\"solidity\":0.2}},\"type\":\"bar\"}],\"barpolar\":[{\"marker\":{\"line\":{\"color\":\"#E5ECF6\",\"width\":0.5},\"pattern\":{\"fillmode\":\"overlay\",\"size\":10,\"solidity\":0.2}},\"type\":\"barpolar\"}],\"carpet\":[{\"aaxis\":{\"endlinecolor\":\"#2a3f5f\",\"gridcolor\":\"white\",\"linecolor\":\"white\",\"minorgridcolor\":\"white\",\"startlinecolor\":\"#2a3f5f\"},\"baxis\":{\"endlinecolor\":\"#2a3f5f\",\"gridcolor\":\"white\",\"linecolor\":\"white\",\"minorgridcolor\":\"white\",\"startlinecolor\":\"#2a3f5f\"},\"type\":\"carpet\"}],\"choropleth\":[{\"colorbar\":{\"outlinewidth\":0,\"ticks\":\"\"},\"type\":\"choropleth\"}],\"contour\":[{\"colorbar\":{\"outlinewidth\":0,\"ticks\":\"\"},\"colorscale\":[[0.0,\"#0d0887\"],[0.1111111111111111,\"#46039f\"],[0.2222222222222222,\"#7201a8\"],[0.3333333333333333,\"#9c179e\"],[0.4444444444444444,\"#bd3786\"],[0.5555555555555556,\"#d8576b\"],[0.6666666666666666,\"#ed7953\"],[0.7777777777777778,\"#fb9f3a\"],[0.8888888888888888,\"#fdca26\"],[1.0,\"#f0f921\"]],\"type\":\"contour\"}],\"contourcarpet\":[{\"colorbar\":{\"outlinewidth\":0,\"ticks\":\"\"},\"type\":\"contourcarpet\"}],\"heatmap\":[{\"colorbar\":{\"outlinewidth\":0,\"ticks\":\"\"},\"colorscale\":[[0.0,\"#0d0887\"],[0.1111111111111111,\"#46039f\"],[0.2222222222222222,\"#7201a8\"],[0.3333333333333333,\"#9c179e\"],[0.4444444444444444,\"#bd3786\"],[0.5555555555555556,\"#d8576b\"],[0.6666666666666666,\"#ed7953\"],[0.7777777777777778,\"#fb9f3a\"],[0.8888888888888888,\"#fdca26\"],[1.0,\"#f0f921\"]],\"type\":\"heatmap\"}],\"heatmapgl\":[{\"colorbar\":{\"outlinewidth\":0,\"ticks\":\"\"},\"colorscale\":[[0.0,\"#0d0887\"],[0.1111111111111111,\"#46039f\"],[0.2222222222222222,\"#7201a8\"],[0.3333333333333333,\"#9c179e\"],[0.4444444444444444,\"#bd3786\"],[0.5555555555555556,\"#d8576b\"],[0.6666666666666666,\"#ed7953\"],[0.7777777777777778,\"#fb9f3a\"],[0.8888888888888888,\"#fdca26\"],[1.0,\"#f0f921\"]],\"type\":\"heatmapgl\"}],\"histogram\":[{\"marker\":{\"pattern\":{\"fillmode\":\"overlay\",\"size\":10,\"solidity\":0.2}},\"type\":\"histogram\"}],\"histogram2d\":[{\"colorbar\":{\"outlinewidth\":0,\"ticks\":\"\"},\"colorscale\":[[0.0,\"#0d0887\"],[0.1111111111111111,\"#46039f\"],[0.2222222222222222,\"#7201a8\"],[0.3333333333333333,\"#9c179e\"],[0.4444444444444444,\"#bd3786\"],[0.5555555555555556,\"#d8576b\"],[0.6666666666666666,\"#ed7953\"],[0.7777777777777778,\"#fb9f3a\"],[0.8888888888888888,\"#fdca26\"],[1.0,\"#f0f921\"]],\"type\":\"histogram2d\"}],\"histogram2dcontour\":[{\"colorbar\":{\"outlinewidth\":0,\"ticks\":\"\"},\"colorscale\":[[0.0,\"#0d0887\"],[0.1111111111111111,\"#46039f\"],[0.2222222222222222,\"#7201a8\"],[0.3333333333333333,\"#9c179e\"],[0.4444444444444444,\"#bd3786\"],[0.5555555555555556,\"#d8576b\"],[0.6666666666666666,\"#ed7953\"],[0.7777777777777778,\"#fb9f3a\"],[0.8888888888888888,\"#fdca26\"],[1.0,\"#f0f921\"]],\"type\":\"histogram2dcontour\"}],\"mesh3d\":[{\"colorbar\":{\"outlinewidth\":0,\"ticks\":\"\"},\"type\":\"mesh3d\"}],\"parcoords\":[{\"line\":{\"colorbar\":{\"outlinewidth\":0,\"ticks\":\"\"}},\"type\":\"parcoords\"}],\"pie\":[{\"automargin\":true,\"type\":\"pie\"}],\"scatter\":[{\"marker\":{\"colorbar\":{\"outlinewidth\":0,\"ticks\":\"\"}},\"type\":\"scatter\"}],\"scatter3d\":[{\"line\":{\"colorbar\":{\"outlinewidth\":0,\"ticks\":\"\"}},\"marker\":{\"colorbar\":{\"outlinewidth\":0,\"ticks\":\"\"}},\"type\":\"scatter3d\"}],\"scattercarpet\":[{\"marker\":{\"colorbar\":{\"outlinewidth\":0,\"ticks\":\"\"}},\"type\":\"scattercarpet\"}],\"scattergeo\":[{\"marker\":{\"colorbar\":{\"outlinewidth\":0,\"ticks\":\"\"}},\"type\":\"scattergeo\"}],\"scattergl\":[{\"marker\":{\"colorbar\":{\"outlinewidth\":0,\"ticks\":\"\"}},\"type\":\"scattergl\"}],\"scattermapbox\":[{\"marker\":{\"colorbar\":{\"outlinewidth\":0,\"ticks\":\"\"}},\"type\":\"scattermapbox\"}],\"scatterpolar\":[{\"marker\":{\"colorbar\":{\"outlinewidth\":0,\"ticks\":\"\"}},\"type\":\"scatterpolar\"}],\"scatterpolargl\":[{\"marker\":{\"colorbar\":{\"outlinewidth\":0,\"ticks\":\"\"}},\"type\":\"scatterpolargl\"}],\"scatterternary\":[{\"marker\":{\"colorbar\":{\"outlinewidth\":0,\"ticks\":\"\"}},\"type\":\"scatterternary\"}],\"surface\":[{\"colorbar\":{\"outlinewidth\":0,\"ticks\":\"\"},\"colorscale\":[[0.0,\"#0d0887\"],[0.1111111111111111,\"#46039f\"],[0.2222222222222222,\"#7201a8\"],[0.3333333333333333,\"#9c179e\"],[0.4444444444444444,\"#bd3786\"],[0.5555555555555556,\"#d8576b\"],[0.6666666666666666,\"#ed7953\"],[0.7777777777777778,\"#fb9f3a\"],[0.8888888888888888,\"#fdca26\"],[1.0,\"#f0f921\"]],\"type\":\"surface\"}],\"table\":[{\"cells\":{\"fill\":{\"color\":\"#EBF0F8\"},\"line\":{\"color\":\"white\"}},\"header\":{\"fill\":{\"color\":\"#C8D4E3\"},\"line\":{\"color\":\"white\"}},\"type\":\"table\"}]},\"layout\":{\"annotationdefaults\":{\"arrowcolor\":\"#2a3f5f\",\"arrowhead\":0,\"arrowwidth\":1},\"autotypenumbers\":\"strict\",\"coloraxis\":{\"colorbar\":{\"outlinewidth\":0,\"ticks\":\"\"}},\"colorscale\":{\"diverging\":[[0,\"#8e0152\"],[0.1,\"#c51b7d\"],[0.2,\"#de77ae\"],[0.3,\"#f1b6da\"],[0.4,\"#fde0ef\"],[0.5,\"#f7f7f7\"],[0.6,\"#e6f5d0\"],[0.7,\"#b8e186\"],[0.8,\"#7fbc41\"],[0.9,\"#4d9221\"],[1,\"#276419\"]],\"sequential\":[[0.0,\"#0d0887\"],[0.1111111111111111,\"#46039f\"],[0.2222222222222222,\"#7201a8\"],[0.3333333333333333,\"#9c179e\"],[0.4444444444444444,\"#bd3786\"],[0.5555555555555556,\"#d8576b\"],[0.6666666666666666,\"#ed7953\"],[0.7777777777777778,\"#fb9f3a\"],[0.8888888888888888,\"#fdca26\"],[1.0,\"#f0f921\"]],\"sequentialminus\":[[0.0,\"#0d0887\"],[0.1111111111111111,\"#46039f\"],[0.2222222222222222,\"#7201a8\"],[0.3333333333333333,\"#9c179e\"],[0.4444444444444444,\"#bd3786\"],[0.5555555555555556,\"#d8576b\"],[0.6666666666666666,\"#ed7953\"],[0.7777777777777778,\"#fb9f3a\"],[0.8888888888888888,\"#fdca26\"],[1.0,\"#f0f921\"]]},\"colorway\":[\"#636efa\",\"#EF553B\",\"#00cc96\",\"#ab63fa\",\"#FFA15A\",\"#19d3f3\",\"#FF6692\",\"#B6E880\",\"#FF97FF\",\"#FECB52\"],\"font\":{\"color\":\"#2a3f5f\"},\"geo\":{\"bgcolor\":\"white\",\"lakecolor\":\"white\",\"landcolor\":\"#E5ECF6\",\"showlakes\":true,\"showland\":true,\"subunitcolor\":\"white\"},\"hoverlabel\":{\"align\":\"left\"},\"hovermode\":\"closest\",\"mapbox\":{\"style\":\"light\"},\"paper_bgcolor\":\"white\",\"plot_bgcolor\":\"#E5ECF6\",\"polar\":{\"angularaxis\":{\"gridcolor\":\"white\",\"linecolor\":\"white\",\"ticks\":\"\"},\"bgcolor\":\"#E5ECF6\",\"radialaxis\":{\"gridcolor\":\"white\",\"linecolor\":\"white\",\"ticks\":\"\"}},\"scene\":{\"xaxis\":{\"backgroundcolor\":\"#E5ECF6\",\"gridcolor\":\"white\",\"gridwidth\":2,\"linecolor\":\"white\",\"showbackground\":true,\"ticks\":\"\",\"zerolinecolor\":\"white\"},\"yaxis\":{\"backgroundcolor\":\"#E5ECF6\",\"gridcolor\":\"white\",\"gridwidth\":2,\"linecolor\":\"white\",\"showbackground\":true,\"ticks\":\"\",\"zerolinecolor\":\"white\"},\"zaxis\":{\"backgroundcolor\":\"#E5ECF6\",\"gridcolor\":\"white\",\"gridwidth\":2,\"linecolor\":\"white\",\"showbackground\":true,\"ticks\":\"\",\"zerolinecolor\":\"white\"}},\"shapedefaults\":{\"line\":{\"color\":\"#2a3f5f\"}},\"ternary\":{\"aaxis\":{\"gridcolor\":\"white\",\"linecolor\":\"white\",\"ticks\":\"\"},\"baxis\":{\"gridcolor\":\"white\",\"linecolor\":\"white\",\"ticks\":\"\"},\"bgcolor\":\"#E5ECF6\",\"caxis\":{\"gridcolor\":\"white\",\"linecolor\":\"white\",\"ticks\":\"\"}},\"title\":{\"x\":0.05},\"xaxis\":{\"automargin\":true,\"gridcolor\":\"white\",\"linecolor\":\"white\",\"ticks\":\"\",\"title\":{\"standoff\":15},\"zerolinecolor\":\"white\",\"zerolinewidth\":2},\"yaxis\":{\"automargin\":true,\"gridcolor\":\"white\",\"linecolor\":\"white\",\"ticks\":\"\",\"title\":{\"standoff\":15},\"zerolinecolor\":\"white\",\"zerolinewidth\":2}}}},                        {\"responsive\": true}                    ).then(function(){\n",
       "                            \n",
       "var gd = document.getElementById('8b389e3f-ae8e-4406-9345-56676bb298aa');\n",
       "var x = new MutationObserver(function (mutations, observer) {{\n",
       "        var display = window.getComputedStyle(gd).display;\n",
       "        if (!display || display === 'none') {{\n",
       "            console.log([gd, 'removed!']);\n",
       "            Plotly.purge(gd);\n",
       "            observer.disconnect();\n",
       "        }}\n",
       "}});\n",
       "\n",
       "// Listen for the removal of the full notebook cells\n",
       "var notebookContainer = gd.closest('#notebook-container');\n",
       "if (notebookContainer) {{\n",
       "    x.observe(notebookContainer, {childList: true});\n",
       "}}\n",
       "\n",
       "// Listen for the clearing of the current output cell\n",
       "var outputEl = gd.closest('.output');\n",
       "if (outputEl) {{\n",
       "    x.observe(outputEl, {childList: true});\n",
       "}}\n",
       "\n",
       "                        })                };                });            </script>        </div>"
      ]
     },
     "metadata": {},
     "output_type": "display_data"
    }
   ],
   "source": [
    "# Within cluster 2\n",
    "plot_df = filtered_accepted[filtered_accepted['cluster'] == 2]\n",
    "plot_df = (plot_df[plot_df['state'] != 'IA'].groupby('state').count()['cluster'] / filtered_accepted[filtered_accepted['state'] != 'IA'].groupby('state').count()['cluster'].values).reset_index()\n",
    "plot_df['cluster_4_proportion_of_state_population'] = plot_df['cluster']\n",
    "\n",
    "fig = px.choropleth(plot_df,\n",
    "                    locations='state', \n",
    "                    locationmode=\"USA-states\", \n",
    "                    scope=\"usa\",\n",
    "                    color='cluster',\n",
    "                    color_continuous_scale=\"PuBu\")\n",
    "fig.show()"
   ]
  },
  {
   "cell_type": "code",
   "execution_count": 340,
   "metadata": {},
   "outputs": [
    {
     "data": {
      "application/vnd.plotly.v1+json": {
       "config": {
        "plotlyServerURL": "https://plot.ly"
       },
       "data": [
        {
         "coloraxis": "coloraxis",
         "geo": "geo",
         "hovertemplate": "state=%{location}<br>cluster_2_proportion_of_state_population=%{z}<extra></extra>",
         "locationmode": "USA-states",
         "locations": [
          "AK",
          "AL",
          "AR",
          "AZ",
          "CA",
          "CO",
          "CT",
          "DC",
          "DE",
          "FL",
          "GA",
          "HI",
          "ID",
          "IL",
          "IN",
          "KS",
          "KY",
          "LA",
          "MA",
          "MD",
          "ME",
          "MI",
          "MN",
          "MO",
          "MS",
          "MT",
          "NC",
          "ND",
          "NE",
          "NH",
          "NJ",
          "NM",
          "NV",
          "NY",
          "OH",
          "OK",
          "OR",
          "PA",
          "RI",
          "SC",
          "SD",
          "TN",
          "TX",
          "UT",
          "VA",
          "VT",
          "WA",
          "WI",
          "WV",
          "WY"
         ],
         "name": "",
         "type": "choropleth",
         "z": [
          0.3675120244862265,
          0.3709750010228714,
          0.3691126723913609,
          0.3997567361411755,
          0.3899978994792157,
          0.3795148745643795,
          0.3802614746169927,
          0.37078405606657905,
          0.3726899383983573,
          0.3994024655149966,
          0.38636635917095963,
          0.37569355527102005,
          0.4057903338781228,
          0.38568314926881536,
          0.3888841482492818,
          0.3567437209575907,
          0.37575084548987936,
          0.35283379694019473,
          0.3745263708026654,
          0.3882815555967307,
          0.3882068826725699,
          0.3903631154141463,
          0.3797837989611119,
          0.37211963749961335,
          0.37276838847893357,
          0.35685089745868137,
          0.3747829476593784,
          0.38493723849372385,
          0.39032837352488453,
          0.3736580516898608,
          0.3865807778710044,
          0.37353433835845895,
          0.4004092769440655,
          0.37520406257718236,
          0.383530348141379,
          0.36537946548122757,
          0.3856920028666582,
          0.37851688394645916,
          0.39430668297564775,
          0.36987111268771433,
          0.3711340206185567,
          0.37150478017202626,
          0.37661413681477,
          0.37726274331591303,
          0.36742322137761246,
          0.3619068445221955,
          0.39140679473924644,
          0.3724112426035503,
          0.3431805632247377,
          0.3465936160076227
         ]
        }
       ],
       "layout": {
        "coloraxis": {
         "colorbar": {
          "title": {
           "text": "cluster_2_proportion_of_state_population"
          }
         },
         "colorscale": [
          [
           0,
           "rgb(255,247,251)"
          ],
          [
           0.125,
           "rgb(236,231,242)"
          ],
          [
           0.25,
           "rgb(208,209,230)"
          ],
          [
           0.375,
           "rgb(166,189,219)"
          ],
          [
           0.5,
           "rgb(116,169,207)"
          ],
          [
           0.625,
           "rgb(54,144,192)"
          ],
          [
           0.75,
           "rgb(5,112,176)"
          ],
          [
           0.875,
           "rgb(4,90,141)"
          ],
          [
           1,
           "rgb(2,56,88)"
          ]
         ]
        },
        "geo": {
         "center": {},
         "domain": {
          "x": [
           0,
           1
          ],
          "y": [
           0,
           1
          ]
         },
         "scope": "usa"
        },
        "legend": {
         "tracegroupgap": 0
        },
        "margin": {
         "t": 60
        },
        "template": {
         "data": {
          "bar": [
           {
            "error_x": {
             "color": "#2a3f5f"
            },
            "error_y": {
             "color": "#2a3f5f"
            },
            "marker": {
             "line": {
              "color": "#E5ECF6",
              "width": 0.5
             },
             "pattern": {
              "fillmode": "overlay",
              "size": 10,
              "solidity": 0.2
             }
            },
            "type": "bar"
           }
          ],
          "barpolar": [
           {
            "marker": {
             "line": {
              "color": "#E5ECF6",
              "width": 0.5
             },
             "pattern": {
              "fillmode": "overlay",
              "size": 10,
              "solidity": 0.2
             }
            },
            "type": "barpolar"
           }
          ],
          "carpet": [
           {
            "aaxis": {
             "endlinecolor": "#2a3f5f",
             "gridcolor": "white",
             "linecolor": "white",
             "minorgridcolor": "white",
             "startlinecolor": "#2a3f5f"
            },
            "baxis": {
             "endlinecolor": "#2a3f5f",
             "gridcolor": "white",
             "linecolor": "white",
             "minorgridcolor": "white",
             "startlinecolor": "#2a3f5f"
            },
            "type": "carpet"
           }
          ],
          "choropleth": [
           {
            "colorbar": {
             "outlinewidth": 0,
             "ticks": ""
            },
            "type": "choropleth"
           }
          ],
          "contour": [
           {
            "colorbar": {
             "outlinewidth": 0,
             "ticks": ""
            },
            "colorscale": [
             [
              0,
              "#0d0887"
             ],
             [
              0.1111111111111111,
              "#46039f"
             ],
             [
              0.2222222222222222,
              "#7201a8"
             ],
             [
              0.3333333333333333,
              "#9c179e"
             ],
             [
              0.4444444444444444,
              "#bd3786"
             ],
             [
              0.5555555555555556,
              "#d8576b"
             ],
             [
              0.6666666666666666,
              "#ed7953"
             ],
             [
              0.7777777777777778,
              "#fb9f3a"
             ],
             [
              0.8888888888888888,
              "#fdca26"
             ],
             [
              1,
              "#f0f921"
             ]
            ],
            "type": "contour"
           }
          ],
          "contourcarpet": [
           {
            "colorbar": {
             "outlinewidth": 0,
             "ticks": ""
            },
            "type": "contourcarpet"
           }
          ],
          "heatmap": [
           {
            "colorbar": {
             "outlinewidth": 0,
             "ticks": ""
            },
            "colorscale": [
             [
              0,
              "#0d0887"
             ],
             [
              0.1111111111111111,
              "#46039f"
             ],
             [
              0.2222222222222222,
              "#7201a8"
             ],
             [
              0.3333333333333333,
              "#9c179e"
             ],
             [
              0.4444444444444444,
              "#bd3786"
             ],
             [
              0.5555555555555556,
              "#d8576b"
             ],
             [
              0.6666666666666666,
              "#ed7953"
             ],
             [
              0.7777777777777778,
              "#fb9f3a"
             ],
             [
              0.8888888888888888,
              "#fdca26"
             ],
             [
              1,
              "#f0f921"
             ]
            ],
            "type": "heatmap"
           }
          ],
          "heatmapgl": [
           {
            "colorbar": {
             "outlinewidth": 0,
             "ticks": ""
            },
            "colorscale": [
             [
              0,
              "#0d0887"
             ],
             [
              0.1111111111111111,
              "#46039f"
             ],
             [
              0.2222222222222222,
              "#7201a8"
             ],
             [
              0.3333333333333333,
              "#9c179e"
             ],
             [
              0.4444444444444444,
              "#bd3786"
             ],
             [
              0.5555555555555556,
              "#d8576b"
             ],
             [
              0.6666666666666666,
              "#ed7953"
             ],
             [
              0.7777777777777778,
              "#fb9f3a"
             ],
             [
              0.8888888888888888,
              "#fdca26"
             ],
             [
              1,
              "#f0f921"
             ]
            ],
            "type": "heatmapgl"
           }
          ],
          "histogram": [
           {
            "marker": {
             "pattern": {
              "fillmode": "overlay",
              "size": 10,
              "solidity": 0.2
             }
            },
            "type": "histogram"
           }
          ],
          "histogram2d": [
           {
            "colorbar": {
             "outlinewidth": 0,
             "ticks": ""
            },
            "colorscale": [
             [
              0,
              "#0d0887"
             ],
             [
              0.1111111111111111,
              "#46039f"
             ],
             [
              0.2222222222222222,
              "#7201a8"
             ],
             [
              0.3333333333333333,
              "#9c179e"
             ],
             [
              0.4444444444444444,
              "#bd3786"
             ],
             [
              0.5555555555555556,
              "#d8576b"
             ],
             [
              0.6666666666666666,
              "#ed7953"
             ],
             [
              0.7777777777777778,
              "#fb9f3a"
             ],
             [
              0.8888888888888888,
              "#fdca26"
             ],
             [
              1,
              "#f0f921"
             ]
            ],
            "type": "histogram2d"
           }
          ],
          "histogram2dcontour": [
           {
            "colorbar": {
             "outlinewidth": 0,
             "ticks": ""
            },
            "colorscale": [
             [
              0,
              "#0d0887"
             ],
             [
              0.1111111111111111,
              "#46039f"
             ],
             [
              0.2222222222222222,
              "#7201a8"
             ],
             [
              0.3333333333333333,
              "#9c179e"
             ],
             [
              0.4444444444444444,
              "#bd3786"
             ],
             [
              0.5555555555555556,
              "#d8576b"
             ],
             [
              0.6666666666666666,
              "#ed7953"
             ],
             [
              0.7777777777777778,
              "#fb9f3a"
             ],
             [
              0.8888888888888888,
              "#fdca26"
             ],
             [
              1,
              "#f0f921"
             ]
            ],
            "type": "histogram2dcontour"
           }
          ],
          "mesh3d": [
           {
            "colorbar": {
             "outlinewidth": 0,
             "ticks": ""
            },
            "type": "mesh3d"
           }
          ],
          "parcoords": [
           {
            "line": {
             "colorbar": {
              "outlinewidth": 0,
              "ticks": ""
             }
            },
            "type": "parcoords"
           }
          ],
          "pie": [
           {
            "automargin": true,
            "type": "pie"
           }
          ],
          "scatter": [
           {
            "marker": {
             "colorbar": {
              "outlinewidth": 0,
              "ticks": ""
             }
            },
            "type": "scatter"
           }
          ],
          "scatter3d": [
           {
            "line": {
             "colorbar": {
              "outlinewidth": 0,
              "ticks": ""
             }
            },
            "marker": {
             "colorbar": {
              "outlinewidth": 0,
              "ticks": ""
             }
            },
            "type": "scatter3d"
           }
          ],
          "scattercarpet": [
           {
            "marker": {
             "colorbar": {
              "outlinewidth": 0,
              "ticks": ""
             }
            },
            "type": "scattercarpet"
           }
          ],
          "scattergeo": [
           {
            "marker": {
             "colorbar": {
              "outlinewidth": 0,
              "ticks": ""
             }
            },
            "type": "scattergeo"
           }
          ],
          "scattergl": [
           {
            "marker": {
             "colorbar": {
              "outlinewidth": 0,
              "ticks": ""
             }
            },
            "type": "scattergl"
           }
          ],
          "scattermapbox": [
           {
            "marker": {
             "colorbar": {
              "outlinewidth": 0,
              "ticks": ""
             }
            },
            "type": "scattermapbox"
           }
          ],
          "scatterpolar": [
           {
            "marker": {
             "colorbar": {
              "outlinewidth": 0,
              "ticks": ""
             }
            },
            "type": "scatterpolar"
           }
          ],
          "scatterpolargl": [
           {
            "marker": {
             "colorbar": {
              "outlinewidth": 0,
              "ticks": ""
             }
            },
            "type": "scatterpolargl"
           }
          ],
          "scatterternary": [
           {
            "marker": {
             "colorbar": {
              "outlinewidth": 0,
              "ticks": ""
             }
            },
            "type": "scatterternary"
           }
          ],
          "surface": [
           {
            "colorbar": {
             "outlinewidth": 0,
             "ticks": ""
            },
            "colorscale": [
             [
              0,
              "#0d0887"
             ],
             [
              0.1111111111111111,
              "#46039f"
             ],
             [
              0.2222222222222222,
              "#7201a8"
             ],
             [
              0.3333333333333333,
              "#9c179e"
             ],
             [
              0.4444444444444444,
              "#bd3786"
             ],
             [
              0.5555555555555556,
              "#d8576b"
             ],
             [
              0.6666666666666666,
              "#ed7953"
             ],
             [
              0.7777777777777778,
              "#fb9f3a"
             ],
             [
              0.8888888888888888,
              "#fdca26"
             ],
             [
              1,
              "#f0f921"
             ]
            ],
            "type": "surface"
           }
          ],
          "table": [
           {
            "cells": {
             "fill": {
              "color": "#EBF0F8"
             },
             "line": {
              "color": "white"
             }
            },
            "header": {
             "fill": {
              "color": "#C8D4E3"
             },
             "line": {
              "color": "white"
             }
            },
            "type": "table"
           }
          ]
         },
         "layout": {
          "annotationdefaults": {
           "arrowcolor": "#2a3f5f",
           "arrowhead": 0,
           "arrowwidth": 1
          },
          "autotypenumbers": "strict",
          "coloraxis": {
           "colorbar": {
            "outlinewidth": 0,
            "ticks": ""
           }
          },
          "colorscale": {
           "diverging": [
            [
             0,
             "#8e0152"
            ],
            [
             0.1,
             "#c51b7d"
            ],
            [
             0.2,
             "#de77ae"
            ],
            [
             0.3,
             "#f1b6da"
            ],
            [
             0.4,
             "#fde0ef"
            ],
            [
             0.5,
             "#f7f7f7"
            ],
            [
             0.6,
             "#e6f5d0"
            ],
            [
             0.7,
             "#b8e186"
            ],
            [
             0.8,
             "#7fbc41"
            ],
            [
             0.9,
             "#4d9221"
            ],
            [
             1,
             "#276419"
            ]
           ],
           "sequential": [
            [
             0,
             "#0d0887"
            ],
            [
             0.1111111111111111,
             "#46039f"
            ],
            [
             0.2222222222222222,
             "#7201a8"
            ],
            [
             0.3333333333333333,
             "#9c179e"
            ],
            [
             0.4444444444444444,
             "#bd3786"
            ],
            [
             0.5555555555555556,
             "#d8576b"
            ],
            [
             0.6666666666666666,
             "#ed7953"
            ],
            [
             0.7777777777777778,
             "#fb9f3a"
            ],
            [
             0.8888888888888888,
             "#fdca26"
            ],
            [
             1,
             "#f0f921"
            ]
           ],
           "sequentialminus": [
            [
             0,
             "#0d0887"
            ],
            [
             0.1111111111111111,
             "#46039f"
            ],
            [
             0.2222222222222222,
             "#7201a8"
            ],
            [
             0.3333333333333333,
             "#9c179e"
            ],
            [
             0.4444444444444444,
             "#bd3786"
            ],
            [
             0.5555555555555556,
             "#d8576b"
            ],
            [
             0.6666666666666666,
             "#ed7953"
            ],
            [
             0.7777777777777778,
             "#fb9f3a"
            ],
            [
             0.8888888888888888,
             "#fdca26"
            ],
            [
             1,
             "#f0f921"
            ]
           ]
          },
          "colorway": [
           "#636efa",
           "#EF553B",
           "#00cc96",
           "#ab63fa",
           "#FFA15A",
           "#19d3f3",
           "#FF6692",
           "#B6E880",
           "#FF97FF",
           "#FECB52"
          ],
          "font": {
           "color": "#2a3f5f"
          },
          "geo": {
           "bgcolor": "white",
           "lakecolor": "white",
           "landcolor": "#E5ECF6",
           "showlakes": true,
           "showland": true,
           "subunitcolor": "white"
          },
          "hoverlabel": {
           "align": "left"
          },
          "hovermode": "closest",
          "mapbox": {
           "style": "light"
          },
          "paper_bgcolor": "white",
          "plot_bgcolor": "#E5ECF6",
          "polar": {
           "angularaxis": {
            "gridcolor": "white",
            "linecolor": "white",
            "ticks": ""
           },
           "bgcolor": "#E5ECF6",
           "radialaxis": {
            "gridcolor": "white",
            "linecolor": "white",
            "ticks": ""
           }
          },
          "scene": {
           "xaxis": {
            "backgroundcolor": "#E5ECF6",
            "gridcolor": "white",
            "gridwidth": 2,
            "linecolor": "white",
            "showbackground": true,
            "ticks": "",
            "zerolinecolor": "white"
           },
           "yaxis": {
            "backgroundcolor": "#E5ECF6",
            "gridcolor": "white",
            "gridwidth": 2,
            "linecolor": "white",
            "showbackground": true,
            "ticks": "",
            "zerolinecolor": "white"
           },
           "zaxis": {
            "backgroundcolor": "#E5ECF6",
            "gridcolor": "white",
            "gridwidth": 2,
            "linecolor": "white",
            "showbackground": true,
            "ticks": "",
            "zerolinecolor": "white"
           }
          },
          "shapedefaults": {
           "line": {
            "color": "#2a3f5f"
           }
          },
          "ternary": {
           "aaxis": {
            "gridcolor": "white",
            "linecolor": "white",
            "ticks": ""
           },
           "baxis": {
            "gridcolor": "white",
            "linecolor": "white",
            "ticks": ""
           },
           "bgcolor": "#E5ECF6",
           "caxis": {
            "gridcolor": "white",
            "linecolor": "white",
            "ticks": ""
           }
          },
          "title": {
           "x": 0.05
          },
          "xaxis": {
           "automargin": true,
           "gridcolor": "white",
           "linecolor": "white",
           "ticks": "",
           "title": {
            "standoff": 15
           },
           "zerolinecolor": "white",
           "zerolinewidth": 2
          },
          "yaxis": {
           "automargin": true,
           "gridcolor": "white",
           "linecolor": "white",
           "ticks": "",
           "title": {
            "standoff": 15
           },
           "zerolinecolor": "white",
           "zerolinewidth": 2
          }
         }
        }
       }
      },
      "text/html": [
       "<div>                            <div id=\"45993ec0-75c2-4a99-9cc6-9d92ce477086\" class=\"plotly-graph-div\" style=\"height:525px; width:100%;\"></div>            <script type=\"text/javascript\">                require([\"plotly\"], function(Plotly) {                    window.PLOTLYENV=window.PLOTLYENV || {};                                    if (document.getElementById(\"45993ec0-75c2-4a99-9cc6-9d92ce477086\")) {                    Plotly.newPlot(                        \"45993ec0-75c2-4a99-9cc6-9d92ce477086\",                        [{\"coloraxis\":\"coloraxis\",\"geo\":\"geo\",\"hovertemplate\":\"state=%{location}<br>cluster_2_proportion_of_state_population=%{z}<extra></extra>\",\"locationmode\":\"USA-states\",\"locations\":[\"AK\",\"AL\",\"AR\",\"AZ\",\"CA\",\"CO\",\"CT\",\"DC\",\"DE\",\"FL\",\"GA\",\"HI\",\"ID\",\"IL\",\"IN\",\"KS\",\"KY\",\"LA\",\"MA\",\"MD\",\"ME\",\"MI\",\"MN\",\"MO\",\"MS\",\"MT\",\"NC\",\"ND\",\"NE\",\"NH\",\"NJ\",\"NM\",\"NV\",\"NY\",\"OH\",\"OK\",\"OR\",\"PA\",\"RI\",\"SC\",\"SD\",\"TN\",\"TX\",\"UT\",\"VA\",\"VT\",\"WA\",\"WI\",\"WV\",\"WY\"],\"name\":\"\",\"type\":\"choropleth\",\"z\":[0.3675120244862265,0.3709750010228714,0.3691126723913609,0.3997567361411755,0.3899978994792157,0.3795148745643795,0.3802614746169927,0.37078405606657905,0.3726899383983573,0.3994024655149966,0.38636635917095963,0.37569355527102005,0.4057903338781228,0.38568314926881536,0.3888841482492818,0.3567437209575907,0.37575084548987936,0.35283379694019473,0.3745263708026654,0.3882815555967307,0.3882068826725699,0.3903631154141463,0.3797837989611119,0.37211963749961335,0.37276838847893357,0.35685089745868137,0.3747829476593784,0.38493723849372385,0.39032837352488453,0.3736580516898608,0.3865807778710044,0.37353433835845895,0.4004092769440655,0.37520406257718236,0.383530348141379,0.36537946548122757,0.3856920028666582,0.37851688394645916,0.39430668297564775,0.36987111268771433,0.3711340206185567,0.37150478017202626,0.37661413681477,0.37726274331591303,0.36742322137761246,0.3619068445221955,0.39140679473924644,0.3724112426035503,0.3431805632247377,0.3465936160076227]}],                        {\"coloraxis\":{\"colorbar\":{\"title\":{\"text\":\"cluster_2_proportion_of_state_population\"}},\"colorscale\":[[0.0,\"rgb(255,247,251)\"],[0.125,\"rgb(236,231,242)\"],[0.25,\"rgb(208,209,230)\"],[0.375,\"rgb(166,189,219)\"],[0.5,\"rgb(116,169,207)\"],[0.625,\"rgb(54,144,192)\"],[0.75,\"rgb(5,112,176)\"],[0.875,\"rgb(4,90,141)\"],[1.0,\"rgb(2,56,88)\"]]},\"geo\":{\"center\":{},\"domain\":{\"x\":[0.0,1.0],\"y\":[0.0,1.0]},\"scope\":\"usa\"},\"legend\":{\"tracegroupgap\":0},\"margin\":{\"t\":60},\"template\":{\"data\":{\"bar\":[{\"error_x\":{\"color\":\"#2a3f5f\"},\"error_y\":{\"color\":\"#2a3f5f\"},\"marker\":{\"line\":{\"color\":\"#E5ECF6\",\"width\":0.5},\"pattern\":{\"fillmode\":\"overlay\",\"size\":10,\"solidity\":0.2}},\"type\":\"bar\"}],\"barpolar\":[{\"marker\":{\"line\":{\"color\":\"#E5ECF6\",\"width\":0.5},\"pattern\":{\"fillmode\":\"overlay\",\"size\":10,\"solidity\":0.2}},\"type\":\"barpolar\"}],\"carpet\":[{\"aaxis\":{\"endlinecolor\":\"#2a3f5f\",\"gridcolor\":\"white\",\"linecolor\":\"white\",\"minorgridcolor\":\"white\",\"startlinecolor\":\"#2a3f5f\"},\"baxis\":{\"endlinecolor\":\"#2a3f5f\",\"gridcolor\":\"white\",\"linecolor\":\"white\",\"minorgridcolor\":\"white\",\"startlinecolor\":\"#2a3f5f\"},\"type\":\"carpet\"}],\"choropleth\":[{\"colorbar\":{\"outlinewidth\":0,\"ticks\":\"\"},\"type\":\"choropleth\"}],\"contour\":[{\"colorbar\":{\"outlinewidth\":0,\"ticks\":\"\"},\"colorscale\":[[0.0,\"#0d0887\"],[0.1111111111111111,\"#46039f\"],[0.2222222222222222,\"#7201a8\"],[0.3333333333333333,\"#9c179e\"],[0.4444444444444444,\"#bd3786\"],[0.5555555555555556,\"#d8576b\"],[0.6666666666666666,\"#ed7953\"],[0.7777777777777778,\"#fb9f3a\"],[0.8888888888888888,\"#fdca26\"],[1.0,\"#f0f921\"]],\"type\":\"contour\"}],\"contourcarpet\":[{\"colorbar\":{\"outlinewidth\":0,\"ticks\":\"\"},\"type\":\"contourcarpet\"}],\"heatmap\":[{\"colorbar\":{\"outlinewidth\":0,\"ticks\":\"\"},\"colorscale\":[[0.0,\"#0d0887\"],[0.1111111111111111,\"#46039f\"],[0.2222222222222222,\"#7201a8\"],[0.3333333333333333,\"#9c179e\"],[0.4444444444444444,\"#bd3786\"],[0.5555555555555556,\"#d8576b\"],[0.6666666666666666,\"#ed7953\"],[0.7777777777777778,\"#fb9f3a\"],[0.8888888888888888,\"#fdca26\"],[1.0,\"#f0f921\"]],\"type\":\"heatmap\"}],\"heatmapgl\":[{\"colorbar\":{\"outlinewidth\":0,\"ticks\":\"\"},\"colorscale\":[[0.0,\"#0d0887\"],[0.1111111111111111,\"#46039f\"],[0.2222222222222222,\"#7201a8\"],[0.3333333333333333,\"#9c179e\"],[0.4444444444444444,\"#bd3786\"],[0.5555555555555556,\"#d8576b\"],[0.6666666666666666,\"#ed7953\"],[0.7777777777777778,\"#fb9f3a\"],[0.8888888888888888,\"#fdca26\"],[1.0,\"#f0f921\"]],\"type\":\"heatmapgl\"}],\"histogram\":[{\"marker\":{\"pattern\":{\"fillmode\":\"overlay\",\"size\":10,\"solidity\":0.2}},\"type\":\"histogram\"}],\"histogram2d\":[{\"colorbar\":{\"outlinewidth\":0,\"ticks\":\"\"},\"colorscale\":[[0.0,\"#0d0887\"],[0.1111111111111111,\"#46039f\"],[0.2222222222222222,\"#7201a8\"],[0.3333333333333333,\"#9c179e\"],[0.4444444444444444,\"#bd3786\"],[0.5555555555555556,\"#d8576b\"],[0.6666666666666666,\"#ed7953\"],[0.7777777777777778,\"#fb9f3a\"],[0.8888888888888888,\"#fdca26\"],[1.0,\"#f0f921\"]],\"type\":\"histogram2d\"}],\"histogram2dcontour\":[{\"colorbar\":{\"outlinewidth\":0,\"ticks\":\"\"},\"colorscale\":[[0.0,\"#0d0887\"],[0.1111111111111111,\"#46039f\"],[0.2222222222222222,\"#7201a8\"],[0.3333333333333333,\"#9c179e\"],[0.4444444444444444,\"#bd3786\"],[0.5555555555555556,\"#d8576b\"],[0.6666666666666666,\"#ed7953\"],[0.7777777777777778,\"#fb9f3a\"],[0.8888888888888888,\"#fdca26\"],[1.0,\"#f0f921\"]],\"type\":\"histogram2dcontour\"}],\"mesh3d\":[{\"colorbar\":{\"outlinewidth\":0,\"ticks\":\"\"},\"type\":\"mesh3d\"}],\"parcoords\":[{\"line\":{\"colorbar\":{\"outlinewidth\":0,\"ticks\":\"\"}},\"type\":\"parcoords\"}],\"pie\":[{\"automargin\":true,\"type\":\"pie\"}],\"scatter\":[{\"marker\":{\"colorbar\":{\"outlinewidth\":0,\"ticks\":\"\"}},\"type\":\"scatter\"}],\"scatter3d\":[{\"line\":{\"colorbar\":{\"outlinewidth\":0,\"ticks\":\"\"}},\"marker\":{\"colorbar\":{\"outlinewidth\":0,\"ticks\":\"\"}},\"type\":\"scatter3d\"}],\"scattercarpet\":[{\"marker\":{\"colorbar\":{\"outlinewidth\":0,\"ticks\":\"\"}},\"type\":\"scattercarpet\"}],\"scattergeo\":[{\"marker\":{\"colorbar\":{\"outlinewidth\":0,\"ticks\":\"\"}},\"type\":\"scattergeo\"}],\"scattergl\":[{\"marker\":{\"colorbar\":{\"outlinewidth\":0,\"ticks\":\"\"}},\"type\":\"scattergl\"}],\"scattermapbox\":[{\"marker\":{\"colorbar\":{\"outlinewidth\":0,\"ticks\":\"\"}},\"type\":\"scattermapbox\"}],\"scatterpolar\":[{\"marker\":{\"colorbar\":{\"outlinewidth\":0,\"ticks\":\"\"}},\"type\":\"scatterpolar\"}],\"scatterpolargl\":[{\"marker\":{\"colorbar\":{\"outlinewidth\":0,\"ticks\":\"\"}},\"type\":\"scatterpolargl\"}],\"scatterternary\":[{\"marker\":{\"colorbar\":{\"outlinewidth\":0,\"ticks\":\"\"}},\"type\":\"scatterternary\"}],\"surface\":[{\"colorbar\":{\"outlinewidth\":0,\"ticks\":\"\"},\"colorscale\":[[0.0,\"#0d0887\"],[0.1111111111111111,\"#46039f\"],[0.2222222222222222,\"#7201a8\"],[0.3333333333333333,\"#9c179e\"],[0.4444444444444444,\"#bd3786\"],[0.5555555555555556,\"#d8576b\"],[0.6666666666666666,\"#ed7953\"],[0.7777777777777778,\"#fb9f3a\"],[0.8888888888888888,\"#fdca26\"],[1.0,\"#f0f921\"]],\"type\":\"surface\"}],\"table\":[{\"cells\":{\"fill\":{\"color\":\"#EBF0F8\"},\"line\":{\"color\":\"white\"}},\"header\":{\"fill\":{\"color\":\"#C8D4E3\"},\"line\":{\"color\":\"white\"}},\"type\":\"table\"}]},\"layout\":{\"annotationdefaults\":{\"arrowcolor\":\"#2a3f5f\",\"arrowhead\":0,\"arrowwidth\":1},\"autotypenumbers\":\"strict\",\"coloraxis\":{\"colorbar\":{\"outlinewidth\":0,\"ticks\":\"\"}},\"colorscale\":{\"diverging\":[[0,\"#8e0152\"],[0.1,\"#c51b7d\"],[0.2,\"#de77ae\"],[0.3,\"#f1b6da\"],[0.4,\"#fde0ef\"],[0.5,\"#f7f7f7\"],[0.6,\"#e6f5d0\"],[0.7,\"#b8e186\"],[0.8,\"#7fbc41\"],[0.9,\"#4d9221\"],[1,\"#276419\"]],\"sequential\":[[0.0,\"#0d0887\"],[0.1111111111111111,\"#46039f\"],[0.2222222222222222,\"#7201a8\"],[0.3333333333333333,\"#9c179e\"],[0.4444444444444444,\"#bd3786\"],[0.5555555555555556,\"#d8576b\"],[0.6666666666666666,\"#ed7953\"],[0.7777777777777778,\"#fb9f3a\"],[0.8888888888888888,\"#fdca26\"],[1.0,\"#f0f921\"]],\"sequentialminus\":[[0.0,\"#0d0887\"],[0.1111111111111111,\"#46039f\"],[0.2222222222222222,\"#7201a8\"],[0.3333333333333333,\"#9c179e\"],[0.4444444444444444,\"#bd3786\"],[0.5555555555555556,\"#d8576b\"],[0.6666666666666666,\"#ed7953\"],[0.7777777777777778,\"#fb9f3a\"],[0.8888888888888888,\"#fdca26\"],[1.0,\"#f0f921\"]]},\"colorway\":[\"#636efa\",\"#EF553B\",\"#00cc96\",\"#ab63fa\",\"#FFA15A\",\"#19d3f3\",\"#FF6692\",\"#B6E880\",\"#FF97FF\",\"#FECB52\"],\"font\":{\"color\":\"#2a3f5f\"},\"geo\":{\"bgcolor\":\"white\",\"lakecolor\":\"white\",\"landcolor\":\"#E5ECF6\",\"showlakes\":true,\"showland\":true,\"subunitcolor\":\"white\"},\"hoverlabel\":{\"align\":\"left\"},\"hovermode\":\"closest\",\"mapbox\":{\"style\":\"light\"},\"paper_bgcolor\":\"white\",\"plot_bgcolor\":\"#E5ECF6\",\"polar\":{\"angularaxis\":{\"gridcolor\":\"white\",\"linecolor\":\"white\",\"ticks\":\"\"},\"bgcolor\":\"#E5ECF6\",\"radialaxis\":{\"gridcolor\":\"white\",\"linecolor\":\"white\",\"ticks\":\"\"}},\"scene\":{\"xaxis\":{\"backgroundcolor\":\"#E5ECF6\",\"gridcolor\":\"white\",\"gridwidth\":2,\"linecolor\":\"white\",\"showbackground\":true,\"ticks\":\"\",\"zerolinecolor\":\"white\"},\"yaxis\":{\"backgroundcolor\":\"#E5ECF6\",\"gridcolor\":\"white\",\"gridwidth\":2,\"linecolor\":\"white\",\"showbackground\":true,\"ticks\":\"\",\"zerolinecolor\":\"white\"},\"zaxis\":{\"backgroundcolor\":\"#E5ECF6\",\"gridcolor\":\"white\",\"gridwidth\":2,\"linecolor\":\"white\",\"showbackground\":true,\"ticks\":\"\",\"zerolinecolor\":\"white\"}},\"shapedefaults\":{\"line\":{\"color\":\"#2a3f5f\"}},\"ternary\":{\"aaxis\":{\"gridcolor\":\"white\",\"linecolor\":\"white\",\"ticks\":\"\"},\"baxis\":{\"gridcolor\":\"white\",\"linecolor\":\"white\",\"ticks\":\"\"},\"bgcolor\":\"#E5ECF6\",\"caxis\":{\"gridcolor\":\"white\",\"linecolor\":\"white\",\"ticks\":\"\"}},\"title\":{\"x\":0.05},\"xaxis\":{\"automargin\":true,\"gridcolor\":\"white\",\"linecolor\":\"white\",\"ticks\":\"\",\"title\":{\"standoff\":15},\"zerolinecolor\":\"white\",\"zerolinewidth\":2},\"yaxis\":{\"automargin\":true,\"gridcolor\":\"white\",\"linecolor\":\"white\",\"ticks\":\"\",\"title\":{\"standoff\":15},\"zerolinecolor\":\"white\",\"zerolinewidth\":2}}}},                        {\"responsive\": true}                    ).then(function(){\n",
       "                            \n",
       "var gd = document.getElementById('45993ec0-75c2-4a99-9cc6-9d92ce477086');\n",
       "var x = new MutationObserver(function (mutations, observer) {{\n",
       "        var display = window.getComputedStyle(gd).display;\n",
       "        if (!display || display === 'none') {{\n",
       "            console.log([gd, 'removed!']);\n",
       "            Plotly.purge(gd);\n",
       "            observer.disconnect();\n",
       "        }}\n",
       "}});\n",
       "\n",
       "// Listen for the removal of the full notebook cells\n",
       "var notebookContainer = gd.closest('#notebook-container');\n",
       "if (notebookContainer) {{\n",
       "    x.observe(notebookContainer, {childList: true});\n",
       "}}\n",
       "\n",
       "// Listen for the clearing of the current output cell\n",
       "var outputEl = gd.closest('.output');\n",
       "if (outputEl) {{\n",
       "    x.observe(outputEl, {childList: true});\n",
       "}}\n",
       "\n",
       "                        })                };                });            </script>        </div>"
      ]
     },
     "metadata": {},
     "output_type": "display_data"
    }
   ],
   "source": [
    "# Within cluster 2\n",
    "plot_df = filtered_accepted[filtered_accepted['cluster'] == 1]\n",
    "plot_df = (plot_df[plot_df['state'] != 'IA'].groupby('state').count()['cluster'] / filtered_accepted[filtered_accepted['state'] != 'IA'].groupby('state').count()['cluster'].values).reset_index()\n",
    "plot_df['cluster_2_proportion_of_state_population'] = plot_df['cluster']\n",
    "\n",
    "fig = px.choropleth(plot_df,\n",
    "                    locations='state', \n",
    "                    locationmode=\"USA-states\", \n",
    "                    scope=\"usa\",\n",
    "                    color='cluster_2_proportion_of_state_population',\n",
    "                    color_continuous_scale=\"PuBu\")\n",
    "fig.show()"
   ]
  },
  {
   "cell_type": "code",
   "execution_count": 341,
   "metadata": {},
   "outputs": [
    {
     "data": {
      "application/vnd.plotly.v1+json": {
       "config": {
        "plotlyServerURL": "https://plot.ly"
       },
       "data": [
        {
         "coloraxis": "coloraxis",
         "geo": "geo",
         "hovertemplate": "state=%{location}<br>cluster=%{z}<extra></extra>",
         "locationmode": "USA-states",
         "locations": [
          "AK",
          "AL",
          "AR",
          "AZ",
          "CA",
          "CO",
          "CT",
          "DC",
          "DE",
          "FL",
          "GA",
          "HI",
          "ID",
          "IL",
          "IN",
          "KS",
          "KY",
          "LA",
          "MA",
          "MD",
          "ME",
          "MI",
          "MN",
          "MO",
          "MS",
          "MT",
          "NC",
          "ND",
          "NE",
          "NH",
          "NJ",
          "NM",
          "NV",
          "NY",
          "OH",
          "OK",
          "OR",
          "PA",
          "RI",
          "SC",
          "SD",
          "TN",
          "TX",
          "UT",
          "VA",
          "VT",
          "WA",
          "WI",
          "WV",
          "WY"
         ],
         "name": "",
         "type": "choropleth",
         "z": [
          0.10581547879317883,
          0.10515118039360091,
          0.11254228467343222,
          0.10485084626961057,
          0.11040771832740601,
          0.11655011655011654,
          0.11479297325969609,
          0.1252737625930793,
          0.1163586584531143,
          0.10085450172339361,
          0.10186294477057625,
          0.09592402902262057,
          0.08895633901470931,
          0.11112058153834914,
          0.10447421566117701,
          0.12781601082289276,
          0.11185704911412851,
          0.1213490959666203,
          0.12510343626148687,
          0.104152512712824,
          0.11692493459448582,
          0.10397198449409165,
          0.11026252983293557,
          0.11536915035105626,
          0.09704038720939459,
          0.12066820685978319,
          0.11283178000637868,
          0.10571827057182706,
          0.11493073370959467,
          0.12495029821073558,
          0.11477251197661516,
          0.11204168993113717,
          0.09508867667121419,
          0.11575092016409343,
          0.10902632432273089,
          0.11659793262278399,
          0.11222123856498462,
          0.11277256757933858,
          0.10986322695429779,
          0.11122935635174018,
          0.10579283259695631,
          0.11007882039140468,
          0.11598069557587184,
          0.11103537074907217,
          0.1149388107175589,
          0.1239886289088126,
          0.10249813661609483,
          0.1201923076923077,
          0.12327443401435671,
          0.12553596950929014
         ]
        }
       ],
       "layout": {
        "coloraxis": {
         "colorbar": {
          "title": {
           "text": "cluster"
          }
         },
         "colorscale": [
          [
           0,
           "rgb(255,247,251)"
          ],
          [
           0.125,
           "rgb(236,231,242)"
          ],
          [
           0.25,
           "rgb(208,209,230)"
          ],
          [
           0.375,
           "rgb(166,189,219)"
          ],
          [
           0.5,
           "rgb(116,169,207)"
          ],
          [
           0.625,
           "rgb(54,144,192)"
          ],
          [
           0.75,
           "rgb(5,112,176)"
          ],
          [
           0.875,
           "rgb(4,90,141)"
          ],
          [
           1,
           "rgb(2,56,88)"
          ]
         ]
        },
        "geo": {
         "center": {},
         "domain": {
          "x": [
           0,
           1
          ],
          "y": [
           0,
           1
          ]
         },
         "scope": "usa"
        },
        "legend": {
         "tracegroupgap": 0
        },
        "margin": {
         "t": 60
        },
        "template": {
         "data": {
          "bar": [
           {
            "error_x": {
             "color": "#2a3f5f"
            },
            "error_y": {
             "color": "#2a3f5f"
            },
            "marker": {
             "line": {
              "color": "#E5ECF6",
              "width": 0.5
             },
             "pattern": {
              "fillmode": "overlay",
              "size": 10,
              "solidity": 0.2
             }
            },
            "type": "bar"
           }
          ],
          "barpolar": [
           {
            "marker": {
             "line": {
              "color": "#E5ECF6",
              "width": 0.5
             },
             "pattern": {
              "fillmode": "overlay",
              "size": 10,
              "solidity": 0.2
             }
            },
            "type": "barpolar"
           }
          ],
          "carpet": [
           {
            "aaxis": {
             "endlinecolor": "#2a3f5f",
             "gridcolor": "white",
             "linecolor": "white",
             "minorgridcolor": "white",
             "startlinecolor": "#2a3f5f"
            },
            "baxis": {
             "endlinecolor": "#2a3f5f",
             "gridcolor": "white",
             "linecolor": "white",
             "minorgridcolor": "white",
             "startlinecolor": "#2a3f5f"
            },
            "type": "carpet"
           }
          ],
          "choropleth": [
           {
            "colorbar": {
             "outlinewidth": 0,
             "ticks": ""
            },
            "type": "choropleth"
           }
          ],
          "contour": [
           {
            "colorbar": {
             "outlinewidth": 0,
             "ticks": ""
            },
            "colorscale": [
             [
              0,
              "#0d0887"
             ],
             [
              0.1111111111111111,
              "#46039f"
             ],
             [
              0.2222222222222222,
              "#7201a8"
             ],
             [
              0.3333333333333333,
              "#9c179e"
             ],
             [
              0.4444444444444444,
              "#bd3786"
             ],
             [
              0.5555555555555556,
              "#d8576b"
             ],
             [
              0.6666666666666666,
              "#ed7953"
             ],
             [
              0.7777777777777778,
              "#fb9f3a"
             ],
             [
              0.8888888888888888,
              "#fdca26"
             ],
             [
              1,
              "#f0f921"
             ]
            ],
            "type": "contour"
           }
          ],
          "contourcarpet": [
           {
            "colorbar": {
             "outlinewidth": 0,
             "ticks": ""
            },
            "type": "contourcarpet"
           }
          ],
          "heatmap": [
           {
            "colorbar": {
             "outlinewidth": 0,
             "ticks": ""
            },
            "colorscale": [
             [
              0,
              "#0d0887"
             ],
             [
              0.1111111111111111,
              "#46039f"
             ],
             [
              0.2222222222222222,
              "#7201a8"
             ],
             [
              0.3333333333333333,
              "#9c179e"
             ],
             [
              0.4444444444444444,
              "#bd3786"
             ],
             [
              0.5555555555555556,
              "#d8576b"
             ],
             [
              0.6666666666666666,
              "#ed7953"
             ],
             [
              0.7777777777777778,
              "#fb9f3a"
             ],
             [
              0.8888888888888888,
              "#fdca26"
             ],
             [
              1,
              "#f0f921"
             ]
            ],
            "type": "heatmap"
           }
          ],
          "heatmapgl": [
           {
            "colorbar": {
             "outlinewidth": 0,
             "ticks": ""
            },
            "colorscale": [
             [
              0,
              "#0d0887"
             ],
             [
              0.1111111111111111,
              "#46039f"
             ],
             [
              0.2222222222222222,
              "#7201a8"
             ],
             [
              0.3333333333333333,
              "#9c179e"
             ],
             [
              0.4444444444444444,
              "#bd3786"
             ],
             [
              0.5555555555555556,
              "#d8576b"
             ],
             [
              0.6666666666666666,
              "#ed7953"
             ],
             [
              0.7777777777777778,
              "#fb9f3a"
             ],
             [
              0.8888888888888888,
              "#fdca26"
             ],
             [
              1,
              "#f0f921"
             ]
            ],
            "type": "heatmapgl"
           }
          ],
          "histogram": [
           {
            "marker": {
             "pattern": {
              "fillmode": "overlay",
              "size": 10,
              "solidity": 0.2
             }
            },
            "type": "histogram"
           }
          ],
          "histogram2d": [
           {
            "colorbar": {
             "outlinewidth": 0,
             "ticks": ""
            },
            "colorscale": [
             [
              0,
              "#0d0887"
             ],
             [
              0.1111111111111111,
              "#46039f"
             ],
             [
              0.2222222222222222,
              "#7201a8"
             ],
             [
              0.3333333333333333,
              "#9c179e"
             ],
             [
              0.4444444444444444,
              "#bd3786"
             ],
             [
              0.5555555555555556,
              "#d8576b"
             ],
             [
              0.6666666666666666,
              "#ed7953"
             ],
             [
              0.7777777777777778,
              "#fb9f3a"
             ],
             [
              0.8888888888888888,
              "#fdca26"
             ],
             [
              1,
              "#f0f921"
             ]
            ],
            "type": "histogram2d"
           }
          ],
          "histogram2dcontour": [
           {
            "colorbar": {
             "outlinewidth": 0,
             "ticks": ""
            },
            "colorscale": [
             [
              0,
              "#0d0887"
             ],
             [
              0.1111111111111111,
              "#46039f"
             ],
             [
              0.2222222222222222,
              "#7201a8"
             ],
             [
              0.3333333333333333,
              "#9c179e"
             ],
             [
              0.4444444444444444,
              "#bd3786"
             ],
             [
              0.5555555555555556,
              "#d8576b"
             ],
             [
              0.6666666666666666,
              "#ed7953"
             ],
             [
              0.7777777777777778,
              "#fb9f3a"
             ],
             [
              0.8888888888888888,
              "#fdca26"
             ],
             [
              1,
              "#f0f921"
             ]
            ],
            "type": "histogram2dcontour"
           }
          ],
          "mesh3d": [
           {
            "colorbar": {
             "outlinewidth": 0,
             "ticks": ""
            },
            "type": "mesh3d"
           }
          ],
          "parcoords": [
           {
            "line": {
             "colorbar": {
              "outlinewidth": 0,
              "ticks": ""
             }
            },
            "type": "parcoords"
           }
          ],
          "pie": [
           {
            "automargin": true,
            "type": "pie"
           }
          ],
          "scatter": [
           {
            "marker": {
             "colorbar": {
              "outlinewidth": 0,
              "ticks": ""
             }
            },
            "type": "scatter"
           }
          ],
          "scatter3d": [
           {
            "line": {
             "colorbar": {
              "outlinewidth": 0,
              "ticks": ""
             }
            },
            "marker": {
             "colorbar": {
              "outlinewidth": 0,
              "ticks": ""
             }
            },
            "type": "scatter3d"
           }
          ],
          "scattercarpet": [
           {
            "marker": {
             "colorbar": {
              "outlinewidth": 0,
              "ticks": ""
             }
            },
            "type": "scattercarpet"
           }
          ],
          "scattergeo": [
           {
            "marker": {
             "colorbar": {
              "outlinewidth": 0,
              "ticks": ""
             }
            },
            "type": "scattergeo"
           }
          ],
          "scattergl": [
           {
            "marker": {
             "colorbar": {
              "outlinewidth": 0,
              "ticks": ""
             }
            },
            "type": "scattergl"
           }
          ],
          "scattermapbox": [
           {
            "marker": {
             "colorbar": {
              "outlinewidth": 0,
              "ticks": ""
             }
            },
            "type": "scattermapbox"
           }
          ],
          "scatterpolar": [
           {
            "marker": {
             "colorbar": {
              "outlinewidth": 0,
              "ticks": ""
             }
            },
            "type": "scatterpolar"
           }
          ],
          "scatterpolargl": [
           {
            "marker": {
             "colorbar": {
              "outlinewidth": 0,
              "ticks": ""
             }
            },
            "type": "scatterpolargl"
           }
          ],
          "scatterternary": [
           {
            "marker": {
             "colorbar": {
              "outlinewidth": 0,
              "ticks": ""
             }
            },
            "type": "scatterternary"
           }
          ],
          "surface": [
           {
            "colorbar": {
             "outlinewidth": 0,
             "ticks": ""
            },
            "colorscale": [
             [
              0,
              "#0d0887"
             ],
             [
              0.1111111111111111,
              "#46039f"
             ],
             [
              0.2222222222222222,
              "#7201a8"
             ],
             [
              0.3333333333333333,
              "#9c179e"
             ],
             [
              0.4444444444444444,
              "#bd3786"
             ],
             [
              0.5555555555555556,
              "#d8576b"
             ],
             [
              0.6666666666666666,
              "#ed7953"
             ],
             [
              0.7777777777777778,
              "#fb9f3a"
             ],
             [
              0.8888888888888888,
              "#fdca26"
             ],
             [
              1,
              "#f0f921"
             ]
            ],
            "type": "surface"
           }
          ],
          "table": [
           {
            "cells": {
             "fill": {
              "color": "#EBF0F8"
             },
             "line": {
              "color": "white"
             }
            },
            "header": {
             "fill": {
              "color": "#C8D4E3"
             },
             "line": {
              "color": "white"
             }
            },
            "type": "table"
           }
          ]
         },
         "layout": {
          "annotationdefaults": {
           "arrowcolor": "#2a3f5f",
           "arrowhead": 0,
           "arrowwidth": 1
          },
          "autotypenumbers": "strict",
          "coloraxis": {
           "colorbar": {
            "outlinewidth": 0,
            "ticks": ""
           }
          },
          "colorscale": {
           "diverging": [
            [
             0,
             "#8e0152"
            ],
            [
             0.1,
             "#c51b7d"
            ],
            [
             0.2,
             "#de77ae"
            ],
            [
             0.3,
             "#f1b6da"
            ],
            [
             0.4,
             "#fde0ef"
            ],
            [
             0.5,
             "#f7f7f7"
            ],
            [
             0.6,
             "#e6f5d0"
            ],
            [
             0.7,
             "#b8e186"
            ],
            [
             0.8,
             "#7fbc41"
            ],
            [
             0.9,
             "#4d9221"
            ],
            [
             1,
             "#276419"
            ]
           ],
           "sequential": [
            [
             0,
             "#0d0887"
            ],
            [
             0.1111111111111111,
             "#46039f"
            ],
            [
             0.2222222222222222,
             "#7201a8"
            ],
            [
             0.3333333333333333,
             "#9c179e"
            ],
            [
             0.4444444444444444,
             "#bd3786"
            ],
            [
             0.5555555555555556,
             "#d8576b"
            ],
            [
             0.6666666666666666,
             "#ed7953"
            ],
            [
             0.7777777777777778,
             "#fb9f3a"
            ],
            [
             0.8888888888888888,
             "#fdca26"
            ],
            [
             1,
             "#f0f921"
            ]
           ],
           "sequentialminus": [
            [
             0,
             "#0d0887"
            ],
            [
             0.1111111111111111,
             "#46039f"
            ],
            [
             0.2222222222222222,
             "#7201a8"
            ],
            [
             0.3333333333333333,
             "#9c179e"
            ],
            [
             0.4444444444444444,
             "#bd3786"
            ],
            [
             0.5555555555555556,
             "#d8576b"
            ],
            [
             0.6666666666666666,
             "#ed7953"
            ],
            [
             0.7777777777777778,
             "#fb9f3a"
            ],
            [
             0.8888888888888888,
             "#fdca26"
            ],
            [
             1,
             "#f0f921"
            ]
           ]
          },
          "colorway": [
           "#636efa",
           "#EF553B",
           "#00cc96",
           "#ab63fa",
           "#FFA15A",
           "#19d3f3",
           "#FF6692",
           "#B6E880",
           "#FF97FF",
           "#FECB52"
          ],
          "font": {
           "color": "#2a3f5f"
          },
          "geo": {
           "bgcolor": "white",
           "lakecolor": "white",
           "landcolor": "#E5ECF6",
           "showlakes": true,
           "showland": true,
           "subunitcolor": "white"
          },
          "hoverlabel": {
           "align": "left"
          },
          "hovermode": "closest",
          "mapbox": {
           "style": "light"
          },
          "paper_bgcolor": "white",
          "plot_bgcolor": "#E5ECF6",
          "polar": {
           "angularaxis": {
            "gridcolor": "white",
            "linecolor": "white",
            "ticks": ""
           },
           "bgcolor": "#E5ECF6",
           "radialaxis": {
            "gridcolor": "white",
            "linecolor": "white",
            "ticks": ""
           }
          },
          "scene": {
           "xaxis": {
            "backgroundcolor": "#E5ECF6",
            "gridcolor": "white",
            "gridwidth": 2,
            "linecolor": "white",
            "showbackground": true,
            "ticks": "",
            "zerolinecolor": "white"
           },
           "yaxis": {
            "backgroundcolor": "#E5ECF6",
            "gridcolor": "white",
            "gridwidth": 2,
            "linecolor": "white",
            "showbackground": true,
            "ticks": "",
            "zerolinecolor": "white"
           },
           "zaxis": {
            "backgroundcolor": "#E5ECF6",
            "gridcolor": "white",
            "gridwidth": 2,
            "linecolor": "white",
            "showbackground": true,
            "ticks": "",
            "zerolinecolor": "white"
           }
          },
          "shapedefaults": {
           "line": {
            "color": "#2a3f5f"
           }
          },
          "ternary": {
           "aaxis": {
            "gridcolor": "white",
            "linecolor": "white",
            "ticks": ""
           },
           "baxis": {
            "gridcolor": "white",
            "linecolor": "white",
            "ticks": ""
           },
           "bgcolor": "#E5ECF6",
           "caxis": {
            "gridcolor": "white",
            "linecolor": "white",
            "ticks": ""
           }
          },
          "title": {
           "x": 0.05
          },
          "xaxis": {
           "automargin": true,
           "gridcolor": "white",
           "linecolor": "white",
           "ticks": "",
           "title": {
            "standoff": 15
           },
           "zerolinecolor": "white",
           "zerolinewidth": 2
          },
          "yaxis": {
           "automargin": true,
           "gridcolor": "white",
           "linecolor": "white",
           "ticks": "",
           "title": {
            "standoff": 15
           },
           "zerolinecolor": "white",
           "zerolinewidth": 2
          }
         }
        }
       }
      },
      "text/html": [
       "<div>                            <div id=\"630e1850-aaf3-4405-87be-c0d64879a1bc\" class=\"plotly-graph-div\" style=\"height:525px; width:100%;\"></div>            <script type=\"text/javascript\">                require([\"plotly\"], function(Plotly) {                    window.PLOTLYENV=window.PLOTLYENV || {};                                    if (document.getElementById(\"630e1850-aaf3-4405-87be-c0d64879a1bc\")) {                    Plotly.newPlot(                        \"630e1850-aaf3-4405-87be-c0d64879a1bc\",                        [{\"coloraxis\":\"coloraxis\",\"geo\":\"geo\",\"hovertemplate\":\"state=%{location}<br>cluster=%{z}<extra></extra>\",\"locationmode\":\"USA-states\",\"locations\":[\"AK\",\"AL\",\"AR\",\"AZ\",\"CA\",\"CO\",\"CT\",\"DC\",\"DE\",\"FL\",\"GA\",\"HI\",\"ID\",\"IL\",\"IN\",\"KS\",\"KY\",\"LA\",\"MA\",\"MD\",\"ME\",\"MI\",\"MN\",\"MO\",\"MS\",\"MT\",\"NC\",\"ND\",\"NE\",\"NH\",\"NJ\",\"NM\",\"NV\",\"NY\",\"OH\",\"OK\",\"OR\",\"PA\",\"RI\",\"SC\",\"SD\",\"TN\",\"TX\",\"UT\",\"VA\",\"VT\",\"WA\",\"WI\",\"WV\",\"WY\"],\"name\":\"\",\"type\":\"choropleth\",\"z\":[0.10581547879317883,0.10515118039360091,0.11254228467343222,0.10485084626961057,0.11040771832740601,0.11655011655011654,0.11479297325969609,0.1252737625930793,0.1163586584531143,0.10085450172339361,0.10186294477057625,0.09592402902262057,0.08895633901470931,0.11112058153834914,0.10447421566117701,0.12781601082289276,0.11185704911412851,0.1213490959666203,0.12510343626148687,0.104152512712824,0.11692493459448582,0.10397198449409165,0.11026252983293557,0.11536915035105626,0.09704038720939459,0.12066820685978319,0.11283178000637868,0.10571827057182706,0.11493073370959467,0.12495029821073558,0.11477251197661516,0.11204168993113717,0.09508867667121419,0.11575092016409343,0.10902632432273089,0.11659793262278399,0.11222123856498462,0.11277256757933858,0.10986322695429779,0.11122935635174018,0.10579283259695631,0.11007882039140468,0.11598069557587184,0.11103537074907217,0.1149388107175589,0.1239886289088126,0.10249813661609483,0.1201923076923077,0.12327443401435671,0.12553596950929014]}],                        {\"coloraxis\":{\"colorbar\":{\"title\":{\"text\":\"cluster\"}},\"colorscale\":[[0.0,\"rgb(255,247,251)\"],[0.125,\"rgb(236,231,242)\"],[0.25,\"rgb(208,209,230)\"],[0.375,\"rgb(166,189,219)\"],[0.5,\"rgb(116,169,207)\"],[0.625,\"rgb(54,144,192)\"],[0.75,\"rgb(5,112,176)\"],[0.875,\"rgb(4,90,141)\"],[1.0,\"rgb(2,56,88)\"]]},\"geo\":{\"center\":{},\"domain\":{\"x\":[0.0,1.0],\"y\":[0.0,1.0]},\"scope\":\"usa\"},\"legend\":{\"tracegroupgap\":0},\"margin\":{\"t\":60},\"template\":{\"data\":{\"bar\":[{\"error_x\":{\"color\":\"#2a3f5f\"},\"error_y\":{\"color\":\"#2a3f5f\"},\"marker\":{\"line\":{\"color\":\"#E5ECF6\",\"width\":0.5},\"pattern\":{\"fillmode\":\"overlay\",\"size\":10,\"solidity\":0.2}},\"type\":\"bar\"}],\"barpolar\":[{\"marker\":{\"line\":{\"color\":\"#E5ECF6\",\"width\":0.5},\"pattern\":{\"fillmode\":\"overlay\",\"size\":10,\"solidity\":0.2}},\"type\":\"barpolar\"}],\"carpet\":[{\"aaxis\":{\"endlinecolor\":\"#2a3f5f\",\"gridcolor\":\"white\",\"linecolor\":\"white\",\"minorgridcolor\":\"white\",\"startlinecolor\":\"#2a3f5f\"},\"baxis\":{\"endlinecolor\":\"#2a3f5f\",\"gridcolor\":\"white\",\"linecolor\":\"white\",\"minorgridcolor\":\"white\",\"startlinecolor\":\"#2a3f5f\"},\"type\":\"carpet\"}],\"choropleth\":[{\"colorbar\":{\"outlinewidth\":0,\"ticks\":\"\"},\"type\":\"choropleth\"}],\"contour\":[{\"colorbar\":{\"outlinewidth\":0,\"ticks\":\"\"},\"colorscale\":[[0.0,\"#0d0887\"],[0.1111111111111111,\"#46039f\"],[0.2222222222222222,\"#7201a8\"],[0.3333333333333333,\"#9c179e\"],[0.4444444444444444,\"#bd3786\"],[0.5555555555555556,\"#d8576b\"],[0.6666666666666666,\"#ed7953\"],[0.7777777777777778,\"#fb9f3a\"],[0.8888888888888888,\"#fdca26\"],[1.0,\"#f0f921\"]],\"type\":\"contour\"}],\"contourcarpet\":[{\"colorbar\":{\"outlinewidth\":0,\"ticks\":\"\"},\"type\":\"contourcarpet\"}],\"heatmap\":[{\"colorbar\":{\"outlinewidth\":0,\"ticks\":\"\"},\"colorscale\":[[0.0,\"#0d0887\"],[0.1111111111111111,\"#46039f\"],[0.2222222222222222,\"#7201a8\"],[0.3333333333333333,\"#9c179e\"],[0.4444444444444444,\"#bd3786\"],[0.5555555555555556,\"#d8576b\"],[0.6666666666666666,\"#ed7953\"],[0.7777777777777778,\"#fb9f3a\"],[0.8888888888888888,\"#fdca26\"],[1.0,\"#f0f921\"]],\"type\":\"heatmap\"}],\"heatmapgl\":[{\"colorbar\":{\"outlinewidth\":0,\"ticks\":\"\"},\"colorscale\":[[0.0,\"#0d0887\"],[0.1111111111111111,\"#46039f\"],[0.2222222222222222,\"#7201a8\"],[0.3333333333333333,\"#9c179e\"],[0.4444444444444444,\"#bd3786\"],[0.5555555555555556,\"#d8576b\"],[0.6666666666666666,\"#ed7953\"],[0.7777777777777778,\"#fb9f3a\"],[0.8888888888888888,\"#fdca26\"],[1.0,\"#f0f921\"]],\"type\":\"heatmapgl\"}],\"histogram\":[{\"marker\":{\"pattern\":{\"fillmode\":\"overlay\",\"size\":10,\"solidity\":0.2}},\"type\":\"histogram\"}],\"histogram2d\":[{\"colorbar\":{\"outlinewidth\":0,\"ticks\":\"\"},\"colorscale\":[[0.0,\"#0d0887\"],[0.1111111111111111,\"#46039f\"],[0.2222222222222222,\"#7201a8\"],[0.3333333333333333,\"#9c179e\"],[0.4444444444444444,\"#bd3786\"],[0.5555555555555556,\"#d8576b\"],[0.6666666666666666,\"#ed7953\"],[0.7777777777777778,\"#fb9f3a\"],[0.8888888888888888,\"#fdca26\"],[1.0,\"#f0f921\"]],\"type\":\"histogram2d\"}],\"histogram2dcontour\":[{\"colorbar\":{\"outlinewidth\":0,\"ticks\":\"\"},\"colorscale\":[[0.0,\"#0d0887\"],[0.1111111111111111,\"#46039f\"],[0.2222222222222222,\"#7201a8\"],[0.3333333333333333,\"#9c179e\"],[0.4444444444444444,\"#bd3786\"],[0.5555555555555556,\"#d8576b\"],[0.6666666666666666,\"#ed7953\"],[0.7777777777777778,\"#fb9f3a\"],[0.8888888888888888,\"#fdca26\"],[1.0,\"#f0f921\"]],\"type\":\"histogram2dcontour\"}],\"mesh3d\":[{\"colorbar\":{\"outlinewidth\":0,\"ticks\":\"\"},\"type\":\"mesh3d\"}],\"parcoords\":[{\"line\":{\"colorbar\":{\"outlinewidth\":0,\"ticks\":\"\"}},\"type\":\"parcoords\"}],\"pie\":[{\"automargin\":true,\"type\":\"pie\"}],\"scatter\":[{\"marker\":{\"colorbar\":{\"outlinewidth\":0,\"ticks\":\"\"}},\"type\":\"scatter\"}],\"scatter3d\":[{\"line\":{\"colorbar\":{\"outlinewidth\":0,\"ticks\":\"\"}},\"marker\":{\"colorbar\":{\"outlinewidth\":0,\"ticks\":\"\"}},\"type\":\"scatter3d\"}],\"scattercarpet\":[{\"marker\":{\"colorbar\":{\"outlinewidth\":0,\"ticks\":\"\"}},\"type\":\"scattercarpet\"}],\"scattergeo\":[{\"marker\":{\"colorbar\":{\"outlinewidth\":0,\"ticks\":\"\"}},\"type\":\"scattergeo\"}],\"scattergl\":[{\"marker\":{\"colorbar\":{\"outlinewidth\":0,\"ticks\":\"\"}},\"type\":\"scattergl\"}],\"scattermapbox\":[{\"marker\":{\"colorbar\":{\"outlinewidth\":0,\"ticks\":\"\"}},\"type\":\"scattermapbox\"}],\"scatterpolar\":[{\"marker\":{\"colorbar\":{\"outlinewidth\":0,\"ticks\":\"\"}},\"type\":\"scatterpolar\"}],\"scatterpolargl\":[{\"marker\":{\"colorbar\":{\"outlinewidth\":0,\"ticks\":\"\"}},\"type\":\"scatterpolargl\"}],\"scatterternary\":[{\"marker\":{\"colorbar\":{\"outlinewidth\":0,\"ticks\":\"\"}},\"type\":\"scatterternary\"}],\"surface\":[{\"colorbar\":{\"outlinewidth\":0,\"ticks\":\"\"},\"colorscale\":[[0.0,\"#0d0887\"],[0.1111111111111111,\"#46039f\"],[0.2222222222222222,\"#7201a8\"],[0.3333333333333333,\"#9c179e\"],[0.4444444444444444,\"#bd3786\"],[0.5555555555555556,\"#d8576b\"],[0.6666666666666666,\"#ed7953\"],[0.7777777777777778,\"#fb9f3a\"],[0.8888888888888888,\"#fdca26\"],[1.0,\"#f0f921\"]],\"type\":\"surface\"}],\"table\":[{\"cells\":{\"fill\":{\"color\":\"#EBF0F8\"},\"line\":{\"color\":\"white\"}},\"header\":{\"fill\":{\"color\":\"#C8D4E3\"},\"line\":{\"color\":\"white\"}},\"type\":\"table\"}]},\"layout\":{\"annotationdefaults\":{\"arrowcolor\":\"#2a3f5f\",\"arrowhead\":0,\"arrowwidth\":1},\"autotypenumbers\":\"strict\",\"coloraxis\":{\"colorbar\":{\"outlinewidth\":0,\"ticks\":\"\"}},\"colorscale\":{\"diverging\":[[0,\"#8e0152\"],[0.1,\"#c51b7d\"],[0.2,\"#de77ae\"],[0.3,\"#f1b6da\"],[0.4,\"#fde0ef\"],[0.5,\"#f7f7f7\"],[0.6,\"#e6f5d0\"],[0.7,\"#b8e186\"],[0.8,\"#7fbc41\"],[0.9,\"#4d9221\"],[1,\"#276419\"]],\"sequential\":[[0.0,\"#0d0887\"],[0.1111111111111111,\"#46039f\"],[0.2222222222222222,\"#7201a8\"],[0.3333333333333333,\"#9c179e\"],[0.4444444444444444,\"#bd3786\"],[0.5555555555555556,\"#d8576b\"],[0.6666666666666666,\"#ed7953\"],[0.7777777777777778,\"#fb9f3a\"],[0.8888888888888888,\"#fdca26\"],[1.0,\"#f0f921\"]],\"sequentialminus\":[[0.0,\"#0d0887\"],[0.1111111111111111,\"#46039f\"],[0.2222222222222222,\"#7201a8\"],[0.3333333333333333,\"#9c179e\"],[0.4444444444444444,\"#bd3786\"],[0.5555555555555556,\"#d8576b\"],[0.6666666666666666,\"#ed7953\"],[0.7777777777777778,\"#fb9f3a\"],[0.8888888888888888,\"#fdca26\"],[1.0,\"#f0f921\"]]},\"colorway\":[\"#636efa\",\"#EF553B\",\"#00cc96\",\"#ab63fa\",\"#FFA15A\",\"#19d3f3\",\"#FF6692\",\"#B6E880\",\"#FF97FF\",\"#FECB52\"],\"font\":{\"color\":\"#2a3f5f\"},\"geo\":{\"bgcolor\":\"white\",\"lakecolor\":\"white\",\"landcolor\":\"#E5ECF6\",\"showlakes\":true,\"showland\":true,\"subunitcolor\":\"white\"},\"hoverlabel\":{\"align\":\"left\"},\"hovermode\":\"closest\",\"mapbox\":{\"style\":\"light\"},\"paper_bgcolor\":\"white\",\"plot_bgcolor\":\"#E5ECF6\",\"polar\":{\"angularaxis\":{\"gridcolor\":\"white\",\"linecolor\":\"white\",\"ticks\":\"\"},\"bgcolor\":\"#E5ECF6\",\"radialaxis\":{\"gridcolor\":\"white\",\"linecolor\":\"white\",\"ticks\":\"\"}},\"scene\":{\"xaxis\":{\"backgroundcolor\":\"#E5ECF6\",\"gridcolor\":\"white\",\"gridwidth\":2,\"linecolor\":\"white\",\"showbackground\":true,\"ticks\":\"\",\"zerolinecolor\":\"white\"},\"yaxis\":{\"backgroundcolor\":\"#E5ECF6\",\"gridcolor\":\"white\",\"gridwidth\":2,\"linecolor\":\"white\",\"showbackground\":true,\"ticks\":\"\",\"zerolinecolor\":\"white\"},\"zaxis\":{\"backgroundcolor\":\"#E5ECF6\",\"gridcolor\":\"white\",\"gridwidth\":2,\"linecolor\":\"white\",\"showbackground\":true,\"ticks\":\"\",\"zerolinecolor\":\"white\"}},\"shapedefaults\":{\"line\":{\"color\":\"#2a3f5f\"}},\"ternary\":{\"aaxis\":{\"gridcolor\":\"white\",\"linecolor\":\"white\",\"ticks\":\"\"},\"baxis\":{\"gridcolor\":\"white\",\"linecolor\":\"white\",\"ticks\":\"\"},\"bgcolor\":\"#E5ECF6\",\"caxis\":{\"gridcolor\":\"white\",\"linecolor\":\"white\",\"ticks\":\"\"}},\"title\":{\"x\":0.05},\"xaxis\":{\"automargin\":true,\"gridcolor\":\"white\",\"linecolor\":\"white\",\"ticks\":\"\",\"title\":{\"standoff\":15},\"zerolinecolor\":\"white\",\"zerolinewidth\":2},\"yaxis\":{\"automargin\":true,\"gridcolor\":\"white\",\"linecolor\":\"white\",\"ticks\":\"\",\"title\":{\"standoff\":15},\"zerolinecolor\":\"white\",\"zerolinewidth\":2}}}},                        {\"responsive\": true}                    ).then(function(){\n",
       "                            \n",
       "var gd = document.getElementById('630e1850-aaf3-4405-87be-c0d64879a1bc');\n",
       "var x = new MutationObserver(function (mutations, observer) {{\n",
       "        var display = window.getComputedStyle(gd).display;\n",
       "        if (!display || display === 'none') {{\n",
       "            console.log([gd, 'removed!']);\n",
       "            Plotly.purge(gd);\n",
       "            observer.disconnect();\n",
       "        }}\n",
       "}});\n",
       "\n",
       "// Listen for the removal of the full notebook cells\n",
       "var notebookContainer = gd.closest('#notebook-container');\n",
       "if (notebookContainer) {{\n",
       "    x.observe(notebookContainer, {childList: true});\n",
       "}}\n",
       "\n",
       "// Listen for the clearing of the current output cell\n",
       "var outputEl = gd.closest('.output');\n",
       "if (outputEl) {{\n",
       "    x.observe(outputEl, {childList: true});\n",
       "}}\n",
       "\n",
       "                        })                };                });            </script>        </div>"
      ]
     },
     "metadata": {},
     "output_type": "display_data"
    }
   ],
   "source": [
    "# Within cluster 2\n",
    "plot_df = filtered_accepted[filtered_accepted['cluster'] == 3]\n",
    "plot_df = (plot_df.groupby('state').count()['cluster'] / filtered_accepted[filtered_accepted['state'] != 'IA'].groupby('state').count()['cluster'].values).reset_index()\n",
    "\n",
    "fig = px.choropleth(plot_df,\n",
    "                    locations='state', \n",
    "                    locationmode=\"USA-states\", \n",
    "                    scope=\"usa\",\n",
    "                    color='cluster',\n",
    "                    color_continuous_scale=\"PuBu\")\n",
    "fig.show()"
   ]
  },
  {
   "cell_type": "code",
   "execution_count": 167,
   "metadata": {},
   "outputs": [
    {
     "data": {
      "application/vnd.plotly.v1+json": {
       "config": {
        "plotlyServerURL": "https://plot.ly"
       },
       "data": [
        {
         "coloraxis": "coloraxis",
         "geo": "geo",
         "hovertemplate": "state=%{location}<br>title=%{z}<extra></extra>",
         "locationmode": "USA-states",
         "locations": [
          "AK",
          "AL",
          "AR",
          "AZ",
          "CA",
          "CO",
          "CT",
          "DC",
          "DE",
          "FL",
          "GA",
          "HI",
          "IA",
          "ID",
          "IL",
          "IN",
          "KS",
          "KY",
          "LA",
          "MA",
          "MD",
          "ME",
          "MI",
          "MN",
          "MO",
          "MS",
          "MT",
          "NC",
          "ND",
          "NE",
          "NH",
          "NJ",
          "NM",
          "NV",
          "NY",
          "OH",
          "OK",
          "OR",
          "PA",
          "RI",
          "SC",
          "SD",
          "TN",
          "TX",
          "UT",
          "VA",
          "VT",
          "WA",
          "WI",
          "WV",
          "WY"
         ],
         "name": "",
         "type": "choropleth",
         "z": [
          3155,
          16860,
          10438,
          33901,
          194042,
          31166,
          22861,
          3144,
          4117,
          102068,
          47178,
          6484,
          1,
          2823,
          58064,
          25291,
          12028,
          13791,
          16223,
          35369,
          33844,
          3506,
          37250,
          26268,
          22820,
          8644,
          3947,
          38918,
          2552,
          5542,
          7416,
          52030,
          7281,
          20236,
          115771,
          48562,
          12964,
          16913,
          49016,
          6624,
          17234,
          2925,
          23317,
          117537,
          9456,
          38489,
          3405,
          29194,
          19497,
          4905,
          3019
         ]
        }
       ],
       "layout": {
        "coloraxis": {
         "colorbar": {
          "title": {
           "text": "title"
          }
         },
         "colorscale": [
          [
           0,
           "rgb(255,247,251)"
          ],
          [
           0.125,
           "rgb(236,231,242)"
          ],
          [
           0.25,
           "rgb(208,209,230)"
          ],
          [
           0.375,
           "rgb(166,189,219)"
          ],
          [
           0.5,
           "rgb(116,169,207)"
          ],
          [
           0.625,
           "rgb(54,144,192)"
          ],
          [
           0.75,
           "rgb(5,112,176)"
          ],
          [
           0.875,
           "rgb(4,90,141)"
          ],
          [
           1,
           "rgb(2,56,88)"
          ]
         ]
        },
        "geo": {
         "center": {},
         "domain": {
          "x": [
           0,
           1
          ],
          "y": [
           0,
           1
          ]
         },
         "scope": "usa"
        },
        "legend": {
         "tracegroupgap": 0
        },
        "margin": {
         "t": 60
        },
        "template": {
         "data": {
          "bar": [
           {
            "error_x": {
             "color": "#2a3f5f"
            },
            "error_y": {
             "color": "#2a3f5f"
            },
            "marker": {
             "line": {
              "color": "#E5ECF6",
              "width": 0.5
             },
             "pattern": {
              "fillmode": "overlay",
              "size": 10,
              "solidity": 0.2
             }
            },
            "type": "bar"
           }
          ],
          "barpolar": [
           {
            "marker": {
             "line": {
              "color": "#E5ECF6",
              "width": 0.5
             },
             "pattern": {
              "fillmode": "overlay",
              "size": 10,
              "solidity": 0.2
             }
            },
            "type": "barpolar"
           }
          ],
          "carpet": [
           {
            "aaxis": {
             "endlinecolor": "#2a3f5f",
             "gridcolor": "white",
             "linecolor": "white",
             "minorgridcolor": "white",
             "startlinecolor": "#2a3f5f"
            },
            "baxis": {
             "endlinecolor": "#2a3f5f",
             "gridcolor": "white",
             "linecolor": "white",
             "minorgridcolor": "white",
             "startlinecolor": "#2a3f5f"
            },
            "type": "carpet"
           }
          ],
          "choropleth": [
           {
            "colorbar": {
             "outlinewidth": 0,
             "ticks": ""
            },
            "type": "choropleth"
           }
          ],
          "contour": [
           {
            "colorbar": {
             "outlinewidth": 0,
             "ticks": ""
            },
            "colorscale": [
             [
              0,
              "#0d0887"
             ],
             [
              0.1111111111111111,
              "#46039f"
             ],
             [
              0.2222222222222222,
              "#7201a8"
             ],
             [
              0.3333333333333333,
              "#9c179e"
             ],
             [
              0.4444444444444444,
              "#bd3786"
             ],
             [
              0.5555555555555556,
              "#d8576b"
             ],
             [
              0.6666666666666666,
              "#ed7953"
             ],
             [
              0.7777777777777778,
              "#fb9f3a"
             ],
             [
              0.8888888888888888,
              "#fdca26"
             ],
             [
              1,
              "#f0f921"
             ]
            ],
            "type": "contour"
           }
          ],
          "contourcarpet": [
           {
            "colorbar": {
             "outlinewidth": 0,
             "ticks": ""
            },
            "type": "contourcarpet"
           }
          ],
          "heatmap": [
           {
            "colorbar": {
             "outlinewidth": 0,
             "ticks": ""
            },
            "colorscale": [
             [
              0,
              "#0d0887"
             ],
             [
              0.1111111111111111,
              "#46039f"
             ],
             [
              0.2222222222222222,
              "#7201a8"
             ],
             [
              0.3333333333333333,
              "#9c179e"
             ],
             [
              0.4444444444444444,
              "#bd3786"
             ],
             [
              0.5555555555555556,
              "#d8576b"
             ],
             [
              0.6666666666666666,
              "#ed7953"
             ],
             [
              0.7777777777777778,
              "#fb9f3a"
             ],
             [
              0.8888888888888888,
              "#fdca26"
             ],
             [
              1,
              "#f0f921"
             ]
            ],
            "type": "heatmap"
           }
          ],
          "heatmapgl": [
           {
            "colorbar": {
             "outlinewidth": 0,
             "ticks": ""
            },
            "colorscale": [
             [
              0,
              "#0d0887"
             ],
             [
              0.1111111111111111,
              "#46039f"
             ],
             [
              0.2222222222222222,
              "#7201a8"
             ],
             [
              0.3333333333333333,
              "#9c179e"
             ],
             [
              0.4444444444444444,
              "#bd3786"
             ],
             [
              0.5555555555555556,
              "#d8576b"
             ],
             [
              0.6666666666666666,
              "#ed7953"
             ],
             [
              0.7777777777777778,
              "#fb9f3a"
             ],
             [
              0.8888888888888888,
              "#fdca26"
             ],
             [
              1,
              "#f0f921"
             ]
            ],
            "type": "heatmapgl"
           }
          ],
          "histogram": [
           {
            "marker": {
             "pattern": {
              "fillmode": "overlay",
              "size": 10,
              "solidity": 0.2
             }
            },
            "type": "histogram"
           }
          ],
          "histogram2d": [
           {
            "colorbar": {
             "outlinewidth": 0,
             "ticks": ""
            },
            "colorscale": [
             [
              0,
              "#0d0887"
             ],
             [
              0.1111111111111111,
              "#46039f"
             ],
             [
              0.2222222222222222,
              "#7201a8"
             ],
             [
              0.3333333333333333,
              "#9c179e"
             ],
             [
              0.4444444444444444,
              "#bd3786"
             ],
             [
              0.5555555555555556,
              "#d8576b"
             ],
             [
              0.6666666666666666,
              "#ed7953"
             ],
             [
              0.7777777777777778,
              "#fb9f3a"
             ],
             [
              0.8888888888888888,
              "#fdca26"
             ],
             [
              1,
              "#f0f921"
             ]
            ],
            "type": "histogram2d"
           }
          ],
          "histogram2dcontour": [
           {
            "colorbar": {
             "outlinewidth": 0,
             "ticks": ""
            },
            "colorscale": [
             [
              0,
              "#0d0887"
             ],
             [
              0.1111111111111111,
              "#46039f"
             ],
             [
              0.2222222222222222,
              "#7201a8"
             ],
             [
              0.3333333333333333,
              "#9c179e"
             ],
             [
              0.4444444444444444,
              "#bd3786"
             ],
             [
              0.5555555555555556,
              "#d8576b"
             ],
             [
              0.6666666666666666,
              "#ed7953"
             ],
             [
              0.7777777777777778,
              "#fb9f3a"
             ],
             [
              0.8888888888888888,
              "#fdca26"
             ],
             [
              1,
              "#f0f921"
             ]
            ],
            "type": "histogram2dcontour"
           }
          ],
          "mesh3d": [
           {
            "colorbar": {
             "outlinewidth": 0,
             "ticks": ""
            },
            "type": "mesh3d"
           }
          ],
          "parcoords": [
           {
            "line": {
             "colorbar": {
              "outlinewidth": 0,
              "ticks": ""
             }
            },
            "type": "parcoords"
           }
          ],
          "pie": [
           {
            "automargin": true,
            "type": "pie"
           }
          ],
          "scatter": [
           {
            "marker": {
             "colorbar": {
              "outlinewidth": 0,
              "ticks": ""
             }
            },
            "type": "scatter"
           }
          ],
          "scatter3d": [
           {
            "line": {
             "colorbar": {
              "outlinewidth": 0,
              "ticks": ""
             }
            },
            "marker": {
             "colorbar": {
              "outlinewidth": 0,
              "ticks": ""
             }
            },
            "type": "scatter3d"
           }
          ],
          "scattercarpet": [
           {
            "marker": {
             "colorbar": {
              "outlinewidth": 0,
              "ticks": ""
             }
            },
            "type": "scattercarpet"
           }
          ],
          "scattergeo": [
           {
            "marker": {
             "colorbar": {
              "outlinewidth": 0,
              "ticks": ""
             }
            },
            "type": "scattergeo"
           }
          ],
          "scattergl": [
           {
            "marker": {
             "colorbar": {
              "outlinewidth": 0,
              "ticks": ""
             }
            },
            "type": "scattergl"
           }
          ],
          "scattermapbox": [
           {
            "marker": {
             "colorbar": {
              "outlinewidth": 0,
              "ticks": ""
             }
            },
            "type": "scattermapbox"
           }
          ],
          "scatterpolar": [
           {
            "marker": {
             "colorbar": {
              "outlinewidth": 0,
              "ticks": ""
             }
            },
            "type": "scatterpolar"
           }
          ],
          "scatterpolargl": [
           {
            "marker": {
             "colorbar": {
              "outlinewidth": 0,
              "ticks": ""
             }
            },
            "type": "scatterpolargl"
           }
          ],
          "scatterternary": [
           {
            "marker": {
             "colorbar": {
              "outlinewidth": 0,
              "ticks": ""
             }
            },
            "type": "scatterternary"
           }
          ],
          "surface": [
           {
            "colorbar": {
             "outlinewidth": 0,
             "ticks": ""
            },
            "colorscale": [
             [
              0,
              "#0d0887"
             ],
             [
              0.1111111111111111,
              "#46039f"
             ],
             [
              0.2222222222222222,
              "#7201a8"
             ],
             [
              0.3333333333333333,
              "#9c179e"
             ],
             [
              0.4444444444444444,
              "#bd3786"
             ],
             [
              0.5555555555555556,
              "#d8576b"
             ],
             [
              0.6666666666666666,
              "#ed7953"
             ],
             [
              0.7777777777777778,
              "#fb9f3a"
             ],
             [
              0.8888888888888888,
              "#fdca26"
             ],
             [
              1,
              "#f0f921"
             ]
            ],
            "type": "surface"
           }
          ],
          "table": [
           {
            "cells": {
             "fill": {
              "color": "#EBF0F8"
             },
             "line": {
              "color": "white"
             }
            },
            "header": {
             "fill": {
              "color": "#C8D4E3"
             },
             "line": {
              "color": "white"
             }
            },
            "type": "table"
           }
          ]
         },
         "layout": {
          "annotationdefaults": {
           "arrowcolor": "#2a3f5f",
           "arrowhead": 0,
           "arrowwidth": 1
          },
          "autotypenumbers": "strict",
          "coloraxis": {
           "colorbar": {
            "outlinewidth": 0,
            "ticks": ""
           }
          },
          "colorscale": {
           "diverging": [
            [
             0,
             "#8e0152"
            ],
            [
             0.1,
             "#c51b7d"
            ],
            [
             0.2,
             "#de77ae"
            ],
            [
             0.3,
             "#f1b6da"
            ],
            [
             0.4,
             "#fde0ef"
            ],
            [
             0.5,
             "#f7f7f7"
            ],
            [
             0.6,
             "#e6f5d0"
            ],
            [
             0.7,
             "#b8e186"
            ],
            [
             0.8,
             "#7fbc41"
            ],
            [
             0.9,
             "#4d9221"
            ],
            [
             1,
             "#276419"
            ]
           ],
           "sequential": [
            [
             0,
             "#0d0887"
            ],
            [
             0.1111111111111111,
             "#46039f"
            ],
            [
             0.2222222222222222,
             "#7201a8"
            ],
            [
             0.3333333333333333,
             "#9c179e"
            ],
            [
             0.4444444444444444,
             "#bd3786"
            ],
            [
             0.5555555555555556,
             "#d8576b"
            ],
            [
             0.6666666666666666,
             "#ed7953"
            ],
            [
             0.7777777777777778,
             "#fb9f3a"
            ],
            [
             0.8888888888888888,
             "#fdca26"
            ],
            [
             1,
             "#f0f921"
            ]
           ],
           "sequentialminus": [
            [
             0,
             "#0d0887"
            ],
            [
             0.1111111111111111,
             "#46039f"
            ],
            [
             0.2222222222222222,
             "#7201a8"
            ],
            [
             0.3333333333333333,
             "#9c179e"
            ],
            [
             0.4444444444444444,
             "#bd3786"
            ],
            [
             0.5555555555555556,
             "#d8576b"
            ],
            [
             0.6666666666666666,
             "#ed7953"
            ],
            [
             0.7777777777777778,
             "#fb9f3a"
            ],
            [
             0.8888888888888888,
             "#fdca26"
            ],
            [
             1,
             "#f0f921"
            ]
           ]
          },
          "colorway": [
           "#636efa",
           "#EF553B",
           "#00cc96",
           "#ab63fa",
           "#FFA15A",
           "#19d3f3",
           "#FF6692",
           "#B6E880",
           "#FF97FF",
           "#FECB52"
          ],
          "font": {
           "color": "#2a3f5f"
          },
          "geo": {
           "bgcolor": "white",
           "lakecolor": "white",
           "landcolor": "#E5ECF6",
           "showlakes": true,
           "showland": true,
           "subunitcolor": "white"
          },
          "hoverlabel": {
           "align": "left"
          },
          "hovermode": "closest",
          "mapbox": {
           "style": "light"
          },
          "paper_bgcolor": "white",
          "plot_bgcolor": "#E5ECF6",
          "polar": {
           "angularaxis": {
            "gridcolor": "white",
            "linecolor": "white",
            "ticks": ""
           },
           "bgcolor": "#E5ECF6",
           "radialaxis": {
            "gridcolor": "white",
            "linecolor": "white",
            "ticks": ""
           }
          },
          "scene": {
           "xaxis": {
            "backgroundcolor": "#E5ECF6",
            "gridcolor": "white",
            "gridwidth": 2,
            "linecolor": "white",
            "showbackground": true,
            "ticks": "",
            "zerolinecolor": "white"
           },
           "yaxis": {
            "backgroundcolor": "#E5ECF6",
            "gridcolor": "white",
            "gridwidth": 2,
            "linecolor": "white",
            "showbackground": true,
            "ticks": "",
            "zerolinecolor": "white"
           },
           "zaxis": {
            "backgroundcolor": "#E5ECF6",
            "gridcolor": "white",
            "gridwidth": 2,
            "linecolor": "white",
            "showbackground": true,
            "ticks": "",
            "zerolinecolor": "white"
           }
          },
          "shapedefaults": {
           "line": {
            "color": "#2a3f5f"
           }
          },
          "ternary": {
           "aaxis": {
            "gridcolor": "white",
            "linecolor": "white",
            "ticks": ""
           },
           "baxis": {
            "gridcolor": "white",
            "linecolor": "white",
            "ticks": ""
           },
           "bgcolor": "#E5ECF6",
           "caxis": {
            "gridcolor": "white",
            "linecolor": "white",
            "ticks": ""
           }
          },
          "title": {
           "x": 0.05
          },
          "xaxis": {
           "automargin": true,
           "gridcolor": "white",
           "linecolor": "white",
           "ticks": "",
           "title": {
            "standoff": 15
           },
           "zerolinecolor": "white",
           "zerolinewidth": 2
          },
          "yaxis": {
           "automargin": true,
           "gridcolor": "white",
           "linecolor": "white",
           "ticks": "",
           "title": {
            "standoff": 15
           },
           "zerolinecolor": "white",
           "zerolinewidth": 2
          }
         }
        }
       }
      },
      "text/html": [
       "<div>                            <div id=\"d284035a-7574-42d7-bb65-c625b7a1f11e\" class=\"plotly-graph-div\" style=\"height:525px; width:100%;\"></div>            <script type=\"text/javascript\">                require([\"plotly\"], function(Plotly) {                    window.PLOTLYENV=window.PLOTLYENV || {};                                    if (document.getElementById(\"d284035a-7574-42d7-bb65-c625b7a1f11e\")) {                    Plotly.newPlot(                        \"d284035a-7574-42d7-bb65-c625b7a1f11e\",                        [{\"coloraxis\":\"coloraxis\",\"geo\":\"geo\",\"hovertemplate\":\"state=%{location}<br>title=%{z}<extra></extra>\",\"locationmode\":\"USA-states\",\"locations\":[\"AK\",\"AL\",\"AR\",\"AZ\",\"CA\",\"CO\",\"CT\",\"DC\",\"DE\",\"FL\",\"GA\",\"HI\",\"IA\",\"ID\",\"IL\",\"IN\",\"KS\",\"KY\",\"LA\",\"MA\",\"MD\",\"ME\",\"MI\",\"MN\",\"MO\",\"MS\",\"MT\",\"NC\",\"ND\",\"NE\",\"NH\",\"NJ\",\"NM\",\"NV\",\"NY\",\"OH\",\"OK\",\"OR\",\"PA\",\"RI\",\"SC\",\"SD\",\"TN\",\"TX\",\"UT\",\"VA\",\"VT\",\"WA\",\"WI\",\"WV\",\"WY\"],\"name\":\"\",\"type\":\"choropleth\",\"z\":[3155,16860,10438,33901,194042,31166,22861,3144,4117,102068,47178,6484,1,2823,58064,25291,12028,13791,16223,35369,33844,3506,37250,26268,22820,8644,3947,38918,2552,5542,7416,52030,7281,20236,115771,48562,12964,16913,49016,6624,17234,2925,23317,117537,9456,38489,3405,29194,19497,4905,3019]}],                        {\"coloraxis\":{\"colorbar\":{\"title\":{\"text\":\"title\"}},\"colorscale\":[[0.0,\"rgb(255,247,251)\"],[0.125,\"rgb(236,231,242)\"],[0.25,\"rgb(208,209,230)\"],[0.375,\"rgb(166,189,219)\"],[0.5,\"rgb(116,169,207)\"],[0.625,\"rgb(54,144,192)\"],[0.75,\"rgb(5,112,176)\"],[0.875,\"rgb(4,90,141)\"],[1.0,\"rgb(2,56,88)\"]]},\"geo\":{\"center\":{},\"domain\":{\"x\":[0.0,1.0],\"y\":[0.0,1.0]},\"scope\":\"usa\"},\"legend\":{\"tracegroupgap\":0},\"margin\":{\"t\":60},\"template\":{\"data\":{\"bar\":[{\"error_x\":{\"color\":\"#2a3f5f\"},\"error_y\":{\"color\":\"#2a3f5f\"},\"marker\":{\"line\":{\"color\":\"#E5ECF6\",\"width\":0.5},\"pattern\":{\"fillmode\":\"overlay\",\"size\":10,\"solidity\":0.2}},\"type\":\"bar\"}],\"barpolar\":[{\"marker\":{\"line\":{\"color\":\"#E5ECF6\",\"width\":0.5},\"pattern\":{\"fillmode\":\"overlay\",\"size\":10,\"solidity\":0.2}},\"type\":\"barpolar\"}],\"carpet\":[{\"aaxis\":{\"endlinecolor\":\"#2a3f5f\",\"gridcolor\":\"white\",\"linecolor\":\"white\",\"minorgridcolor\":\"white\",\"startlinecolor\":\"#2a3f5f\"},\"baxis\":{\"endlinecolor\":\"#2a3f5f\",\"gridcolor\":\"white\",\"linecolor\":\"white\",\"minorgridcolor\":\"white\",\"startlinecolor\":\"#2a3f5f\"},\"type\":\"carpet\"}],\"choropleth\":[{\"colorbar\":{\"outlinewidth\":0,\"ticks\":\"\"},\"type\":\"choropleth\"}],\"contour\":[{\"colorbar\":{\"outlinewidth\":0,\"ticks\":\"\"},\"colorscale\":[[0.0,\"#0d0887\"],[0.1111111111111111,\"#46039f\"],[0.2222222222222222,\"#7201a8\"],[0.3333333333333333,\"#9c179e\"],[0.4444444444444444,\"#bd3786\"],[0.5555555555555556,\"#d8576b\"],[0.6666666666666666,\"#ed7953\"],[0.7777777777777778,\"#fb9f3a\"],[0.8888888888888888,\"#fdca26\"],[1.0,\"#f0f921\"]],\"type\":\"contour\"}],\"contourcarpet\":[{\"colorbar\":{\"outlinewidth\":0,\"ticks\":\"\"},\"type\":\"contourcarpet\"}],\"heatmap\":[{\"colorbar\":{\"outlinewidth\":0,\"ticks\":\"\"},\"colorscale\":[[0.0,\"#0d0887\"],[0.1111111111111111,\"#46039f\"],[0.2222222222222222,\"#7201a8\"],[0.3333333333333333,\"#9c179e\"],[0.4444444444444444,\"#bd3786\"],[0.5555555555555556,\"#d8576b\"],[0.6666666666666666,\"#ed7953\"],[0.7777777777777778,\"#fb9f3a\"],[0.8888888888888888,\"#fdca26\"],[1.0,\"#f0f921\"]],\"type\":\"heatmap\"}],\"heatmapgl\":[{\"colorbar\":{\"outlinewidth\":0,\"ticks\":\"\"},\"colorscale\":[[0.0,\"#0d0887\"],[0.1111111111111111,\"#46039f\"],[0.2222222222222222,\"#7201a8\"],[0.3333333333333333,\"#9c179e\"],[0.4444444444444444,\"#bd3786\"],[0.5555555555555556,\"#d8576b\"],[0.6666666666666666,\"#ed7953\"],[0.7777777777777778,\"#fb9f3a\"],[0.8888888888888888,\"#fdca26\"],[1.0,\"#f0f921\"]],\"type\":\"heatmapgl\"}],\"histogram\":[{\"marker\":{\"pattern\":{\"fillmode\":\"overlay\",\"size\":10,\"solidity\":0.2}},\"type\":\"histogram\"}],\"histogram2d\":[{\"colorbar\":{\"outlinewidth\":0,\"ticks\":\"\"},\"colorscale\":[[0.0,\"#0d0887\"],[0.1111111111111111,\"#46039f\"],[0.2222222222222222,\"#7201a8\"],[0.3333333333333333,\"#9c179e\"],[0.4444444444444444,\"#bd3786\"],[0.5555555555555556,\"#d8576b\"],[0.6666666666666666,\"#ed7953\"],[0.7777777777777778,\"#fb9f3a\"],[0.8888888888888888,\"#fdca26\"],[1.0,\"#f0f921\"]],\"type\":\"histogram2d\"}],\"histogram2dcontour\":[{\"colorbar\":{\"outlinewidth\":0,\"ticks\":\"\"},\"colorscale\":[[0.0,\"#0d0887\"],[0.1111111111111111,\"#46039f\"],[0.2222222222222222,\"#7201a8\"],[0.3333333333333333,\"#9c179e\"],[0.4444444444444444,\"#bd3786\"],[0.5555555555555556,\"#d8576b\"],[0.6666666666666666,\"#ed7953\"],[0.7777777777777778,\"#fb9f3a\"],[0.8888888888888888,\"#fdca26\"],[1.0,\"#f0f921\"]],\"type\":\"histogram2dcontour\"}],\"mesh3d\":[{\"colorbar\":{\"outlinewidth\":0,\"ticks\":\"\"},\"type\":\"mesh3d\"}],\"parcoords\":[{\"line\":{\"colorbar\":{\"outlinewidth\":0,\"ticks\":\"\"}},\"type\":\"parcoords\"}],\"pie\":[{\"automargin\":true,\"type\":\"pie\"}],\"scatter\":[{\"marker\":{\"colorbar\":{\"outlinewidth\":0,\"ticks\":\"\"}},\"type\":\"scatter\"}],\"scatter3d\":[{\"line\":{\"colorbar\":{\"outlinewidth\":0,\"ticks\":\"\"}},\"marker\":{\"colorbar\":{\"outlinewidth\":0,\"ticks\":\"\"}},\"type\":\"scatter3d\"}],\"scattercarpet\":[{\"marker\":{\"colorbar\":{\"outlinewidth\":0,\"ticks\":\"\"}},\"type\":\"scattercarpet\"}],\"scattergeo\":[{\"marker\":{\"colorbar\":{\"outlinewidth\":0,\"ticks\":\"\"}},\"type\":\"scattergeo\"}],\"scattergl\":[{\"marker\":{\"colorbar\":{\"outlinewidth\":0,\"ticks\":\"\"}},\"type\":\"scattergl\"}],\"scattermapbox\":[{\"marker\":{\"colorbar\":{\"outlinewidth\":0,\"ticks\":\"\"}},\"type\":\"scattermapbox\"}],\"scatterpolar\":[{\"marker\":{\"colorbar\":{\"outlinewidth\":0,\"ticks\":\"\"}},\"type\":\"scatterpolar\"}],\"scatterpolargl\":[{\"marker\":{\"colorbar\":{\"outlinewidth\":0,\"ticks\":\"\"}},\"type\":\"scatterpolargl\"}],\"scatterternary\":[{\"marker\":{\"colorbar\":{\"outlinewidth\":0,\"ticks\":\"\"}},\"type\":\"scatterternary\"}],\"surface\":[{\"colorbar\":{\"outlinewidth\":0,\"ticks\":\"\"},\"colorscale\":[[0.0,\"#0d0887\"],[0.1111111111111111,\"#46039f\"],[0.2222222222222222,\"#7201a8\"],[0.3333333333333333,\"#9c179e\"],[0.4444444444444444,\"#bd3786\"],[0.5555555555555556,\"#d8576b\"],[0.6666666666666666,\"#ed7953\"],[0.7777777777777778,\"#fb9f3a\"],[0.8888888888888888,\"#fdca26\"],[1.0,\"#f0f921\"]],\"type\":\"surface\"}],\"table\":[{\"cells\":{\"fill\":{\"color\":\"#EBF0F8\"},\"line\":{\"color\":\"white\"}},\"header\":{\"fill\":{\"color\":\"#C8D4E3\"},\"line\":{\"color\":\"white\"}},\"type\":\"table\"}]},\"layout\":{\"annotationdefaults\":{\"arrowcolor\":\"#2a3f5f\",\"arrowhead\":0,\"arrowwidth\":1},\"autotypenumbers\":\"strict\",\"coloraxis\":{\"colorbar\":{\"outlinewidth\":0,\"ticks\":\"\"}},\"colorscale\":{\"diverging\":[[0,\"#8e0152\"],[0.1,\"#c51b7d\"],[0.2,\"#de77ae\"],[0.3,\"#f1b6da\"],[0.4,\"#fde0ef\"],[0.5,\"#f7f7f7\"],[0.6,\"#e6f5d0\"],[0.7,\"#b8e186\"],[0.8,\"#7fbc41\"],[0.9,\"#4d9221\"],[1,\"#276419\"]],\"sequential\":[[0.0,\"#0d0887\"],[0.1111111111111111,\"#46039f\"],[0.2222222222222222,\"#7201a8\"],[0.3333333333333333,\"#9c179e\"],[0.4444444444444444,\"#bd3786\"],[0.5555555555555556,\"#d8576b\"],[0.6666666666666666,\"#ed7953\"],[0.7777777777777778,\"#fb9f3a\"],[0.8888888888888888,\"#fdca26\"],[1.0,\"#f0f921\"]],\"sequentialminus\":[[0.0,\"#0d0887\"],[0.1111111111111111,\"#46039f\"],[0.2222222222222222,\"#7201a8\"],[0.3333333333333333,\"#9c179e\"],[0.4444444444444444,\"#bd3786\"],[0.5555555555555556,\"#d8576b\"],[0.6666666666666666,\"#ed7953\"],[0.7777777777777778,\"#fb9f3a\"],[0.8888888888888888,\"#fdca26\"],[1.0,\"#f0f921\"]]},\"colorway\":[\"#636efa\",\"#EF553B\",\"#00cc96\",\"#ab63fa\",\"#FFA15A\",\"#19d3f3\",\"#FF6692\",\"#B6E880\",\"#FF97FF\",\"#FECB52\"],\"font\":{\"color\":\"#2a3f5f\"},\"geo\":{\"bgcolor\":\"white\",\"lakecolor\":\"white\",\"landcolor\":\"#E5ECF6\",\"showlakes\":true,\"showland\":true,\"subunitcolor\":\"white\"},\"hoverlabel\":{\"align\":\"left\"},\"hovermode\":\"closest\",\"mapbox\":{\"style\":\"light\"},\"paper_bgcolor\":\"white\",\"plot_bgcolor\":\"#E5ECF6\",\"polar\":{\"angularaxis\":{\"gridcolor\":\"white\",\"linecolor\":\"white\",\"ticks\":\"\"},\"bgcolor\":\"#E5ECF6\",\"radialaxis\":{\"gridcolor\":\"white\",\"linecolor\":\"white\",\"ticks\":\"\"}},\"scene\":{\"xaxis\":{\"backgroundcolor\":\"#E5ECF6\",\"gridcolor\":\"white\",\"gridwidth\":2,\"linecolor\":\"white\",\"showbackground\":true,\"ticks\":\"\",\"zerolinecolor\":\"white\"},\"yaxis\":{\"backgroundcolor\":\"#E5ECF6\",\"gridcolor\":\"white\",\"gridwidth\":2,\"linecolor\":\"white\",\"showbackground\":true,\"ticks\":\"\",\"zerolinecolor\":\"white\"},\"zaxis\":{\"backgroundcolor\":\"#E5ECF6\",\"gridcolor\":\"white\",\"gridwidth\":2,\"linecolor\":\"white\",\"showbackground\":true,\"ticks\":\"\",\"zerolinecolor\":\"white\"}},\"shapedefaults\":{\"line\":{\"color\":\"#2a3f5f\"}},\"ternary\":{\"aaxis\":{\"gridcolor\":\"white\",\"linecolor\":\"white\",\"ticks\":\"\"},\"baxis\":{\"gridcolor\":\"white\",\"linecolor\":\"white\",\"ticks\":\"\"},\"bgcolor\":\"#E5ECF6\",\"caxis\":{\"gridcolor\":\"white\",\"linecolor\":\"white\",\"ticks\":\"\"}},\"title\":{\"x\":0.05},\"xaxis\":{\"automargin\":true,\"gridcolor\":\"white\",\"linecolor\":\"white\",\"ticks\":\"\",\"title\":{\"standoff\":15},\"zerolinecolor\":\"white\",\"zerolinewidth\":2},\"yaxis\":{\"automargin\":true,\"gridcolor\":\"white\",\"linecolor\":\"white\",\"ticks\":\"\",\"title\":{\"standoff\":15},\"zerolinecolor\":\"white\",\"zerolinewidth\":2}}}},                        {\"responsive\": true}                    ).then(function(){\n",
       "                            \n",
       "var gd = document.getElementById('d284035a-7574-42d7-bb65-c625b7a1f11e');\n",
       "var x = new MutationObserver(function (mutations, observer) {{\n",
       "        var display = window.getComputedStyle(gd).display;\n",
       "        if (!display || display === 'none') {{\n",
       "            console.log([gd, 'removed!']);\n",
       "            Plotly.purge(gd);\n",
       "            observer.disconnect();\n",
       "        }}\n",
       "}});\n",
       "\n",
       "// Listen for the removal of the full notebook cells\n",
       "var notebookContainer = gd.closest('#notebook-container');\n",
       "if (notebookContainer) {{\n",
       "    x.observe(notebookContainer, {childList: true});\n",
       "}}\n",
       "\n",
       "// Listen for the clearing of the current output cell\n",
       "var outputEl = gd.closest('.output');\n",
       "if (outputEl) {{\n",
       "    x.observe(outputEl, {childList: true});\n",
       "}}\n",
       "\n",
       "                        })                };                });            </script>        </div>"
      ]
     },
     "metadata": {},
     "output_type": "display_data"
    }
   ],
   "source": [
    "fig = px.choropleth(filtered_accepted.groupby('state').count().reset_index(),\n",
    "                    locations='state', \n",
    "                    locationmode=\"USA-states\", \n",
    "                    scope=\"usa\",\n",
    "                    color='title',\n",
    "                    color_continuous_scale=\"PuBu\")\n",
    "fig.show()"
   ]
  },
  {
   "cell_type": "code",
   "execution_count": 307,
   "metadata": {},
   "outputs": [],
   "source": [
    "clustering_location_df = filtered_accepted[['rural_prop', 'total_pop']]\n",
    "location_scaler = StandardScaler()\n",
    "clustering_location_df = location_scaler.fit_transform(clustering_location_df)\n",
    "\n",
    "kmeans_location = KMeans(n_clusters=5)\n",
    "kmeans_location.fit(clustering_location_df)\n",
    "filtered_accepted['location_cluster'] = kmeans_location.predict(clustering_location_df)"
   ]
  },
  {
   "cell_type": "code",
   "execution_count": 355,
   "metadata": {},
   "outputs": [
    {
     "data": {
      "image/png": "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\n",
      "text/plain": [
       "<Figure size 842.4x595.44 with 1 Axes>"
      ]
     },
     "metadata": {},
     "output_type": "display_data"
    }
   ],
   "source": [
    "Sum_of_squared_distances = []\n",
    "K = range(1,10)\n",
    "for num_clusters in K :\n",
    "    kmeans = KMeans(n_clusters=num_clusters)\n",
    "    kmeans.fit(clustering_location_df)\n",
    "    Sum_of_squared_distances.append(kmeans.inertia_)\n",
    "plt.plot(K,Sum_of_squared_distances, 'bx-')\n",
    "plt.xlabel('Number of Clusters') \n",
    "plt.ylabel('Sum of squared distances/Inertia') \n",
    "plt.title('Elbow Method to Determine Optimal Clusters K')\n",
    "plt.show()"
   ]
  },
  {
   "cell_type": "code",
   "execution_count": 311,
   "metadata": {},
   "outputs": [
    {
     "data": {
      "text/plain": [
       "array([[2.78331279e-01, 3.50198899e+06],\n",
       "       [1.36644025e-01, 9.03205081e+06],\n",
       "       [1.11824976e-01, 2.88068703e+06],\n",
       "       [6.32593477e-02, 1.36800810e+07],\n",
       "       [4.60975740e-01, 1.26340614e+06]])"
      ]
     },
     "execution_count": 311,
     "metadata": {},
     "output_type": "execute_result"
    }
   ],
   "source": [
    "location_scaler.inverse_transform(kmeans_location.cluster_centers_)"
   ]
  },
  {
   "cell_type": "code",
   "execution_count": 313,
   "metadata": {},
   "outputs": [
    {
     "data": {
      "text/plain": [
       "<matplotlib.axes._subplots.AxesSubplot at 0x7fafcb26b9d0>"
      ]
     },
     "execution_count": 313,
     "metadata": {},
     "output_type": "execute_result"
    },
    {
     "data": {
      "image/png": "iVBORw0KGgoAAAANSUhEUgAAAr8AAAHxCAYAAABko9RvAAAABHNCSVQICAgIfAhkiAAAAAlwSFlzAAALEgAACxIB0t1+/AAAADh0RVh0U29mdHdhcmUAbWF0cGxvdGxpYiB2ZXJzaW9uMy4yLjIsIGh0dHA6Ly9tYXRwbG90bGliLm9yZy+WH4yJAAAgAElEQVR4nO3de2BT9f3/8Vd64VpoKbbiJhRw4JxTpm5OXBHQCY7SH4iTgRVkOgVloG7OQcUv4iZF5sYUQYdDrlVhgNwEpmOC1IrMywScIl7aiiCUQgvl0jZNfn9gUkppm6Q5OUk+z8c/cnLySd5p337yyqcn5zjcbrdbAAAAgAFi7C4AAAAACBXCLwAAAIxB+AUAAIAxCL8AAAAwBuEXAAAAxiD8AgAAwBiEXwAAABgjzu4C/HX48DG5XJyaGAAAAHXFxDjUrl3revdHXPh1udyEXwAAAASEwx4AAABgDMIvAAAAjBFxhz0AQCSprnbq8OFiOZ2Vdpfit7i4ZmrXLkWxsbxVAIgezGgAYKHDh4vVokUrtW7dQQ6Hw+5yfOZ2u3Xs2BEdPlysc845z+5yACBoOOwBACzkdFaqdeu2ERV8JcnhcKh167YRuWINAA0h/AKAxSIt+HpEat0A0BDCLwAAAIxB+AWAKFNaWqr09B/aXQYAhCXCLwAAAIzB2R4AIAwsWjRfr7yySq1atVKPHpdry5ZNuuyyK3TkSJm++uorXX11ugYOHKS//OVxHT9+XCUlB9WtW3dNmZKj5s2ba/Pmf2vOnNlq3ryFLrroe7Uee+3alVqxYpncbpfatk3Sb37zoNLSOtvzQgHAZoRfALDZ22+/pfXr1+i55xYqISFB06b9wbvv5MkKLV68VJI0a9aT+tnPBqp//wFyOp26445b9dZbebr00h8oJ+dRPfPM8+rSpasWLZrnHf/+++9q/fpXNHv239WiRQtt27ZV2dkPKDd3WchfJwCEA8IvANjsrbfeVN++P1WbNm0kSUOGDNW77/5HknTppT2897v77nH6z3/eVm7uAn35ZZEOHizWiRMntH37f9W163fUpUtXSdKgQUP0t7/N+uax87Rnz5caM+Z27+McPXpUR46UqW3bxFC9RAAIG4RfALBZbGys3G63dzsmpubrGC1btvL++5FHHlJ1tVPXXnu9evZM1/79X3vHnT4+NjbW++/qapf69x+ge+4ZL0lyuVw6eLBYbdq0tez1AEA44wtvAGCzq69O1+bN/1Z5ebkk6ZVXVp31HLvbtr2lUaPu1HXX9ZMk/e9/O+VyVatHj8v1xRefa/fuTyRJ69at9Y758Y976l//+qcOHjwoSVq5crnuvfduq18SAIQtVn4BwGZXXPEjZWYO1pgxv1Tz5i3UpUtXNW/eos797rprrLKzf6eWLVuodesE/eAHl2vPnj1q166dJk/+ox59dJLi4+P1gx9c7h1z5ZVXKSvrNt1//z2KiYlRq1at9dhjf+ICFgCM5XCf/reyCFBSUi6XK6JKBmCwr78uVIcOaQ3e5+OP/6cdO7br5puHSZJeemmx/ve/D/XoozmhKLFBvtQPAOEkJsah9u0T6t3Pyi+CKi9vs7Zs2eTdLisrlSQlJiZ5b+vVq4/S03uHujSEWGO9QB/U6NixkxYvXqDVq1fI4XDo3HM76MEHH7K7rKBgToAHcwI8Tu8FO+YEwi8sVVpat6lhJnqhfq1bJ+iPf3zc7jJCgj6AB70AyZ4+4LAHWConZ4okaeLEyTZXAruZ2guRfthAsOs3tQ9QF70AyZo+aOywB8Ivmiw3d76KigrPuq+wsECS6r2aVKdOacrKGmVFWQix3Nz6+0AytxdMDL+5ucwJYE5AjdzcwOcEyf9e4JjfILH7+JRwVlRUqIJPP9N5bVPr7Gsdc+ob6xUHjtbZt+/IActrCzaOX6xfQ30gmdcLpvaBxJwgMSdIzAnMCTUCnRMka3qB8BsAjlOq67y2qbrr6uF+jZmT/6JF1YQOvVBbIH0g0QvRiDmBPpCYEyR6wSOceoHw66P09N7eT2wcp2Su0/tAohdM1pRemDptqg6VlgW9puSkRGVPyA7646J+zAnwoBciB+EXAELsUGmZqtr/JPiPW/KmT/c7dqxczz47S//977uKjY1TmzZt9Otf368LL/xu0GsCgHBD+AUAg7hcLj3wwL26/PIfat68FxQXF6f33ntHDzwwXosXL+VPtACiHuEXAAzy3nvvaP/+r3XHHaMVExMjSbr88h8qO/v/5HK5bK4OAKxH+AUAg3zyyS5169bdG3w9evZMt6kiAAitmMbvAgCIFjExDjVr1tzuMgDANoRfADDId7/7PX3yycc68/pGf/vbLL333js2VQUAoWNp+H3yySc1YMAAZWRkaN68eZKk/Px8ZWZmql+/fpoxY4aVTw8AOEOPHpepXbtkPf/8HFVXV0uS3n77La1bt1qdO3exuToAsJ5lx/xu27ZNW7du1erVq+V0OjVgwAD17NlT2dnZWrRokc477zyNHj1amzdvVu/eZl7xBICZkpMSfT4tmb+P2xiHw6Fp0/6imTP/rJEjf6G4uDglJibpT396UsnJ7YNeEwCEG8vC75VXXqmFCxcqLi5O+/fvV3V1tY4cOaK0tDR17NhRkpSZmakNGzYQfgEYxe4LUSQlJenhh/9gaw0AYBdLD3uIj4/XU089pYyMDPXs2VMHDhxQSkqKd39qaqr2799vZQkAAACAl+WnOhs/frzuvPNOjRkzRgUFBXI4HN59bre71rYv2rdPCHaJfouPj5UkpaS0sbmS8BAfH6uKJoyN5J8jvVCjKX3gGR/JP8f6euHAgRjFxUXud4tjYmL8/r0wJzAnSMwJ9EKNcOsFy8LvZ599psrKSl100UVq2bKl+vXrpw0bNig2NtZ7n+LiYqWmpvr1uCUl5XK53I3f0UJVVae+JFJcfNTWOsKF5+cR6NhI/jnSCzWa0gee8ZH8c6yvF1wul5zOyL14hMvl8vv3wpzAnCAxJ9ALNULdCzExjgYXSy1bjtizZ48mTZqkyspKVVZWauPGjRo2bJi++OILFRYWqrq6WmvXrtU111xjVQkAAABALZat/Pbu3Vvbt2/X4MGDFRsbq379+ikjI0PJyckaN26cKioq1Lt3b91www1WlQAAAADUYukxv+PGjdO4ceNq3dazZ0+tXr3ayqcFAAAAzsryL7wBAGqbMX2KyksPBf1xE5KSdf+Dkxu8z759ezV8+BB17ty11u2PP/4XnXtuh6DXBADhhvALACFWXnpIt3UL/lcuFuz2LVCfc06K5s9/IejPDwCRIHLPvwMAAAD4iZVfADDMwYPFGjXqFu92v3436JZbRtpYEQCEDuEXAAzDYQ8ATMZhDwAAADAG4RcAAADGIPwCAADAGBzzCwAhlpCU7PNpyfx93Macd963tGzZmqA/NwBECsIvAIRYYxeiAABYh/ALICjKykp1+EiJ5uS/6PfYfUcOqF3zaguqAgDYLdzeHzjmFwAAAMZg5RdNFugnOlb7oktiYpJaVMTqrquH+z12Tv6Lap7YxoKqYAfmBACnC7f3B1Z+AQAAYAxWfuuRmztfRUWFZ91XWFggScrJmVLv+E6d0pSVNSrodYWjQD/RRcpqX25u4L1gUh9Eu9zc+vtAqr8Xhgy5UW73XjVr1kzt259jXYFhhDmBOcEEubmBzQke9IJ9CL/1KCoqVMHuj9QhIb7OvtY69We5k/s+PevYr8urLK0NoRVoL9AH0aWhPpDq7wV3dZUqK07Uui3niUd1qCz4pzpLTkzWxAf+L+iPi9qYE3wTbl9yCrZA5wTJvF4IN4TfBnRIiNcdl/m/UjP3/YMWVAM7BdIL9EH0CaQPYprFyhHjqHXbobJD0o8Tglnaqcd92/dA/fnnn2rkyGH64x8fV58+1wW9lmjHnACJnBCpCL8AYKBXXlmtvn1/qlWrVhB+YYlw+5IT4MEX3gDAME6nU6++ukF33nm3PvnkY3311R67SwKAkCH8AoBh8vPz1KFDB3XqlKZevfpo1aoVdpcEACFD+AUAw6xbt1o//Wl/SdJ1112vdevWqKqKL+AAMAPH/AKAQQ4fPqStW/O1a9fH+sc/XpLb7dbRo0e0efO/vYEYAKIZ4RcADLJhwzpdccWV+vOfn/LeNnfu37Ry5XLCLwAjEH4BIMSSE5P9Oi2ZP4/bmPXr1+iuu8bWum3IkKF64YWFKiwsUFpa56DXBQDhhPALACFm54UoFi5cUue2du3aaePGN22oBgBCjy+8AQAAwBiEXwAAABiD8AsAAABjEH4BAABgDMIvAAAAjEH4BQAAgDE41RkAhNifp07R0cMlQX/cNu3a67fZkxu8z3vvvaPf//5+ffvbHeV2u+V0VmnQoJs0dOjwoNcDAOGI8AsAIXb0cIkyXMF/3Fd8DNQXXniRnn56jiTp+PFjuvXWofrRj36sLl26Br8oAAgzHPYAAAarqKhQTEyMEhIS7C4FAEKClV8AMMyuXR9p1Khb5Ha7tGfPl7r22ut1zjkpdpcFACHByi8AGObCCy/S/PkvaMGCl7R69T/15ZdFWrx4vt1lAUBIEH4BwGCtWyfo2muv144dH9hdCgCEBIc9oI68vM3asmWTd7usrFSSlJiY5L2tV68+Sk/vHerSEGKN9QJ9EPmqq6v1/vvvqnv37zZ4v9N7gTnBXMwJ8IjkOYHwi0aVltZtapiJXogOnmN+HQ7J6XTqO9/prqys23weTx/Ag16AFHl9QPhFHenpvWt9WsvJmSJJmjix4fOHIvrQC9Zo0669z6cl8/dxG3P55T/Ua69t8fuxT+8F+sBczAnwiOQ5gfALACHW2IUoAADW4QtvAAAAMAbhFwAAAMYg/AIAAMAYhF8AAAAYgy+8ISj2HTmgOfkv1rn9aMUxSVKb5q3POqZzahvLa0Po1NcHEr1gGuYESMwJqBHInOAZF+xeIPyiyTp1Sqt339eFp07ndE5qhzr7Oqe2aXAsIktjv0t6ocb0x3NUergs6I+b1C5RD/5+YtAf11/MCZCYE1Aj0DlBsqYXCL9osqysUfXui7Rz/yFwDfWBRC+crvRwmbp06Bv0x/3i69cbvc++fXs1fPgQde7cVZJUUXFSl1zSQ2PG/FrJyY2fJ9gXzAmQmBNQI9zmBI75BQDDnHNOiubPf0Hz57+gF15YruTk9po06fd2lwUAIUH4BQCDORwO3XHHaH3++Wf69NPddpcDAJYj/AKA4eLj49WxY0cVFhbYXQoAWI7wCwCQ5FDz5s3tLgIALEf4BQDDVVVV6csvC9WlS1e7SwEAyxF+AcBgLpdLc+f+Td/73iX69rfPt7scALAcpzoDgBBLapfo02nJAnlcXxw8WKxRo26RJLlc1erW7UI98shjQa8HAMIR4RcAQszOC1Gcd963tGnTVtueHwDsxmEPAAAAMAbhFwAAAMYg/AIAAMAYhF8AAAAYg/ALAAAAY3C2BwRVXt5mbdmyybvtuVxqTs4U7229evVRenrvEFeGUGusF+gDMzAnwIM5AR6n94IdcwLhF5ZKSkqyuwSECXqhxvTHp6js8KGgP25iu2Q9+PvJDd5n3769Gj58iDp3rn01t8zMwbrppqFBr+lM9AE86AVI9vQB4RdBlZ7em0/ukEQvNKTs8CF9NzU+6I/78QHfAvU556Ro/vwXgv78Z0MfwINegIfdvcAxvwAAADAGK78AYJjTL2/s8fDDj+qCC75jU0UAEDqEXwAwTCgPewCAcMNhDwAAADAG4RcAAADG4LAHADDM2Y75/cEPLtN99/3OpooAIHQIvwAQYontkn0+LZm/j9uY8877ljZt2hr05waASGFp+H366ae1fv16SVLv3r314IMPauLEiXr33XfVsmVLSdKvf/1rXX/99VaWAQBhpbELUQAArGNZ+M3Pz1deXp5efvllORwO/epXv9Jrr72mnTt3avHixUpNTbXqqYGgKisr1aHyKs19/6Bf4/aVVym5rNSiqgAAQCAs+8JbSkqKJkyYoGbNmik+Pl4XXHCB9u7dq7179yo7O1uZmZl66qmn5HK5rCoBAAAAqMWyld9u3bp5/11QUKD169crNzdX27Zt0+TJk9WmTRuNHj1ay5Yt09Ch1l9P3l+BrvZJrPhFm8TEJDU/flB3XHaOX+Pmvn9QLRK5dn20CHROGP7jarWIcyuuutqiyhBq/DUIEjkhkln+hbfdu3dr9OjRevDBB9W1a1fNmjXLu2/EiBFauXKlX+G3ffsEK8qsIza2aYvisbExSklpE6Rq7BUfHytJUfN6/BUfH6uTTRgbTT83k3uhqXOCwyHFxUXe2SVjYurOZSb3gdS0Xoim9wbJ7F4gJ9SItD6wNPy+++67Gj9+vLKzs5WRkaFdu3apoKBA/fv3lyS53W7FxflXQklJuVwutxXl1pKQ0FZxCQf8Xu2TvlnxS2ir4uKjFlQWelVVp1asouX1+Mvz+gMdG00/N5N7IdA5IaZZrBwxDsXExMrpjLzDvFwuV53ft8l9IAXeC9H23iCZ3QvkhBrh1gcxMY4GF0stC7/79u3T2LFjNWPGDPXs2VPSqbA7depUXXXVVWrVqpWWLFmiG2+80aoSACAs/fVP03S07EjQH7dNYlvd97sJQX9cAIgmloXfuXPnqqKiQtOmTfPeNmzYMN11110aPny4nE6n+vXrp4EDB1pVAgCEpaNlR3RHj5uC/rhzP1ju0/2cTqdycxfo1VfXy+FwqLq6Wj/72UCNGPFLORyOoNcFAOHEsvA7adIkTZo06az7srKyrHpaAEAj/vznx3X4cImefXae2rRpo2PHypWd/Tu1bp2gm24Kvy8gA0AwcYU3ADDIgQP79eqr6/Tyy+vVps2pL6e0bp2g3/zm9/rii89srg4ArEf4BQCDfPTRh+rcuavatm1b6/a0tM5KS+tsT1EAEEKEXwBeubnzVVRUWO/+wsICSVJOzpSz7u/UKU1ZWaOCXheC6/Tjel9//V9asOB5uVzVatasuf7+94U2VgYA1iP8AvAqKirUp598pISWzc663/HNhRq+/rLun8fLT1RaWhuC48ILv6eCgs917Fi5WrdOUN++P1Xfvj/Vvn17NW7caLvLAwDLEX4hqeEVP1b7zJLQspl++J1Uv8e98+kBC6pBsHXo0EH9+w/QH//4iLKzT11t0+l0Kj9/i2Jiak7aX1JyUJWVlTpypEzz5tX+f7+xOUFiXogWubn8NQin5OYGnhOk8OoFwi8kNbzix2ofEFxtEtv6fFoyfx/XF7/97QS99FKuxo8fLZfLpePHj+uyy67QE0885b1PZWWlKk6eULWzqs7/+w3NCRLzQjThr0HwCDQnSOHXC4RfeAWy4sdqH+A/uy9EERMTo1tuGaFbbhnR6P2axccyLxiOvwbBI1p6IfIuNA8AAAAEiPALAAAAYxB+AcBKbrfccttdRYDckjtSaweAs+OYX8AHX5dXae77B+vcXl556iD/hGaxZx3T2erCEFL19YFUfy8M6XFcSfFtVLdDIoOzKry+qBIumBOAyEX4BRrRqVNavfv2f3N6l3PO61xnX+dGxiKyNPa7rK8XPi/8Uj2SzlF8fLxFlVnD7XarouK49n7xkd2lhB3mBCCyEX6BRjR0XkLPOQ0nTpwcompgl8bOT1lfL7jdbh0+XKzKyhP6+uv6z5cabo4cKVXhF5+p+NP/2V1K2GFOACIb4RcALORwOJSc7P+pgew2b958ff3lZwGd1ggAwhnhtwGBHNPlGdfZysIAAAAQEMJvPQI9pkviuC4AAIBwRfitB8d0AQAARB/O8wsAAABjsPILAAAQgEDO/e0Z19nKwtAgwi8AAICfAj33t8R3g+xG+AUAAPBToOf+hv045hcAAADGIPwCAADAGIRfAAAAGIPwCwAAAGMQfgEAAGAMwi8AAACMQfgFAACAMQi/AAAAMAbhFwAAAMYg/AIAAMAYhF8AAAAYg/ALAAAAY8TZXQBC47bbfuH994IFS2ysBHajFyDRB6hBL0Ayqw9Y+QUAAIAxCL8GOP3T3Nm2YQ56ARJ9gBr0AiTz+oDwCwAAAGMQfgEAAGAMwi8AAACMQfgFAACAMQi/BjjzlCXRfgoT1I9egEQfoAa9AMm8PuA8vz7Ky9usLVs2SZIKCwskSTk5U7z7e/Xqo/T03jZUhlA6vQ8kesFkjfUCfWAG5gR4MCdEDsJvAJKSkuwuwW/R/inOLtHWC2VlpTp6olLvfHrA78c9eqJSLctKm1JaRIu0XmBOsEak9YFEL1gl0nrBpD4g/PooPb03n9hAH8CLXoBEH6AGvRA5CL9R7PQ/wZR9syKXmFjzSZQ/wZjhzD/FndkLp/dBYmKSThwp0Q+/k+r387zz6YFa/YXww5wAqfE5QaIXTGHqnED4NURpad2mhpnoBUj0AWrQC5DM6gPCbxQ7/U8wngPuJ06cbGdJsMGZf4qjF8zFnACJOQE1TJ0TCL8AgDr48iOAaMV5fgEAAGAMVn4BAHXw5UcA0YrwC0mB/4mTP28CQPTi8BdEIw57AAAAgDFY+YWkwP/EyZ83ASB6cfgLohErvwAAADAGK78AAABoUDQd/83KLwAAAIzByi8AAAAaFE3Hf7PyCwAAAGMQfgEAAGAMwi8AAACMQfgFAACAMQi/AAAAMAbhFwAAAMYg/AIAAMAYhF8AAAAYg/ALAAAAYxB+AQAAYAzCLwAAAIxB+AUAAIAxCL8AAAAwBuEXAAAAxrA0/D799NPKyMhQRkaGpk+fLknKz89XZmam+vXrpxkzZlj59AAAAEAtloXf/Px85eXl6eWXX9bKlSv14Ycfau3atcrOztbs2bO1bt067dy5U5s3b7aqBAAAAKAWy8JvSkqKJkyYoGbNmik+Pl4XXHCBCgoKlJaWpo4dOyouLk6ZmZnasGGDVSUAAAAAtcRZ9cDdunXz/rugoEDr16/XrbfeqpSUFO/tqamp2r9/v1+P2759QtBqNEl8fKwkKSWlTYP7A33s+h4X4aehXmhKH3jG0wuRwco5wTOeXogMzAmQzJoTLAu/Hrt379bo0aP14IMPKjY2VgUFBd59brdbDofDr8crKSmXy+UOcpXRr6qqWpJUXHy0wf2BPnZ9j4vw01AvNKUPPOPphchg5ZzgGU8vRAbmBEjRNSfExDgaXCy19Atv7777rkaNGqXf/va3uvHGG9WhQwcVFxd79xcXFys1NdXKEgAAAAAvy8Lvvn37NHbsWD3xxBPKyMiQJPXo0UNffPGFCgsLVV1drbVr1+qaa66xqgQAAACgFssOe5g7d64qKio0bdo0723Dhg3TtGnTNG7cOFVUVKh379664YYbrCoBAAAAqMWy8Dtp0iRNmjTprPtWr15t1dMCAAAA9eIKbwAAADCG5Wd7QOQoP1Gpdz49UOf2ym++4dnsLKc5KT9RaXldCK36+kCiF0wTyJzgGYfowZwAj2iZEwi/kCR16pRW777CwgJJUoeOnf0ei8jS2O+SXjBHU+aExsYjcjAnwCOa5gTCLyRJWVmj6t2XkzNFkjRx4uQQVQO7NNQHEr1gEuYESMwJqBFNcwLH/AIAAMAYhF8AAAAYw6/wu337dr300kuqrKzU+++/b1VNAAAAgCV8Dr8rVqzQxIkT9fe//11Hjx7VPffco6VLl1pZGwAAABBUPoffRYsWacmSJUpISFD79u21YsUKLViwwMraAAAAgKDy+WwPMTExSkhI8G6fd955io09+/ncYI/c3PkqKio86z7PaUg838g8U6dOaY1+qxeRITe3/j6Q6AWT5OYGPidI9EI0yc3l/QHMCR4+h9+kpCR99NFHcjgckk5dojgxMdGywuC/oqJC7d79qVq3TK6zz+2KlyTt3XOozr5jJ+rehsjVUB9I9IJJAp0TJHoh2vD+AIk5wcPn8Judna17771XRUVFSk9PV/PmzTV79mwra0MAWrdM1qXdBvg1ZvvudRZVA7sE0gcSvRCN6AV48P4AiTlB8iP8du3aVatWrVJBQYGqq6vVpUsXHT9+3MraAAAAgKDy+QtvQ4YMUWxsrC644AJ1795d8fHxysrKsrI2AAAAIKgaXfm97bbbtGPHDp08eVKXX36593aXy6VLLrnE0uIAAACAYGo0/M6aNUulpaXKzs5WTk5OzcC4OKWkpFhaHAAAABBMjYbfhIQEJSQkaOHChbVud7vdKiwsVOfOna2qDQAAAAgqn7/w9tJLL2n69Ok6ceKE97bk5GS9+eablhQGAAAABJvP4XfOnDmaN2+ennnmGd133316/fXX9fXXX1tZGwAAABBUPp/tISkpST169NBFF12kkpIS3X333frPf/5jZW0AAABAUPkcfuPi4lRWVqa0tDRt375dklRdXW1ZYQAAAECw+Rx+hw4dqtGjR6tPnz5asmSJhgwZogsuuMDK2gAAAICg8vmY34suukjPP/+8WrVqpSVLlmjHjh1KT0+3sjbYJC9vs7Zs2eTdLiwskCTl5Ezx3tarVx+lp/cOcWUItcZ6gT4wx+m9wJxgLuYEeETynOBz+H3ggQe0fv16SdK5556rc88917KiEF6SkpLsLgFhgl6ARB+gBr0AKfL6wOfwe+GFF2rNmjW64oor1KpVK+/tkfaC0bj09N5h+2kNoUUvwINegEQfoEYk94LP4Xfjxo3asGFDrdscDoc++uijoBeFwJSVlerY8RJt373Or3HHjpeorMznw78R5gLtA4leiDb0Ajx4f4DEnODhc/jdsWNHvfvWrl2rgQMHBqUgAAAAwCo+h9+GzJ07l/AbBhITk3TsqEuXdhvg17jtu9cpMZHDV6JFoH0g0QvRhl6AB+8PkJgTPIKyfu12u4PxMAAAAIClghJ+HQ5HMB4GAAAAsFR0HLkMAAAA+IDwCwAAAGNwzC8AAACM4XP4/de//lXntpUrV0qSMjMzg1cRAAAAYJFGT3X273//W06nU9OnT5fL5fLe7nQ6NXPmTA0ePFh33HGHpUUCAAAAwdBo+P3oo4+0detWlZSUaNGiRTUD4+I0atQoK2sDAAAAgqrR8Dt27FiNHTtWubm5ysrKCkVNAAAAgCV8vsLbjTfeqJdfflllZWW1vuD2y1/+0pLCAAAAgGDzOfxOmDBBe/bsUTMwZKMAAB/LSURBVPfu3bmoBQAAACKSz+H3448/1rp16xQX5/MQAAAAIKz4fKqzDh06WFkHAAAAYDmfl3G7d++ukSNHqlevXmrRooX3do75DS/HThzS9t3r6txeWXVCktQsvuVZx0jJVpeGEKqvDyR6wTSBzAmecfRCdOH9ARJzguRH+D127JjS0tJUVFRkZT2WysvbrC1bNkmSyspKJUmJiUne/b169VF6em87SguKTp3S6t1XWFggSfrW+d8+y97kBsdGm9P7QIq+Xmjsd0kv1GisFyK5D6SmzAmSyb0QbXOCxPuDr5gTzJgTGg2/9957r5588knt3LkzFPWETGlp3ckt0mVljap3X07OFEnSxImTQ1RN5Ii2XmioDyR6oSEm9QJ9UL9o6wOJXghUtPUCfXBKo+H3zjvvlCQ9/PDDlhdjtfT03t5PbCb9klHb6X0g0QsmoxfgwfsDJOYEUzQafr///e9Lkq688krLiwEAAACs5PPZHgAAAIBIR/gFAACAMQi/AAAAMAbhFwAAAMYg/AIAAMAYhF8AAAAYg/ALAAAAYxB+AQAAYAzCLwAAAIxB+AUAAIAxCL8AAAAwBuEXAAAAxiD8AgAAwBiEXwAAABiD8AsAAABjEH4BAABgDMIvAAAAjEH4BQAAgDEIvwAAADAG4RcAAADGiLO7AFgnL2+ztmzZJEkqLCyQJOXkTPHu79Wrj9LTe9tQGQDALqe/N0i8P5jM1JxA+DVEUlKS3SUAAMIQ7w+QzOoDwm8US0/vHZWf2AAAgeO9AR6m9gLH/AIAAMAYlobf8vJyDRw4UHv27JEkTZw4Uf369dOgQYM0aNAgvfbaa1Y+PQAAAFCLZYc9fPDBB5o0aZIKCgq8t+3cuVOLFy9WamqqVU8LAAAA1Muyld+lS5dq8uTJ3qB74sQJ7d27V9nZ2crMzNRTTz0ll8tl1dMDAAAAdVi28vvYY4/V2j548KCuuuoqTZ48WW3atNHo0aO1bNkyDR061KoSlJs7X0VFhWfdd7ZTepypU6c0ZWWNCnpdCL3c3MB7gT6IHrm59feBRC+YJDeXOQHMCaYK2dkeOnbsqFmzZnm3R4wYoZUrV/odftu3T/D5vvv27dHHn+xWbIt2dfa5qmMlSbuLDp51bPXJw4qPj1VKShu/6kN4CrQXorEP4uNPvd5oek2+aqgPJLN6weQ+kJgTcApzgplCFn537dqlgoIC9e/fX5LkdrsVF+f/05eUlMvlcvt036qqasW2aKc2Xa/3+3mOfv6aqqqqVVx81O+xCD+B9kI09kFVVbUkRdVr8hVzQg2T+0BiTsApzAnRKSbG0eBiacjCr9vt1tSpU3XVVVepVatWWrJkiW688cZQPT1grMau5hStV/BBXaZezQkAThey8Pvd735Xd911l4YPHy6n06l+/fpp4MCBoXp6AN8w6So+qB99AMBUlofff//7395/Z2VlKSsry+qnBHAaU6/gg7roBQDgCm8AAAAwCOEXAAAAxiD8AgAAwBiEXwAAABiD8AsAAABjEH4BAABgDMIvAAAAjEH4BQAAgDEIvwAAADAG4RcAAADGsPzyxnYqKytV9cnDOvr5a36PrT55WGVlUf3jMUqgvUAfRBfmBHgwJ0BiTjAVK78AAAAwRlR/ZElMTNKBMqfadL3e77FHP39NiYlJFlQFOwTaC/RBdGFOgAdzAiTmBFOx8gsAAABjEH4BAABgDMIvAAAAjEH4BQAAgDGi+gtv0SAvb7O2bNkk6dQpWSTVOsC+V68+Sk/vbUdpCKHT+0Cq2wv0gTmYEyA1PidI9IIpeH/wH+E3gpSW1p3cYCZ6ARJ9gBr0AjzohcYRfsNcenpv7ye2nJwpkqSJEyfbWRJscHofSPSCyZgTIDEnoAa94D+O+QUAAIAxCL8AAAAwBuEXAAAAxiD8AgAAwBiEXwAAABiD8AsAAABjRP2pzqpPHtbRz1+rc7vLeUKSFBPXst5x0jlWloYQC6QX6IPoU18fSPSCaZgTIDEnmCiqw2+nTmn17issLJAkpXWqr3HPaXA8IkvgvUAfRJPGfpf0gjmYEyAxJ5gqqsNvVtaoevdxEmiz0AuQGu4DiV4wCXMCJOYEU3HMLwAAAIxB+AUAAIAxCL8AAAAwBuEXAAAAxiD8AgAAwBiEXwAAABiD8AsAAABjEH4BAABgDMIvAAAAjEH4BQAAgDEIvwAAADAG4RcAAADGIPwCAADAGHF2FxBKeXmbtWXLJklSYWGBJCknZ4p3f69efZSe3tuGyhBKp/eBRC+YrLFeoA/MwfsDJOYEUxgVfk+XlJRkdwkIE/QCPOgFSPQBatAL0cmo8Jue3ptPbKAP4EUvwINegEQfmIJjfgEAAGAMwi8AAACMQfgFAACAMQi/AAAAMAbhFwAAAMZwuN1ut91F+KOkpFwuV0SV7Jfc3PkqKio86z7P+QbT0jrXO75TpzRlZY0KdlkIsdzc+vtAarwX6IPokZvLnIBTcnMD7wX6IHrk5vL+0JiYGIfat0+od79RpzqLBEVFhfp810c6J7bur6a5yyVJOvLp7rOOPVjttLQ2hE5DfSA13Av0QXRhToBHoL1AH0QX3h+ajvAbhs6JjdOQpGS/x60oPWRBNbALfQAPegEegfQCfRB9mBOahmN+AQAAYAzCLwAAAIxB+AUAAIAxCL8AAAAwBuEXAAAAxiD8AgAAwBiEXwAAABiD8AsAAABjEH4BAABgDMIvAAAAjMHljYEwVFZWqhKnM6BLUR50OuUuK7WgKgCA3Xh/aDrCb5ihqQEAAKxD+AXCUGJikhzFxRqSlOz32BWlh9Q2McmCqmAHPhDDI9BeoA+iC+8PTUf4DTM0NQAAgHUIvwAQxvhADI9Ae4E+AGrjbA8AAAAwBuEXAAAAxiD8AgAAwBiWht/y8nINHDhQe/bskSTl5+crMzNT/fr104wZM6x8agAAAKAOy8LvBx98oOHDh6ugoECSdPLkSWVnZ2v27Nlat26ddu7cqc2bN1v19AAAAEAdloXfpUuXavLkyUpNTZUkbd++XWlpaerYsaPi4uKUmZmpDRs2WPX0AAAAQB2Wnersscceq7V94MABpaSkeLdTU1O1f/9+vx+3ffuEJtcWzuLjY5s8PiWlTZCqgV3oA3jQC/BoSi/QB9GDOaHpQnaeX5fLJYfD4d12u921tn1VUlIul8sdzNLCSlVVdZPHFxcfDVI1sAt9AA96AR5N6QX6IHowJzQuJsbR4GJpyM720KFDBxUXF3u3i4uLvYdEAAAAAKEQspXfHj166IsvvlBhYaHOP/98rV27VjfddFOonj6iHKw++7Xbj7tckqRWMWf/zHKw2qm2llaGUKqvD6SGe4E+iD7MCfAIpBfog+jD+0PThCz8Nm/eXNOmTdO4ceNUUVGh3r1764YbbgjV00eMTp3S6t13uLBAktQhrfNZ97dtZDwiR2O/x4Z6gT6ILswJ8Ai0F+iD6ML7Q9M53G53RB1AG+3H/DYkJ2eKJGnixMk2VwK70QuQ6APUoBfgQS+E0TG/AAAAgN0IvwAAADAG4RcAAADGIPwCAADAGIRfAAAAGIPwCwAAAGMQfgEAAGAMwi8AAACMQfgFAACAMQi/AAAAMAbhFwAAAMaIs7sAE+TlbdaWLZskSWVlpZKkxMQk7/5evfooPb23HaUhhE7vA4leMBlzAiTmBNRorBfog+Ai/IZYaWndyQ1mohcg0QeoQS/Ag16wFuE3BNLTe3s/seXkTJEkTZw42c6SYIPT+0CiF0zGnACJOQE16IXQ4phfAAAAGIPwCwAAAGMQfgEAAGAMwi8AAACMQfgFAACAMQi/AGCg0tLDmjr1Ee8plQDAFIRfADDQqlXL9cknH2vVquV2lwIAIUX4BQDDlJYe1pYtm+R2u7VlyyZWfwEYhYtchLnTL3lYWFggqebk1xKXPDTFmZe+PLMX6ANzBGNOWLVqudxutyTJ7XZp1arluu22OyypF9ZobE6QmBdMwfuD/1j5jSBJSUlKSuJSh6AXcEqgfZCfnyen0ylJcjqdys/fEuzSEGLMCfCgFxrHym+YO/OShzATfQCPYPTC1Ven6403XpfT6VRcXJyuvrpXkKpDqDAnwINe8B8rvwBgmEGDbpLD4ZAkORwxGjToJpsrAoDQIfwCgGGSktqpV68+cjgc6tWrD38iBWAUh9vzrYcIUVJSLpcrvEvOzZ2voqLCs+7zHIielta53vGdOqUpK2tUsMuCDXJzA+8F+iB65OaG35xQWnpYs2c/qXvuuY/wG0K5ucwJaLgPJHqhqWJiHGrfPqHe/Rzza4GiokLt+uxjxSU1r7PPFXfqSyaflXxx1rHO0gpLa0NoBdoL9EF0Ccc5ISmpnbKzH7HksVE/5gRIDfeBRC9YjfBrkbik5mrX53y/xx3etMeCamCnQHqBPog+zAnwYE6AxJxgJ475BQAAgDEIvwAAADAG4RcAAADGIPwCAADAGIRfAAAAGIPwCwAAAGMQfgEAAGAMwi8AAACMwUUuLFBWVipnaUVAJ6J2llaoLK7Ugqpgh0B7gT6ILswJ8GBOgMScYDdWfgEAAGAMVn4tkJiYpIPOwwFftjAxMcmCqmCHQHuBPoguzAnwYE6AxJxgN1Z+AQAAYAzCLwAAAIxB+AUAAIAxCL8AAAAwBuEXAAAAxiD8AgAAwBiEXwAAABiD8AsAAABjEH4BAABgDMIvAAAAjMHljQGLOUsrdHjTnjq3u046JUkxLer+b+gsrZDaW14aAMAm9b03SLw/WI3wC1ioU6e0evcVFhZIktLad667s33DYwEAkaux+Z33B2sRfi0SyGqfZxyf6KJHVtaoevfl5EyRJE2cODlE1cBOzAnw4K9BaOi9QeL9wWrGht/bbvuF998LFizxa+zChfO0ceMGXX99hm69dWSd/QGv9kkNfqJrSs1NGXv33bfr+PFjat26jWbP/rtfYwsLC5ST84iys6eE7SfVpvxsNm58VQsXztWoUXepb9/rgl1avcaMGaUTJ06oZcvWevbZ5/0ae+edI1RZWalmzZrruecW+jX2ueeeUV7eJl1zzXW64467/Bq7deubeuaZp3TPPffrxz++yq+xoWLVvGD9nODQggUv+VVvU15rdvZv9dVXe3T++Z302GN/8mtsJLj//nt06FCJ2rdP0V/+8rRfY3fu3K4nnpiq3/1uki6++Pt19lv116CHH/69iooK1LlzV02ZkuNXzU0Z29jrbUhp6WHNnv2k7rnnPiUlJfk1NlTuumukKioq1Lx5C82Zs8Ducnwya9ZftW3bW7rqqnTdffc4n8dNn/6YPvxwuy655Ad64IGJfj3nmjUrtWzZixo69FZlZGT6NdaOPjA2/DbFxo0bJEmvvfbKWcNvtK32HT9+TJJ07NhRv8c+++xMnThxQs8++5SmTv1zsEuz3cKFp4LnggXPhTT8njhx4pv/HvN7bGVl5Tf/rfB7bF7eJknSG29s9Dv8zpkz+5v/zgzb8NsUDc0L1s8J7iaM9d9XX51atdyzpyikzxsqhw6VSJJKSor9Hjtr1l/ldrs1a9ZfNHt23Q+mVvVCUVGBJKmg4POQjm3s9TZk1arl+uSTj7Vq1XLddtsdfj93KFRUVHzz35M2V+K7bdvekiRt3ZrnV/j98MPtkqQdO/7r93MuW/aiJGnp0sV+h187+sDIsz2cvuJxtu2GLFw4r9b24sX+rZwFqik1N2Xs3XffXmv7nnt+5fPYwsIC7d176k3yq6/2qKio0OexodKUn83Gja/KEzrcbrdef31jMEur15gxo87Yvv3sdzyLO+8cccZ23Q9v9XnuuWdqbc+dO8fnsVu3vqnq6lN/0nU6nXr77a0+jw2VSJsX6tY7rAljfX+t2dm/rbX90EO/83lsJLj//ntqbf/mN7/2eezOndtPWyw4pg8/3BnU2urz8MO/r7U9ebLvq3ZNGduU11taelhbtmyS2+3Wli2bVFpa6vPYULnrrpFnbN9mUyW+mzXrr7W2n3lmpk/jpk9/rNb2E0/4/heANWtW1tp+5ZU1Po+1qw+MDL9N4Vnd8XjttVdsqiQ0PBObhz+rv88+O/OM7aeCUlO48Kz6eixY8FxIntez6luz7fvqr2fVt2bb99Vfz6qvxxtv+B72Pau+Ndu+TciRIjzmhdCs/npWfT2ibfXXs+rr4c/q75nBY9asvwSlpsZ4Vm49/FnBbcrYprzeVauWy+32LB64tGrVcp/Hhopn1bdmO/xXfz2rvh5bt+b5NM6z6uvhz+qvZ9XXY+nSxT6PtasPCL+wjGfV1+PMN83IVztseP4HRl2eVV8Pp9NZzz2ByFV3scD/w5IiSVNeb35+nncecDqdys/fEtTaEBns6gPCLyzzrW+dX2v7298+v557RipH7S2Ho577ITa29tcL4uL4ugGiT6tWrWttt27dup57RoemvN6rr073zgNxcXG6+upeQa0NkcGuPiD8+um6626otX399Rk2VRIadSe3Nj6PHTNm3Bnb44NSU7gYObL2sba33XZnSJ63ZcuWZ2z7/obTrFmzM7ab+zw2Pb1Pre1rrvH9C3533XXPGdu+fwkjEoTHvBCaD19nfog9//xOIXneUElOrn0+sfbtU3weO3bsfWds/yYoNTWmU6fOtbY7d+4akrFNeb2DBt3kXTBwOGI0aNBNPo8NlebNm5+x3cKmSnx35ZU9a21fdVW6T+MuvvjSWtuXXPIDn5/z5z8fXmt76NBbfR5rVx8YGX7PPK2PP6f5GTnyl7W2z3a2Bys0peamjH3mmdrHtfpzqrO0tM7e1d9vf/v8sDzVWVN+Ntdd10+ewOFwOEJ2todnn51/xrbv37B+7rlFZ2z7/sWsO++8u9a2P2d7uOqqn3hXf+Pi4sLybA+RNi/Urdf3U5015bWeedaWaDvV2YwZtY9P9+dUZ9///qXeBYPWrVv7feqvQP3hD4/X2vbndGVNGduU15uU1E69evWRw+FQr159wvJUZ3PmLDxjO/xPdXbmBxJfz/bw4IMP1dr251RnmZmDa237c7YHu/rAyPDbVJ5Vnmhf9fWomdx8X/X1GDNmnFq2bBl1q74entXfUK36enhWf/1Z9fXwrP76s+rr4Vn99WfV18Oz+httq74e9s4LoT3kxrP6G22rvh6e1V9/Vn09xo69Tw6HI2Srvh6eFVx/Vm6DMbYpr3fQoJvUvft3w3LV18Oz+hsJq74entVfX1d9PTyrv/6s+np4Vn/9WfX1sKMPHO4I+5ZOSUm5XK6IKrmWSDzPL6xBL0CiD1CDXoAHvdA0MTEOtW+fUP/+ENYCAAAA2IrwCwAAAGMQfgEAAGAMwi8AAACMwRfeQiAvb7O2bNkkSSosLJB06jRgHr169VF6eu/QF4aQOr0PJHrBZMwJkJgTUKOxXqAP/NPYF964zFKIheO5DGEPegESfYAa9AI86AVr2bLyO2LECB06dMh7SbtHH31UPXr08GlsJK78AgAAIDTCbuXX7XaroKBAr7/+ujf8AgAAAKEQ8i+8ff7555Kk22+/Xf/v//0/LV68ONQlAAAAwFAhX3o9cuSIevbsqYcfflhVVVUaOXKkunTpop/85CehLgUAAACGsf1sD/Pnz9fevXuVnZ1tZxkAAAAwQMhXft955x1VVVWpZ8+ekk4dA+zPsb984Q0AAAD1aewLbyE/5vfo0aOaPn26KioqVF5erpdfflnXX399qMsAAACAgUK+8tu3b1998MEHGjx4sFwul2655RZddtlloS4DAAAABrL9mF9/cdgDAAAA6hN2hz0AAAAAdiH8AgAAwBiEXwAAABiD8AsAAABjEH4BAABgDMIvAAAAjEH4BQAAgDEIvwAAADAG4RcAAADGCPnljZsqJsZhdwkAAAAIU41lxYi7vDEAAAAQKA57AAAAgDEIvwAAADAG4RcAAADGIPwCAADAGIRfAAAAGIPwCwAAAGMQfgEAAGAMwi8AAACMQfgFAACAMQi/EWTNmjUaMGCA+vXrp9zcXLvLgY3Ky8s1cOBA7dmzx+5SYKOnn35aGRkZysjI0PTp0+0uBzZ58sknNWDAAGVkZGjevHl2l4Mw8Pjjj2vChAl2lxG2CL8RYv/+/ZoxY4ZeeOEFrVy5UkuWLNGnn35qd1mwwQcffKDhw4eroKDA7lJgo/z8fOXl5enll1/WypUr9eGHH+q1116zuyyE2LZt27R161atXr1ay5cv16JFi/T555/bXRZs9NZbb+nll1+2u4ywRviNEPn5+brqqquUlJSkVq1aqX///tqwYYPdZcEGS5cu1eTJk5Wammp3KbBRSkqKJkyYoGbNmik+Pl4XXHCB9u7da3dZCLErr7xSCxcuVFxcnEpKSlRdXa1WrVrZXRZsUlpaqhkzZmjMmDF2lxLW4uwuAL45cOCAUlJSvNupqanavn27jRXBLo899pjdJSAMdOvWzfvvgoICrV+/Xi+++KKNFcEu8fHxeuqpp/T888/rhhtu0Lnnnmt3SbDJ//3f/+n+++/Xvn377C4lrLHyGyFcLpccDod32+1219oGYKbdu3fr9ttv14MPPqjOnTvbXQ5sMn78eL311lvat2+fli5danc5sME//vEPnXfeeerZs6fdpYQ9Vn4jRIcOHfTOO+94t4uLi/mzN2C4d999V+PHj1d2drYyMjLsLgc2+Oyzz1RZWamLLrpILVu2VL9+/bRr1y67y4IN1q1bp+LiYg0aNEhlZWU6fvy4pk6dquzsbLtLCzuE3whx9dVXa+bMmTp06JBatmypV199VX/4wx/sLguATfbt26exY8dqxowZrPQYbM+ePXrqqae8h7xs3LhRN910k81VwQ6nn+ljxYoV2rZtG8G3HoTfCHHuuefq/vvv18iRI1VVVaWf//znuvTSS+0uC4BN5s6dq4qKCk2bNs1727BhwzR8+HAbq0Ko9e7dW9u3b9fgwYMVGxurfv368VcAoBEOt9vttrsIAAAAIBT4whsAAACMQfgFAACAMQi/AAAAMAbhFwAAAMYg/AIAAMAYhF8AAAAYg/ALAA14++23NXDgwKA+5tGjRzVy5Ejv9qBBg3TkyJGgPkdDZs6cqUcffTTg8ZMmTdLOnTuDWBEAhA7hFwBCrKysTDt27PBur1q1Sm3btrWxIv/k5+eLU8QDiFSEXwDwwdGjR/XAAw9o4MCByszM1PTp0+V0OiVJH3zwgW6++WYNHDhQN954o9566y1J0rJly3TzzTdr8ODB6tu3r1544QVJ0sSJE3Xy5EkNGjRI1dXVuvDCC3Xo0CFJ0qxZszRgwABlZmZq/PjxKi4uliSNGDFCf/7zn5WVlaVrr71WDz30kFwuV4M1O51O5eTkqH///howYIAeeughVVZW1rrPtddeWyuIe7adTqcmT56szMxMDRkyROPHj9exY8c0Y8YMHThwQA888IA++OADHT16VBMmTNCQIUOUmZmpqVOnen8u3//+93Xvvfeqf//+tZ4DAOxE+AUAH/zxj39UUlKS1qxZo+XLl2vXrl16/vnnVVVVpbFjx2rs2LFau3at/vCHP2jq1KkqLy/XP/7xD82ZM0crV67UjBkz9Kc//UmSlJOToxYtWmjVqlWKjY31Psfy5cu1ZcsWLVu2TGvWrFG3bt00YcIE7/6ioiItWrRIq1ev1htvvKFt27Y1WPMLL7ygDz/8UKtWrdLatWt17NgxrVu3zqfX+9///lfbtm3T6tWrtWLFCnXs2FG7du3S/fffr9TUVD3xxBPq0aOHpk6dqosvvlgrVqzQypUrdfjwYc2bN0+SVFVVpb59++qf//ynLrnkEn9/5ABgiTi7CwCASPDGG2/oxRdflMPhULNmzTRs2DAtWLBAP/nJTxQTE6M+ffpIOrXauWbNGknSs88+q82bN6ugoEAff/yxjh8/3uhzDBkyRK1atZIkjRw5Us8++6x3tbZv376KiYlRQkKC0tLSVFZW1uDj5efna9CgQWrRooUk6a9//aukU8f8NqZ79+6KjY3VzTffrPT0dPXv31+XXnppnftt2rRJO3bs0LJlyyRJJ0+erLX/hz/8YaPPBQChRPgFAB+4XC45HI5a206nU7GxsbVul6RPPvlEbdu21S9+8QsNHTpUV1xxhW644Qa9/vrrAT2HhyfESpLD4Wj0uNu4uNpT/MGDB896qMTpj+MJ2m3bttWqVav03nvvaevWrbrvvvt0xx13KCsrq07NTz75pC644AJJ0pEjR2q9Bk+QB4BwwWEPAOCD9PR0LV68WG63W5WVlVq6dKmuvvpqde3aVQ6HQ2+++aYk6cMPP9Rtt92m9957T8nJybrnnnuUnp7uDb7V1dWKi4tTdXV1nfDaq1cvLV++3LtCvGjRIv3oRz9Ss2bNAqq5Z8+eWrt2rSorK+VyufTII4/olVdeqXWf5ORk75kb3n77be8xxq+//rpGjRqlyy67TOPGjdPgwYO994uNjfWG8vT0dM2fP9/7c7n77ru1ePHigOoFgFAg/AKADyZNmqRDhw4pMzNTmZmZ6tKli8aMGaNmzZpp5syZevrppzVo0CBNnjxZM2fOVN++fXXuuefqhhtu0M9+9jPt27dPycnJKiwsVEpKii699FJlZGTo8OHD3uf4+c9/rp49e+rmm2/Wz372M/3vf//TE088EXDNw4YN08UXX+z9MlpKSopGjBhR6z4PPPCAFi5cqEGDBmnVqlW6+OKLJUnXXHONvvOd72jgwIEaMmSI3n//fY0dO1aSdP311+t3v/ud8vLy9NBDD+n48ePen0v37t31q1/9KuCaAcBqDjfnqwEAAIAhOOYXACJUeXl5nWNwPVq3bu09tRoAoAYrvwAAADAGx/wCAADAGIRfAAAAGIPwCwAAAGMQfgEAAGAMwi8AAACM8f8BiT8BBQI4IJEAAAAASUVORK5CYII=\n",
      "text/plain": [
       "<Figure size 842.4x595.44 with 1 Axes>"
      ]
     },
     "metadata": {},
     "output_type": "display_data"
    }
   ],
   "source": [
    "sns.boxplot(data=filtered_accepted, x='location_cluster', y='int_rate', hue='grade')"
   ]
  },
  {
   "cell_type": "code",
   "execution_count": 315,
   "metadata": {},
   "outputs": [
    {
     "data": {
      "text/plain": [
       "count    663683.000000\n",
       "mean         13.052636\n",
       "std           4.879733\n",
       "min           5.310000\n",
       "25%           9.440000\n",
       "50%          12.620000\n",
       "75%          15.770000\n",
       "max          30.990000\n",
       "Name: int_rate, dtype: float64"
      ]
     },
     "execution_count": 315,
     "metadata": {},
     "output_type": "execute_result"
    }
   ],
   "source": [
    "filtered_accepted[filtered_accepted['location_cluster'] == 0]['int_rate'].describe()"
   ]
  },
  {
   "cell_type": "code",
   "execution_count": null,
   "metadata": {},
   "outputs": [],
   "source": [
    "filtered_accepted[filtered_accepted['location_cluster'] == 0]['int_rate'].describe()"
   ]
  },
  {
   "cell_type": "code",
   "execution_count": 308,
   "metadata": {},
   "outputs": [
    {
     "data": {
      "text/plain": [
       "0    663683\n",
       "2    487708\n",
       "1    480968\n",
       "3    276361\n",
       "4    121232\n",
       "Name: location_cluster, dtype: int64"
      ]
     },
     "execution_count": 308,
     "metadata": {},
     "output_type": "execute_result"
    }
   ],
   "source": [
    "filtered_accepted['location_cluster'].value_counts()"
   ]
  },
  {
   "cell_type": "code",
   "execution_count": 166,
   "metadata": {},
   "outputs": [
    {
     "data": {
      "text/plain": [
       "count    1.428086e+06\n",
       "mean     1.861239e-01\n",
       "std      1.135613e-01\n",
       "min      0.000000e+00\n",
       "25%      8.894442e-02\n",
       "50%      1.689694e-01\n",
       "75%      2.694194e-01\n",
       "max      6.696182e-01\n",
       "Name: rural_prop, dtype: float64"
      ]
     },
     "execution_count": 166,
     "metadata": {},
     "output_type": "execute_result"
    }
   ],
   "source": [
    "filtered_accepted['rural_prop'].describe()"
   ]
  },
  {
   "cell_type": "code",
   "execution_count": 165,
   "metadata": {},
   "outputs": [
    {
     "data": {
      "text/plain": [
       "3    368616\n",
       "1    330393\n",
       "4    327152\n",
       "0    218868\n",
       "2    183057\n",
       "Name: cluster, dtype: int64"
      ]
     },
     "execution_count": 165,
     "metadata": {},
     "output_type": "execute_result"
    }
   ],
   "source": [
    "filtered_accepted['cluster'].value_counts()"
   ]
  },
  {
   "cell_type": "code",
   "execution_count": 317,
   "metadata": {},
   "outputs": [
    {
     "data": {
      "text/html": [
       "<div>\n",
       "<style scoped>\n",
       "    .dataframe tbody tr th:only-of-type {\n",
       "        vertical-align: middle;\n",
       "    }\n",
       "\n",
       "    .dataframe tbody tr th {\n",
       "        vertical-align: top;\n",
       "    }\n",
       "\n",
       "    .dataframe thead th {\n",
       "        text-align: right;\n",
       "    }\n",
       "</style>\n",
       "<table border=\"1\" class=\"dataframe\">\n",
       "  <thead>\n",
       "    <tr style=\"text-align: right;\">\n",
       "      <th></th>\n",
       "      <th>title</th>\n",
       "      <th>emp_title</th>\n",
       "      <th>emp_length</th>\n",
       "      <th>zip_code</th>\n",
       "      <th>state</th>\n",
       "      <th>loan_amnt</th>\n",
       "      <th>grade</th>\n",
       "      <th>dti</th>\n",
       "      <th>term</th>\n",
       "      <th>int_rate</th>\n",
       "      <th>home_ownership</th>\n",
       "      <th>issue_d</th>\n",
       "      <th>fico</th>\n",
       "      <th>rural_prop</th>\n",
       "      <th>total_pop</th>\n",
       "      <th>location_cluster</th>\n",
       "    </tr>\n",
       "  </thead>\n",
       "  <tbody>\n",
       "    <tr>\n",
       "      <th>0</th>\n",
       "      <td>Debt Consolidation</td>\n",
       "      <td>leadman</td>\n",
       "      <td>10+ years</td>\n",
       "      <td>190xx</td>\n",
       "      <td>PA</td>\n",
       "      <td>3600.0</td>\n",
       "      <td>C</td>\n",
       "      <td>5.91</td>\n",
       "      <td>36 months</td>\n",
       "      <td>13.99</td>\n",
       "      <td>MORTGAGE</td>\n",
       "      <td>12-2015</td>\n",
       "      <td>677.0</td>\n",
       "      <td>0.224589</td>\n",
       "      <td>5567315</td>\n",
       "      <td>0</td>\n",
       "    </tr>\n",
       "    <tr>\n",
       "      <th>1</th>\n",
       "      <td>Other</td>\n",
       "      <td>Contract Specialist</td>\n",
       "      <td>3 years</td>\n",
       "      <td>174xx</td>\n",
       "      <td>PA</td>\n",
       "      <td>10400.0</td>\n",
       "      <td>F</td>\n",
       "      <td>25.37</td>\n",
       "      <td>60 months</td>\n",
       "      <td>22.45</td>\n",
       "      <td>MORTGAGE</td>\n",
       "      <td>12-2015</td>\n",
       "      <td>697.0</td>\n",
       "      <td>0.224589</td>\n",
       "      <td>5567315</td>\n",
       "      <td>0</td>\n",
       "    </tr>\n",
       "    <tr>\n",
       "      <th>2</th>\n",
       "      <td>Credit Card</td>\n",
       "      <td>SERVICE MANAGER</td>\n",
       "      <td>6 years</td>\n",
       "      <td>160xx</td>\n",
       "      <td>PA</td>\n",
       "      <td>10000.0</td>\n",
       "      <td>A</td>\n",
       "      <td>13.07</td>\n",
       "      <td>36 months</td>\n",
       "      <td>6.49</td>\n",
       "      <td>RENT</td>\n",
       "      <td>12-2015</td>\n",
       "      <td>687.0</td>\n",
       "      <td>0.224589</td>\n",
       "      <td>5567315</td>\n",
       "      <td>0</td>\n",
       "    </tr>\n",
       "    <tr>\n",
       "      <th>3</th>\n",
       "      <td>Debt Consolidation</td>\n",
       "      <td>Mechanic</td>\n",
       "      <td>10+ years</td>\n",
       "      <td>172xx</td>\n",
       "      <td>PA</td>\n",
       "      <td>18000.0</td>\n",
       "      <td>A</td>\n",
       "      <td>15.56</td>\n",
       "      <td>36 months</td>\n",
       "      <td>7.91</td>\n",
       "      <td>MORTGAGE</td>\n",
       "      <td>12-2015</td>\n",
       "      <td>742.0</td>\n",
       "      <td>0.224589</td>\n",
       "      <td>5567315</td>\n",
       "      <td>0</td>\n",
       "    </tr>\n",
       "    <tr>\n",
       "      <th>4</th>\n",
       "      <td>Debt Consolidation</td>\n",
       "      <td>Graduate Student</td>\n",
       "      <td>1 year</td>\n",
       "      <td>191xx</td>\n",
       "      <td>PA</td>\n",
       "      <td>3600.0</td>\n",
       "      <td>C</td>\n",
       "      <td>26.45</td>\n",
       "      <td>36 months</td>\n",
       "      <td>13.44</td>\n",
       "      <td>RENT</td>\n",
       "      <td>12-2015</td>\n",
       "      <td>712.0</td>\n",
       "      <td>0.224589</td>\n",
       "      <td>5567315</td>\n",
       "      <td>0</td>\n",
       "    </tr>\n",
       "    <tr>\n",
       "      <th>...</th>\n",
       "      <td>...</td>\n",
       "      <td>...</td>\n",
       "      <td>...</td>\n",
       "      <td>...</td>\n",
       "      <td>...</td>\n",
       "      <td>...</td>\n",
       "      <td>...</td>\n",
       "      <td>...</td>\n",
       "      <td>...</td>\n",
       "      <td>...</td>\n",
       "      <td>...</td>\n",
       "      <td>...</td>\n",
       "      <td>...</td>\n",
       "      <td>...</td>\n",
       "      <td>...</td>\n",
       "      <td>...</td>\n",
       "    </tr>\n",
       "    <tr>\n",
       "      <th>2029947</th>\n",
       "      <td>Debt Consolidation</td>\n",
       "      <td>Sr Loan officer</td>\n",
       "      <td>8 years</td>\n",
       "      <td>837xx</td>\n",
       "      <td>ID</td>\n",
       "      <td>26500.0</td>\n",
       "      <td>C</td>\n",
       "      <td>16.66</td>\n",
       "      <td>60 months</td>\n",
       "      <td>13.99</td>\n",
       "      <td>RENT</td>\n",
       "      <td>10-2016</td>\n",
       "      <td>707.0</td>\n",
       "      <td>0.329936</td>\n",
       "      <td>667796</td>\n",
       "      <td>0</td>\n",
       "    </tr>\n",
       "    <tr>\n",
       "      <th>2029948</th>\n",
       "      <td>Debt Consolidation</td>\n",
       "      <td>science teacher</td>\n",
       "      <td>4 years</td>\n",
       "      <td>833xx</td>\n",
       "      <td>ID</td>\n",
       "      <td>12000.0</td>\n",
       "      <td>C</td>\n",
       "      <td>26.91</td>\n",
       "      <td>36 months</td>\n",
       "      <td>14.49</td>\n",
       "      <td>RENT</td>\n",
       "      <td>10-2016</td>\n",
       "      <td>672.0</td>\n",
       "      <td>0.329936</td>\n",
       "      <td>667796</td>\n",
       "      <td>0</td>\n",
       "    </tr>\n",
       "    <tr>\n",
       "      <th>2029949</th>\n",
       "      <td>Credit Card</td>\n",
       "      <td>NaN</td>\n",
       "      <td>NaN</td>\n",
       "      <td>836xx</td>\n",
       "      <td>ID</td>\n",
       "      <td>5000.0</td>\n",
       "      <td>B</td>\n",
       "      <td>11.27</td>\n",
       "      <td>36 months</td>\n",
       "      <td>9.49</td>\n",
       "      <td>RENT</td>\n",
       "      <td>10-2016</td>\n",
       "      <td>697.0</td>\n",
       "      <td>0.329936</td>\n",
       "      <td>667796</td>\n",
       "      <td>0</td>\n",
       "    </tr>\n",
       "    <tr>\n",
       "      <th>2029950</th>\n",
       "      <td>Debt Consolidation</td>\n",
       "      <td>Quality Assurance Lead</td>\n",
       "      <td>3 years</td>\n",
       "      <td>836xx</td>\n",
       "      <td>ID</td>\n",
       "      <td>16000.0</td>\n",
       "      <td>C</td>\n",
       "      <td>25.69</td>\n",
       "      <td>36 months</td>\n",
       "      <td>13.49</td>\n",
       "      <td>RENT</td>\n",
       "      <td>10-2016</td>\n",
       "      <td>667.0</td>\n",
       "      <td>0.329936</td>\n",
       "      <td>667796</td>\n",
       "      <td>0</td>\n",
       "    </tr>\n",
       "    <tr>\n",
       "      <th>2029951</th>\n",
       "      <td>Car</td>\n",
       "      <td>Production Processor</td>\n",
       "      <td>1 year</td>\n",
       "      <td>511xx</td>\n",
       "      <td>IA</td>\n",
       "      <td>6725.0</td>\n",
       "      <td>C</td>\n",
       "      <td>20.20</td>\n",
       "      <td>36 months</td>\n",
       "      <td>15.61</td>\n",
       "      <td>RENT</td>\n",
       "      <td>03-2014</td>\n",
       "      <td>667.0</td>\n",
       "      <td>0.365166</td>\n",
       "      <td>1336417</td>\n",
       "      <td>4</td>\n",
       "    </tr>\n",
       "  </tbody>\n",
       "</table>\n",
       "<p>2029952 rows × 16 columns</p>\n",
       "</div>"
      ],
      "text/plain": [
       "                      title               emp_title emp_length zip_code state  \\\n",
       "0        Debt Consolidation                 leadman  10+ years    190xx    PA   \n",
       "1                     Other     Contract Specialist    3 years    174xx    PA   \n",
       "2               Credit Card         SERVICE MANAGER    6 years    160xx    PA   \n",
       "3        Debt Consolidation                Mechanic  10+ years    172xx    PA   \n",
       "4        Debt Consolidation       Graduate Student      1 year    191xx    PA   \n",
       "...                     ...                     ...        ...      ...   ...   \n",
       "2029947  Debt Consolidation        Sr Loan officer     8 years    837xx    ID   \n",
       "2029948  Debt Consolidation         science teacher    4 years    833xx    ID   \n",
       "2029949         Credit Card                     NaN        NaN    836xx    ID   \n",
       "2029950  Debt Consolidation  Quality Assurance Lead    3 years    836xx    ID   \n",
       "2029951                 Car    Production Processor     1 year    511xx    IA   \n",
       "\n",
       "         loan_amnt grade    dti        term  int_rate home_ownership  issue_d  \\\n",
       "0           3600.0     C   5.91   36 months     13.99       MORTGAGE  12-2015   \n",
       "1          10400.0     F  25.37   60 months     22.45       MORTGAGE  12-2015   \n",
       "2          10000.0     A  13.07   36 months      6.49           RENT  12-2015   \n",
       "3          18000.0     A  15.56   36 months      7.91       MORTGAGE  12-2015   \n",
       "4           3600.0     C  26.45   36 months     13.44           RENT  12-2015   \n",
       "...            ...   ...    ...         ...       ...            ...      ...   \n",
       "2029947    26500.0     C  16.66   60 months     13.99           RENT  10-2016   \n",
       "2029948    12000.0     C  26.91   36 months     14.49           RENT  10-2016   \n",
       "2029949     5000.0     B  11.27   36 months      9.49           RENT  10-2016   \n",
       "2029950    16000.0     C  25.69   36 months     13.49           RENT  10-2016   \n",
       "2029951     6725.0     C  20.20   36 months     15.61           RENT  03-2014   \n",
       "\n",
       "          fico  rural_prop  total_pop  location_cluster  \n",
       "0        677.0    0.224589    5567315                 0  \n",
       "1        697.0    0.224589    5567315                 0  \n",
       "2        687.0    0.224589    5567315                 0  \n",
       "3        742.0    0.224589    5567315                 0  \n",
       "4        712.0    0.224589    5567315                 0  \n",
       "...        ...         ...        ...               ...  \n",
       "2029947  707.0    0.329936     667796                 0  \n",
       "2029948  672.0    0.329936     667796                 0  \n",
       "2029949  697.0    0.329936     667796                 0  \n",
       "2029950  667.0    0.329936     667796                 0  \n",
       "2029951  667.0    0.365166    1336417                 4  \n",
       "\n",
       "[2029952 rows x 16 columns]"
      ]
     },
     "execution_count": 317,
     "metadata": {},
     "output_type": "execute_result"
    }
   ],
   "source": [
    "filtered_accepted"
   ]
  },
  {
   "cell_type": "code",
   "execution_count": 352,
   "metadata": {},
   "outputs": [
    {
     "data": {
      "text/plain": [
       "array([ 791322, 1532095,  507853,  174190, 1450004])"
      ]
     },
     "execution_count": 352,
     "metadata": {},
     "output_type": "execute_result"
    }
   ],
   "source": [
    "np.random.choice(np.arange(clustering_df.shape[0]), 5)"
   ]
  },
  {
   "cell_type": "code",
   "execution_count": 358,
   "metadata": {
    "scrolled": true
   },
   "outputs": [
    {
     "data": {
      "text/plain": [
       "<matplotlib.axes._subplots.AxesSubplot at 0x7fafc97ae250>"
      ]
     },
     "execution_count": 358,
     "metadata": {},
     "output_type": "execute_result"
    },
    {
     "data": {
      "image/png": "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\n",
      "text/plain": [
       "<Figure size 842.4x595.44 with 1 Axes>"
      ]
     },
     "metadata": {},
     "output_type": "display_data"
    }
   ],
   "source": [
    "from sklearn.manifold import TSNE\n",
    "\n",
    "random_samples = np.random.choice(np.arange(clustering_df.shape[0]), 2000)\n",
    "\n",
    "m = TSNE(learning_rate=50)\n",
    "tsne_features = m.fit_transform(clustering_df.iloc[random_samples])\n",
    "sns.scatterplot(x=tsne_features[:, 0], y=tsne_features[:, 1], hue=filtered_accepted['cluster'].iloc[random_samples])"
   ]
  },
  {
   "cell_type": "code",
   "execution_count": 383,
   "metadata": {},
   "outputs": [
    {
     "data": {
      "application/vnd.plotly.v1+json": {
       "config": {
        "plotlyServerURL": "https://plot.ly"
       },
       "data": [
        {
         "coloraxis": "coloraxis",
         "geo": "geo",
         "hovertemplate": "state=%{location}<br>int_rate=%{z}<extra></extra>",
         "locationmode": "USA-states",
         "locations": [
          "AK",
          "AL",
          "AR",
          "AZ",
          "CA",
          "CO",
          "CT",
          "DC",
          "DE",
          "FL",
          "GA",
          "HI",
          "ID",
          "IL",
          "IN",
          "KS",
          "KY",
          "LA",
          "MA",
          "MD",
          "ME",
          "MI",
          "MN",
          "MO",
          "MS",
          "MT",
          "NC",
          "ND",
          "NE",
          "NH",
          "NJ",
          "NM",
          "NV",
          "NY",
          "OH",
          "OK",
          "OR",
          "PA",
          "RI",
          "SC",
          "SD",
          "TN",
          "TX",
          "UT",
          "VA",
          "VT",
          "WA",
          "WI",
          "WV",
          "WY"
         ],
         "name": "",
         "type": "choropleth",
         "z": [
          -0.050912197428075956,
          0.20907641935051302,
          0.2505241150358941,
          -0.20453513673682444,
          -0.15442669932899022,
          -0.19834517649251815,
          -0.045437769448067655,
          -0.47129882572514425,
          -0.08694728453548173,
          -0.04315716284607518,
          -0.050440910550067386,
          0.16029200717253822,
          0.17910747040413,
          -0.08448372318908248,
          0.07492780043433456,
          0.06452371484010477,
          0.026946162849556643,
          0.10492424845378778,
          -0.2855514142103335,
          -0.07771256686896955,
          -0.006648747544621969,
          0.0006262032493200564,
          -0.0923766929241907,
          0.00684751319241883,
          0.20074883816566036,
          -0.07462212815928027,
          0.017125801147336972,
          0.33482657992367315,
          0.2066156553824925,
          -0.1671960712413263,
          -0.14849695545446195,
          0.028504454296466974,
          -0.03167648599058204,
          0.06478514701456817,
          0.06958381464380459,
          0.18838104071446082,
          -0.16539330926033102,
          0.07309869139582759,
          -0.11071375551891194,
          0.02205303997654795,
          0.21352699665459873,
          0.05755509758776256,
          -0.02760068804596827,
          -0.053723613200247655,
          -0.09687599649437217,
          0.09514715138637797,
          -0.08577762940581657,
          -0.017626618141997952,
          -0.002618342920344574,
          0.18484793838986668
         ]
        }
       ],
       "layout": {
        "coloraxis": {
         "colorbar": {
          "title": {
           "text": "int_rate"
          }
         },
         "colorscale": [
          [
           0,
           "rgb(103,0,31)"
          ],
          [
           0.1,
           "rgb(178,24,43)"
          ],
          [
           0.2,
           "rgb(214,96,77)"
          ],
          [
           0.3,
           "rgb(244,165,130)"
          ],
          [
           0.4,
           "rgb(253,219,199)"
          ],
          [
           0.5,
           "rgb(247,247,247)"
          ],
          [
           0.6,
           "rgb(209,229,240)"
          ],
          [
           0.7,
           "rgb(146,197,222)"
          ],
          [
           0.8,
           "rgb(67,147,195)"
          ],
          [
           0.9,
           "rgb(33,102,172)"
          ],
          [
           1,
           "rgb(5,48,97)"
          ]
         ]
        },
        "geo": {
         "center": {},
         "domain": {
          "x": [
           0,
           1
          ],
          "y": [
           0,
           1
          ]
         },
         "scope": "usa"
        },
        "legend": {
         "tracegroupgap": 0
        },
        "margin": {
         "t": 60
        },
        "template": {
         "data": {
          "bar": [
           {
            "error_x": {
             "color": "#2a3f5f"
            },
            "error_y": {
             "color": "#2a3f5f"
            },
            "marker": {
             "line": {
              "color": "#E5ECF6",
              "width": 0.5
             },
             "pattern": {
              "fillmode": "overlay",
              "size": 10,
              "solidity": 0.2
             }
            },
            "type": "bar"
           }
          ],
          "barpolar": [
           {
            "marker": {
             "line": {
              "color": "#E5ECF6",
              "width": 0.5
             },
             "pattern": {
              "fillmode": "overlay",
              "size": 10,
              "solidity": 0.2
             }
            },
            "type": "barpolar"
           }
          ],
          "carpet": [
           {
            "aaxis": {
             "endlinecolor": "#2a3f5f",
             "gridcolor": "white",
             "linecolor": "white",
             "minorgridcolor": "white",
             "startlinecolor": "#2a3f5f"
            },
            "baxis": {
             "endlinecolor": "#2a3f5f",
             "gridcolor": "white",
             "linecolor": "white",
             "minorgridcolor": "white",
             "startlinecolor": "#2a3f5f"
            },
            "type": "carpet"
           }
          ],
          "choropleth": [
           {
            "colorbar": {
             "outlinewidth": 0,
             "ticks": ""
            },
            "type": "choropleth"
           }
          ],
          "contour": [
           {
            "colorbar": {
             "outlinewidth": 0,
             "ticks": ""
            },
            "colorscale": [
             [
              0,
              "#0d0887"
             ],
             [
              0.1111111111111111,
              "#46039f"
             ],
             [
              0.2222222222222222,
              "#7201a8"
             ],
             [
              0.3333333333333333,
              "#9c179e"
             ],
             [
              0.4444444444444444,
              "#bd3786"
             ],
             [
              0.5555555555555556,
              "#d8576b"
             ],
             [
              0.6666666666666666,
              "#ed7953"
             ],
             [
              0.7777777777777778,
              "#fb9f3a"
             ],
             [
              0.8888888888888888,
              "#fdca26"
             ],
             [
              1,
              "#f0f921"
             ]
            ],
            "type": "contour"
           }
          ],
          "contourcarpet": [
           {
            "colorbar": {
             "outlinewidth": 0,
             "ticks": ""
            },
            "type": "contourcarpet"
           }
          ],
          "heatmap": [
           {
            "colorbar": {
             "outlinewidth": 0,
             "ticks": ""
            },
            "colorscale": [
             [
              0,
              "#0d0887"
             ],
             [
              0.1111111111111111,
              "#46039f"
             ],
             [
              0.2222222222222222,
              "#7201a8"
             ],
             [
              0.3333333333333333,
              "#9c179e"
             ],
             [
              0.4444444444444444,
              "#bd3786"
             ],
             [
              0.5555555555555556,
              "#d8576b"
             ],
             [
              0.6666666666666666,
              "#ed7953"
             ],
             [
              0.7777777777777778,
              "#fb9f3a"
             ],
             [
              0.8888888888888888,
              "#fdca26"
             ],
             [
              1,
              "#f0f921"
             ]
            ],
            "type": "heatmap"
           }
          ],
          "heatmapgl": [
           {
            "colorbar": {
             "outlinewidth": 0,
             "ticks": ""
            },
            "colorscale": [
             [
              0,
              "#0d0887"
             ],
             [
              0.1111111111111111,
              "#46039f"
             ],
             [
              0.2222222222222222,
              "#7201a8"
             ],
             [
              0.3333333333333333,
              "#9c179e"
             ],
             [
              0.4444444444444444,
              "#bd3786"
             ],
             [
              0.5555555555555556,
              "#d8576b"
             ],
             [
              0.6666666666666666,
              "#ed7953"
             ],
             [
              0.7777777777777778,
              "#fb9f3a"
             ],
             [
              0.8888888888888888,
              "#fdca26"
             ],
             [
              1,
              "#f0f921"
             ]
            ],
            "type": "heatmapgl"
           }
          ],
          "histogram": [
           {
            "marker": {
             "pattern": {
              "fillmode": "overlay",
              "size": 10,
              "solidity": 0.2
             }
            },
            "type": "histogram"
           }
          ],
          "histogram2d": [
           {
            "colorbar": {
             "outlinewidth": 0,
             "ticks": ""
            },
            "colorscale": [
             [
              0,
              "#0d0887"
             ],
             [
              0.1111111111111111,
              "#46039f"
             ],
             [
              0.2222222222222222,
              "#7201a8"
             ],
             [
              0.3333333333333333,
              "#9c179e"
             ],
             [
              0.4444444444444444,
              "#bd3786"
             ],
             [
              0.5555555555555556,
              "#d8576b"
             ],
             [
              0.6666666666666666,
              "#ed7953"
             ],
             [
              0.7777777777777778,
              "#fb9f3a"
             ],
             [
              0.8888888888888888,
              "#fdca26"
             ],
             [
              1,
              "#f0f921"
             ]
            ],
            "type": "histogram2d"
           }
          ],
          "histogram2dcontour": [
           {
            "colorbar": {
             "outlinewidth": 0,
             "ticks": ""
            },
            "colorscale": [
             [
              0,
              "#0d0887"
             ],
             [
              0.1111111111111111,
              "#46039f"
             ],
             [
              0.2222222222222222,
              "#7201a8"
             ],
             [
              0.3333333333333333,
              "#9c179e"
             ],
             [
              0.4444444444444444,
              "#bd3786"
             ],
             [
              0.5555555555555556,
              "#d8576b"
             ],
             [
              0.6666666666666666,
              "#ed7953"
             ],
             [
              0.7777777777777778,
              "#fb9f3a"
             ],
             [
              0.8888888888888888,
              "#fdca26"
             ],
             [
              1,
              "#f0f921"
             ]
            ],
            "type": "histogram2dcontour"
           }
          ],
          "mesh3d": [
           {
            "colorbar": {
             "outlinewidth": 0,
             "ticks": ""
            },
            "type": "mesh3d"
           }
          ],
          "parcoords": [
           {
            "line": {
             "colorbar": {
              "outlinewidth": 0,
              "ticks": ""
             }
            },
            "type": "parcoords"
           }
          ],
          "pie": [
           {
            "automargin": true,
            "type": "pie"
           }
          ],
          "scatter": [
           {
            "marker": {
             "colorbar": {
              "outlinewidth": 0,
              "ticks": ""
             }
            },
            "type": "scatter"
           }
          ],
          "scatter3d": [
           {
            "line": {
             "colorbar": {
              "outlinewidth": 0,
              "ticks": ""
             }
            },
            "marker": {
             "colorbar": {
              "outlinewidth": 0,
              "ticks": ""
             }
            },
            "type": "scatter3d"
           }
          ],
          "scattercarpet": [
           {
            "marker": {
             "colorbar": {
              "outlinewidth": 0,
              "ticks": ""
             }
            },
            "type": "scattercarpet"
           }
          ],
          "scattergeo": [
           {
            "marker": {
             "colorbar": {
              "outlinewidth": 0,
              "ticks": ""
             }
            },
            "type": "scattergeo"
           }
          ],
          "scattergl": [
           {
            "marker": {
             "colorbar": {
              "outlinewidth": 0,
              "ticks": ""
             }
            },
            "type": "scattergl"
           }
          ],
          "scattermapbox": [
           {
            "marker": {
             "colorbar": {
              "outlinewidth": 0,
              "ticks": ""
             }
            },
            "type": "scattermapbox"
           }
          ],
          "scatterpolar": [
           {
            "marker": {
             "colorbar": {
              "outlinewidth": 0,
              "ticks": ""
             }
            },
            "type": "scatterpolar"
           }
          ],
          "scatterpolargl": [
           {
            "marker": {
             "colorbar": {
              "outlinewidth": 0,
              "ticks": ""
             }
            },
            "type": "scatterpolargl"
           }
          ],
          "scatterternary": [
           {
            "marker": {
             "colorbar": {
              "outlinewidth": 0,
              "ticks": ""
             }
            },
            "type": "scatterternary"
           }
          ],
          "surface": [
           {
            "colorbar": {
             "outlinewidth": 0,
             "ticks": ""
            },
            "colorscale": [
             [
              0,
              "#0d0887"
             ],
             [
              0.1111111111111111,
              "#46039f"
             ],
             [
              0.2222222222222222,
              "#7201a8"
             ],
             [
              0.3333333333333333,
              "#9c179e"
             ],
             [
              0.4444444444444444,
              "#bd3786"
             ],
             [
              0.5555555555555556,
              "#d8576b"
             ],
             [
              0.6666666666666666,
              "#ed7953"
             ],
             [
              0.7777777777777778,
              "#fb9f3a"
             ],
             [
              0.8888888888888888,
              "#fdca26"
             ],
             [
              1,
              "#f0f921"
             ]
            ],
            "type": "surface"
           }
          ],
          "table": [
           {
            "cells": {
             "fill": {
              "color": "#EBF0F8"
             },
             "line": {
              "color": "white"
             }
            },
            "header": {
             "fill": {
              "color": "#C8D4E3"
             },
             "line": {
              "color": "white"
             }
            },
            "type": "table"
           }
          ]
         },
         "layout": {
          "annotationdefaults": {
           "arrowcolor": "#2a3f5f",
           "arrowhead": 0,
           "arrowwidth": 1
          },
          "autotypenumbers": "strict",
          "coloraxis": {
           "colorbar": {
            "outlinewidth": 0,
            "ticks": ""
           }
          },
          "colorscale": {
           "diverging": [
            [
             0,
             "#8e0152"
            ],
            [
             0.1,
             "#c51b7d"
            ],
            [
             0.2,
             "#de77ae"
            ],
            [
             0.3,
             "#f1b6da"
            ],
            [
             0.4,
             "#fde0ef"
            ],
            [
             0.5,
             "#f7f7f7"
            ],
            [
             0.6,
             "#e6f5d0"
            ],
            [
             0.7,
             "#b8e186"
            ],
            [
             0.8,
             "#7fbc41"
            ],
            [
             0.9,
             "#4d9221"
            ],
            [
             1,
             "#276419"
            ]
           ],
           "sequential": [
            [
             0,
             "#0d0887"
            ],
            [
             0.1111111111111111,
             "#46039f"
            ],
            [
             0.2222222222222222,
             "#7201a8"
            ],
            [
             0.3333333333333333,
             "#9c179e"
            ],
            [
             0.4444444444444444,
             "#bd3786"
            ],
            [
             0.5555555555555556,
             "#d8576b"
            ],
            [
             0.6666666666666666,
             "#ed7953"
            ],
            [
             0.7777777777777778,
             "#fb9f3a"
            ],
            [
             0.8888888888888888,
             "#fdca26"
            ],
            [
             1,
             "#f0f921"
            ]
           ],
           "sequentialminus": [
            [
             0,
             "#0d0887"
            ],
            [
             0.1111111111111111,
             "#46039f"
            ],
            [
             0.2222222222222222,
             "#7201a8"
            ],
            [
             0.3333333333333333,
             "#9c179e"
            ],
            [
             0.4444444444444444,
             "#bd3786"
            ],
            [
             0.5555555555555556,
             "#d8576b"
            ],
            [
             0.6666666666666666,
             "#ed7953"
            ],
            [
             0.7777777777777778,
             "#fb9f3a"
            ],
            [
             0.8888888888888888,
             "#fdca26"
            ],
            [
             1,
             "#f0f921"
            ]
           ]
          },
          "colorway": [
           "#636efa",
           "#EF553B",
           "#00cc96",
           "#ab63fa",
           "#FFA15A",
           "#19d3f3",
           "#FF6692",
           "#B6E880",
           "#FF97FF",
           "#FECB52"
          ],
          "font": {
           "color": "#2a3f5f"
          },
          "geo": {
           "bgcolor": "white",
           "lakecolor": "white",
           "landcolor": "#E5ECF6",
           "showlakes": true,
           "showland": true,
           "subunitcolor": "white"
          },
          "hoverlabel": {
           "align": "left"
          },
          "hovermode": "closest",
          "mapbox": {
           "style": "light"
          },
          "paper_bgcolor": "white",
          "plot_bgcolor": "#E5ECF6",
          "polar": {
           "angularaxis": {
            "gridcolor": "white",
            "linecolor": "white",
            "ticks": ""
           },
           "bgcolor": "#E5ECF6",
           "radialaxis": {
            "gridcolor": "white",
            "linecolor": "white",
            "ticks": ""
           }
          },
          "scene": {
           "xaxis": {
            "backgroundcolor": "#E5ECF6",
            "gridcolor": "white",
            "gridwidth": 2,
            "linecolor": "white",
            "showbackground": true,
            "ticks": "",
            "zerolinecolor": "white"
           },
           "yaxis": {
            "backgroundcolor": "#E5ECF6",
            "gridcolor": "white",
            "gridwidth": 2,
            "linecolor": "white",
            "showbackground": true,
            "ticks": "",
            "zerolinecolor": "white"
           },
           "zaxis": {
            "backgroundcolor": "#E5ECF6",
            "gridcolor": "white",
            "gridwidth": 2,
            "linecolor": "white",
            "showbackground": true,
            "ticks": "",
            "zerolinecolor": "white"
           }
          },
          "shapedefaults": {
           "line": {
            "color": "#2a3f5f"
           }
          },
          "ternary": {
           "aaxis": {
            "gridcolor": "white",
            "linecolor": "white",
            "ticks": ""
           },
           "baxis": {
            "gridcolor": "white",
            "linecolor": "white",
            "ticks": ""
           },
           "bgcolor": "#E5ECF6",
           "caxis": {
            "gridcolor": "white",
            "linecolor": "white",
            "ticks": ""
           }
          },
          "title": {
           "x": 0.05
          },
          "xaxis": {
           "automargin": true,
           "gridcolor": "white",
           "linecolor": "white",
           "ticks": "",
           "title": {
            "standoff": 15
           },
           "zerolinecolor": "white",
           "zerolinewidth": 2
          },
          "yaxis": {
           "automargin": true,
           "gridcolor": "white",
           "linecolor": "white",
           "ticks": "",
           "title": {
            "standoff": 15
           },
           "zerolinecolor": "white",
           "zerolinewidth": 2
          }
         }
        }
       }
      },
      "text/html": [
       "<div>                            <div id=\"49c987d3-958a-4c80-a6e0-115f6d782911\" class=\"plotly-graph-div\" style=\"height:525px; width:100%;\"></div>            <script type=\"text/javascript\">                require([\"plotly\"], function(Plotly) {                    window.PLOTLYENV=window.PLOTLYENV || {};                                    if (document.getElementById(\"49c987d3-958a-4c80-a6e0-115f6d782911\")) {                    Plotly.newPlot(                        \"49c987d3-958a-4c80-a6e0-115f6d782911\",                        [{\"coloraxis\":\"coloraxis\",\"geo\":\"geo\",\"hovertemplate\":\"state=%{location}<br>int_rate=%{z}<extra></extra>\",\"locationmode\":\"USA-states\",\"locations\":[\"AK\",\"AL\",\"AR\",\"AZ\",\"CA\",\"CO\",\"CT\",\"DC\",\"DE\",\"FL\",\"GA\",\"HI\",\"ID\",\"IL\",\"IN\",\"KS\",\"KY\",\"LA\",\"MA\",\"MD\",\"ME\",\"MI\",\"MN\",\"MO\",\"MS\",\"MT\",\"NC\",\"ND\",\"NE\",\"NH\",\"NJ\",\"NM\",\"NV\",\"NY\",\"OH\",\"OK\",\"OR\",\"PA\",\"RI\",\"SC\",\"SD\",\"TN\",\"TX\",\"UT\",\"VA\",\"VT\",\"WA\",\"WI\",\"WV\",\"WY\"],\"name\":\"\",\"type\":\"choropleth\",\"z\":[-0.050912197428075956,0.20907641935051302,0.2505241150358941,-0.20453513673682444,-0.15442669932899022,-0.19834517649251815,-0.045437769448067655,-0.47129882572514425,-0.08694728453548173,-0.04315716284607518,-0.050440910550067386,0.16029200717253822,0.17910747040413,-0.08448372318908248,0.07492780043433456,0.06452371484010477,0.026946162849556643,0.10492424845378778,-0.2855514142103335,-0.07771256686896955,-0.006648747544621969,0.0006262032493200564,-0.0923766929241907,0.00684751319241883,0.20074883816566036,-0.07462212815928027,0.017125801147336972,0.33482657992367315,0.2066156553824925,-0.1671960712413263,-0.14849695545446195,0.028504454296466974,-0.03167648599058204,0.06478514701456817,0.06958381464380459,0.18838104071446082,-0.16539330926033102,0.07309869139582759,-0.11071375551891194,0.02205303997654795,0.21352699665459873,0.05755509758776256,-0.02760068804596827,-0.053723613200247655,-0.09687599649437217,0.09514715138637797,-0.08577762940581657,-0.017626618141997952,-0.002618342920344574,0.18484793838986668]}],                        {\"coloraxis\":{\"colorbar\":{\"title\":{\"text\":\"int_rate\"}},\"colorscale\":[[0.0,\"rgb(103,0,31)\"],[0.1,\"rgb(178,24,43)\"],[0.2,\"rgb(214,96,77)\"],[0.3,\"rgb(244,165,130)\"],[0.4,\"rgb(253,219,199)\"],[0.5,\"rgb(247,247,247)\"],[0.6,\"rgb(209,229,240)\"],[0.7,\"rgb(146,197,222)\"],[0.8,\"rgb(67,147,195)\"],[0.9,\"rgb(33,102,172)\"],[1.0,\"rgb(5,48,97)\"]]},\"geo\":{\"center\":{},\"domain\":{\"x\":[0.0,1.0],\"y\":[0.0,1.0]},\"scope\":\"usa\"},\"legend\":{\"tracegroupgap\":0},\"margin\":{\"t\":60},\"template\":{\"data\":{\"bar\":[{\"error_x\":{\"color\":\"#2a3f5f\"},\"error_y\":{\"color\":\"#2a3f5f\"},\"marker\":{\"line\":{\"color\":\"#E5ECF6\",\"width\":0.5},\"pattern\":{\"fillmode\":\"overlay\",\"size\":10,\"solidity\":0.2}},\"type\":\"bar\"}],\"barpolar\":[{\"marker\":{\"line\":{\"color\":\"#E5ECF6\",\"width\":0.5},\"pattern\":{\"fillmode\":\"overlay\",\"size\":10,\"solidity\":0.2}},\"type\":\"barpolar\"}],\"carpet\":[{\"aaxis\":{\"endlinecolor\":\"#2a3f5f\",\"gridcolor\":\"white\",\"linecolor\":\"white\",\"minorgridcolor\":\"white\",\"startlinecolor\":\"#2a3f5f\"},\"baxis\":{\"endlinecolor\":\"#2a3f5f\",\"gridcolor\":\"white\",\"linecolor\":\"white\",\"minorgridcolor\":\"white\",\"startlinecolor\":\"#2a3f5f\"},\"type\":\"carpet\"}],\"choropleth\":[{\"colorbar\":{\"outlinewidth\":0,\"ticks\":\"\"},\"type\":\"choropleth\"}],\"contour\":[{\"colorbar\":{\"outlinewidth\":0,\"ticks\":\"\"},\"colorscale\":[[0.0,\"#0d0887\"],[0.1111111111111111,\"#46039f\"],[0.2222222222222222,\"#7201a8\"],[0.3333333333333333,\"#9c179e\"],[0.4444444444444444,\"#bd3786\"],[0.5555555555555556,\"#d8576b\"],[0.6666666666666666,\"#ed7953\"],[0.7777777777777778,\"#fb9f3a\"],[0.8888888888888888,\"#fdca26\"],[1.0,\"#f0f921\"]],\"type\":\"contour\"}],\"contourcarpet\":[{\"colorbar\":{\"outlinewidth\":0,\"ticks\":\"\"},\"type\":\"contourcarpet\"}],\"heatmap\":[{\"colorbar\":{\"outlinewidth\":0,\"ticks\":\"\"},\"colorscale\":[[0.0,\"#0d0887\"],[0.1111111111111111,\"#46039f\"],[0.2222222222222222,\"#7201a8\"],[0.3333333333333333,\"#9c179e\"],[0.4444444444444444,\"#bd3786\"],[0.5555555555555556,\"#d8576b\"],[0.6666666666666666,\"#ed7953\"],[0.7777777777777778,\"#fb9f3a\"],[0.8888888888888888,\"#fdca26\"],[1.0,\"#f0f921\"]],\"type\":\"heatmap\"}],\"heatmapgl\":[{\"colorbar\":{\"outlinewidth\":0,\"ticks\":\"\"},\"colorscale\":[[0.0,\"#0d0887\"],[0.1111111111111111,\"#46039f\"],[0.2222222222222222,\"#7201a8\"],[0.3333333333333333,\"#9c179e\"],[0.4444444444444444,\"#bd3786\"],[0.5555555555555556,\"#d8576b\"],[0.6666666666666666,\"#ed7953\"],[0.7777777777777778,\"#fb9f3a\"],[0.8888888888888888,\"#fdca26\"],[1.0,\"#f0f921\"]],\"type\":\"heatmapgl\"}],\"histogram\":[{\"marker\":{\"pattern\":{\"fillmode\":\"overlay\",\"size\":10,\"solidity\":0.2}},\"type\":\"histogram\"}],\"histogram2d\":[{\"colorbar\":{\"outlinewidth\":0,\"ticks\":\"\"},\"colorscale\":[[0.0,\"#0d0887\"],[0.1111111111111111,\"#46039f\"],[0.2222222222222222,\"#7201a8\"],[0.3333333333333333,\"#9c179e\"],[0.4444444444444444,\"#bd3786\"],[0.5555555555555556,\"#d8576b\"],[0.6666666666666666,\"#ed7953\"],[0.7777777777777778,\"#fb9f3a\"],[0.8888888888888888,\"#fdca26\"],[1.0,\"#f0f921\"]],\"type\":\"histogram2d\"}],\"histogram2dcontour\":[{\"colorbar\":{\"outlinewidth\":0,\"ticks\":\"\"},\"colorscale\":[[0.0,\"#0d0887\"],[0.1111111111111111,\"#46039f\"],[0.2222222222222222,\"#7201a8\"],[0.3333333333333333,\"#9c179e\"],[0.4444444444444444,\"#bd3786\"],[0.5555555555555556,\"#d8576b\"],[0.6666666666666666,\"#ed7953\"],[0.7777777777777778,\"#fb9f3a\"],[0.8888888888888888,\"#fdca26\"],[1.0,\"#f0f921\"]],\"type\":\"histogram2dcontour\"}],\"mesh3d\":[{\"colorbar\":{\"outlinewidth\":0,\"ticks\":\"\"},\"type\":\"mesh3d\"}],\"parcoords\":[{\"line\":{\"colorbar\":{\"outlinewidth\":0,\"ticks\":\"\"}},\"type\":\"parcoords\"}],\"pie\":[{\"automargin\":true,\"type\":\"pie\"}],\"scatter\":[{\"marker\":{\"colorbar\":{\"outlinewidth\":0,\"ticks\":\"\"}},\"type\":\"scatter\"}],\"scatter3d\":[{\"line\":{\"colorbar\":{\"outlinewidth\":0,\"ticks\":\"\"}},\"marker\":{\"colorbar\":{\"outlinewidth\":0,\"ticks\":\"\"}},\"type\":\"scatter3d\"}],\"scattercarpet\":[{\"marker\":{\"colorbar\":{\"outlinewidth\":0,\"ticks\":\"\"}},\"type\":\"scattercarpet\"}],\"scattergeo\":[{\"marker\":{\"colorbar\":{\"outlinewidth\":0,\"ticks\":\"\"}},\"type\":\"scattergeo\"}],\"scattergl\":[{\"marker\":{\"colorbar\":{\"outlinewidth\":0,\"ticks\":\"\"}},\"type\":\"scattergl\"}],\"scattermapbox\":[{\"marker\":{\"colorbar\":{\"outlinewidth\":0,\"ticks\":\"\"}},\"type\":\"scattermapbox\"}],\"scatterpolar\":[{\"marker\":{\"colorbar\":{\"outlinewidth\":0,\"ticks\":\"\"}},\"type\":\"scatterpolar\"}],\"scatterpolargl\":[{\"marker\":{\"colorbar\":{\"outlinewidth\":0,\"ticks\":\"\"}},\"type\":\"scatterpolargl\"}],\"scatterternary\":[{\"marker\":{\"colorbar\":{\"outlinewidth\":0,\"ticks\":\"\"}},\"type\":\"scatterternary\"}],\"surface\":[{\"colorbar\":{\"outlinewidth\":0,\"ticks\":\"\"},\"colorscale\":[[0.0,\"#0d0887\"],[0.1111111111111111,\"#46039f\"],[0.2222222222222222,\"#7201a8\"],[0.3333333333333333,\"#9c179e\"],[0.4444444444444444,\"#bd3786\"],[0.5555555555555556,\"#d8576b\"],[0.6666666666666666,\"#ed7953\"],[0.7777777777777778,\"#fb9f3a\"],[0.8888888888888888,\"#fdca26\"],[1.0,\"#f0f921\"]],\"type\":\"surface\"}],\"table\":[{\"cells\":{\"fill\":{\"color\":\"#EBF0F8\"},\"line\":{\"color\":\"white\"}},\"header\":{\"fill\":{\"color\":\"#C8D4E3\"},\"line\":{\"color\":\"white\"}},\"type\":\"table\"}]},\"layout\":{\"annotationdefaults\":{\"arrowcolor\":\"#2a3f5f\",\"arrowhead\":0,\"arrowwidth\":1},\"autotypenumbers\":\"strict\",\"coloraxis\":{\"colorbar\":{\"outlinewidth\":0,\"ticks\":\"\"}},\"colorscale\":{\"diverging\":[[0,\"#8e0152\"],[0.1,\"#c51b7d\"],[0.2,\"#de77ae\"],[0.3,\"#f1b6da\"],[0.4,\"#fde0ef\"],[0.5,\"#f7f7f7\"],[0.6,\"#e6f5d0\"],[0.7,\"#b8e186\"],[0.8,\"#7fbc41\"],[0.9,\"#4d9221\"],[1,\"#276419\"]],\"sequential\":[[0.0,\"#0d0887\"],[0.1111111111111111,\"#46039f\"],[0.2222222222222222,\"#7201a8\"],[0.3333333333333333,\"#9c179e\"],[0.4444444444444444,\"#bd3786\"],[0.5555555555555556,\"#d8576b\"],[0.6666666666666666,\"#ed7953\"],[0.7777777777777778,\"#fb9f3a\"],[0.8888888888888888,\"#fdca26\"],[1.0,\"#f0f921\"]],\"sequentialminus\":[[0.0,\"#0d0887\"],[0.1111111111111111,\"#46039f\"],[0.2222222222222222,\"#7201a8\"],[0.3333333333333333,\"#9c179e\"],[0.4444444444444444,\"#bd3786\"],[0.5555555555555556,\"#d8576b\"],[0.6666666666666666,\"#ed7953\"],[0.7777777777777778,\"#fb9f3a\"],[0.8888888888888888,\"#fdca26\"],[1.0,\"#f0f921\"]]},\"colorway\":[\"#636efa\",\"#EF553B\",\"#00cc96\",\"#ab63fa\",\"#FFA15A\",\"#19d3f3\",\"#FF6692\",\"#B6E880\",\"#FF97FF\",\"#FECB52\"],\"font\":{\"color\":\"#2a3f5f\"},\"geo\":{\"bgcolor\":\"white\",\"lakecolor\":\"white\",\"landcolor\":\"#E5ECF6\",\"showlakes\":true,\"showland\":true,\"subunitcolor\":\"white\"},\"hoverlabel\":{\"align\":\"left\"},\"hovermode\":\"closest\",\"mapbox\":{\"style\":\"light\"},\"paper_bgcolor\":\"white\",\"plot_bgcolor\":\"#E5ECF6\",\"polar\":{\"angularaxis\":{\"gridcolor\":\"white\",\"linecolor\":\"white\",\"ticks\":\"\"},\"bgcolor\":\"#E5ECF6\",\"radialaxis\":{\"gridcolor\":\"white\",\"linecolor\":\"white\",\"ticks\":\"\"}},\"scene\":{\"xaxis\":{\"backgroundcolor\":\"#E5ECF6\",\"gridcolor\":\"white\",\"gridwidth\":2,\"linecolor\":\"white\",\"showbackground\":true,\"ticks\":\"\",\"zerolinecolor\":\"white\"},\"yaxis\":{\"backgroundcolor\":\"#E5ECF6\",\"gridcolor\":\"white\",\"gridwidth\":2,\"linecolor\":\"white\",\"showbackground\":true,\"ticks\":\"\",\"zerolinecolor\":\"white\"},\"zaxis\":{\"backgroundcolor\":\"#E5ECF6\",\"gridcolor\":\"white\",\"gridwidth\":2,\"linecolor\":\"white\",\"showbackground\":true,\"ticks\":\"\",\"zerolinecolor\":\"white\"}},\"shapedefaults\":{\"line\":{\"color\":\"#2a3f5f\"}},\"ternary\":{\"aaxis\":{\"gridcolor\":\"white\",\"linecolor\":\"white\",\"ticks\":\"\"},\"baxis\":{\"gridcolor\":\"white\",\"linecolor\":\"white\",\"ticks\":\"\"},\"bgcolor\":\"#E5ECF6\",\"caxis\":{\"gridcolor\":\"white\",\"linecolor\":\"white\",\"ticks\":\"\"}},\"title\":{\"x\":0.05},\"xaxis\":{\"automargin\":true,\"gridcolor\":\"white\",\"linecolor\":\"white\",\"ticks\":\"\",\"title\":{\"standoff\":15},\"zerolinecolor\":\"white\",\"zerolinewidth\":2},\"yaxis\":{\"automargin\":true,\"gridcolor\":\"white\",\"linecolor\":\"white\",\"ticks\":\"\",\"title\":{\"standoff\":15},\"zerolinecolor\":\"white\",\"zerolinewidth\":2}}}},                        {\"responsive\": true}                    ).then(function(){\n",
       "                            \n",
       "var gd = document.getElementById('49c987d3-958a-4c80-a6e0-115f6d782911');\n",
       "var x = new MutationObserver(function (mutations, observer) {{\n",
       "        var display = window.getComputedStyle(gd).display;\n",
       "        if (!display || display === 'none') {{\n",
       "            console.log([gd, 'removed!']);\n",
       "            Plotly.purge(gd);\n",
       "            observer.disconnect();\n",
       "        }}\n",
       "}});\n",
       "\n",
       "// Listen for the removal of the full notebook cells\n",
       "var notebookContainer = gd.closest('#notebook-container');\n",
       "if (notebookContainer) {{\n",
       "    x.observe(notebookContainer, {childList: true});\n",
       "}}\n",
       "\n",
       "// Listen for the clearing of the current output cell\n",
       "var outputEl = gd.closest('.output');\n",
       "if (outputEl) {{\n",
       "    x.observe(outputEl, {childList: true});\n",
       "}}\n",
       "\n",
       "                        })                };                });            </script>        </div>"
      ]
     },
     "metadata": {},
     "output_type": "display_data"
    }
   ],
   "source": [
    "# Within cluster 2\n",
    "plot_df = filtered_accepted[filtered_accepted['cluster'] == 4]\n",
    "state_int_rate = plot_df.groupby('state').mean()['int_rate']\n",
    "mean_state_int_rate = plot_df.groupby('state').mean()['int_rate'].mean()\n",
    "plot_df = (state_int_rate - mean_state_int_rate).reset_index()\n",
    "\n",
    "fig = px.choropleth(plot_df,\n",
    "                    locations='state', \n",
    "                    locationmode=\"USA-states\", \n",
    "                    scope=\"usa\",\n",
    "                    color='int_rate',\n",
    "                    color_continuous_scale=\"RdBu\")\n",
    "fig.show()"
   ]
  },
  {
   "cell_type": "code",
   "execution_count": 425,
   "metadata": {},
   "outputs": [],
   "source": [
    "cluster_4 = filtered_accepted[filtered_accepted['cluster'] == 4]\n",
    "cluster_4['more_rural'] = (cluster_4['rural_prop'] > cluster_4['rural_prop'].median()).astype('int')\n",
    "cluster_4['higher_int_rate'] = (cluster_4['int_rate'] > cluster_4['int_rate'].median()).astype('int')"
   ]
  },
  {
   "cell_type": "code",
   "execution_count": 426,
   "metadata": {},
   "outputs": [],
   "source": [
    "def estimate_uplift(ds):\n",
    "    base = ds[ds.more_rural == 0]\n",
    "    variant = ds[ds.more_rural == 1]\n",
    "    delta = variant.int_rate.mean() - base.int_rate.mean()\n",
    "    delta_err = 1.96 * np.sqrt(\n",
    "        variant.int_rate.var() / variant.shape[0] + \n",
    "        base.int_rate.var() / base.shape[0])\n",
    "    return {\"estimated_effect\": delta, \"standard_error\": delta_err}"
   ]
  },
  {
   "cell_type": "code",
   "execution_count": 427,
   "metadata": {},
   "outputs": [
    {
     "data": {
      "text/plain": [
       "{'estimated_effect': 0.10864898679111334,\n",
       " 'standard_error': 0.013815378667430078}"
      ]
     },
     "execution_count": 427,
     "metadata": {},
     "output_type": "execute_result"
    }
   ],
   "source": [
    "estimate_uplift(cluster_4)"
   ]
  },
  {
   "cell_type": "code",
   "execution_count": null,
   "metadata": {},
   "outputs": [],
   "source": []
  }
 ],
 "metadata": {
  "kernelspec": {
   "display_name": "Python 3 (ipykernel)",
   "language": "python",
   "name": "python3"
  },
  "language_info": {
   "codemirror_mode": {
    "name": "ipython",
    "version": 3
   },
   "file_extension": ".py",
   "mimetype": "text/x-python",
   "name": "python",
   "nbconvert_exporter": "python",
   "pygments_lexer": "ipython3",
   "version": "3.10.5"
  },
  "varInspector": {
   "cols": {
    "lenName": 16,
    "lenType": 16,
    "lenVar": 40
   },
   "kernels_config": {
    "python": {
     "delete_cmd_postfix": "",
     "delete_cmd_prefix": "del ",
     "library": "var_list.py",
     "varRefreshCmd": "print(var_dic_list())"
    },
    "r": {
     "delete_cmd_postfix": ") ",
     "delete_cmd_prefix": "rm(",
     "library": "var_list.r",
     "varRefreshCmd": "cat(var_dic_list()) "
    }
   },
   "types_to_exclude": [
    "module",
    "function",
    "builtin_function_or_method",
    "instance",
    "_Feature"
   ],
   "window_display": false
  }
 },
 "nbformat": 4,
 "nbformat_minor": 4
}
